{
  "cells": [
    {
      "cell_type": "markdown",
      "metadata": {
        "nbgrader": {
          "grade": false,
          "grade_id": "cell-fc1c39d0d6f8b82a",
          "locked": true,
          "schema_version": 1,
          "solution": false
        },
        "id": "iUa_QLjQbS6t"
      },
      "source": [
        "# Week 14 Programming Assignment\n",
        "\n",
        "As you're working on identifying data for your final project, it's helpful to spend some time exploring your various data files.  For this week's assignment, I'd like you to take a few of the ideas from the the lectures, review assignment, and tonight's lecture to start exploring the data you plan to use for the final project.\n",
        "\n",
        "For the following activities, you can use just one of the data files that you've identified, or you can do the activities using different data files.  That's up to you.  Please describe what you're doing in a Markdown cell or in the comments of your code.  When you've completed the assignment, submit it as normal."
      ]
    },
    {
      "cell_type": "markdown",
      "metadata": {
        "id": "j5E3hAwlbS6x"
      },
      "source": [
        "### 1. Basic Statistics\n",
        "\n",
        "Use Python to read in your data file and show many rows and columns your data has."
      ]
    },
    {
      "cell_type": "code",
      "execution_count": 2,
      "metadata": {
        "id": "hwT7KCR7bS6y",
        "outputId": "71c3a8f7-0be4-4811-a15f-0e1d735bc711",
        "colab": {
          "base_uri": "https://localhost:8080/",
          "height": 429
        }
      },
      "outputs": [
        {
          "output_type": "execute_result",
          "data": {
            "text/plain": [
              "   Year LocationAbbr LocationDesc DataSource    PriorityArea1 PriorityArea2  \\\n",
              "0  2000          MDW      Midwest       NHIS  Million Hearts®           NaN   \n",
              "1  2000          MDW      Midwest       NHIS  Million Hearts®           NaN   \n",
              "2  2000          MDW      Midwest       NHIS  Million Hearts®           NaN   \n",
              "3  2000          MDW      Midwest       NHIS  Million Hearts®           NaN   \n",
              "4  2000          MDW      Midwest       NHIS  Million Hearts®           NaN   \n",
              "\n",
              "  PriorityArea3  PriorityArea4                 Category  \\\n",
              "0           NaN            NaN  Cardiovascular Diseases   \n",
              "1           NaN            NaN  Cardiovascular Diseases   \n",
              "2           NaN            NaN  Cardiovascular Diseases   \n",
              "3           NaN            NaN  Cardiovascular Diseases   \n",
              "4           NaN            NaN  Cardiovascular Diseases   \n",
              "\n",
              "                    Topic  ... Data_Value_Footnote Confidence_limit_Low  \\\n",
              "0  Coronary Heart Disease  ...                 NaN                  3.3   \n",
              "1  Coronary Heart Disease  ...                 NaN                  2.2   \n",
              "2  Coronary Heart Disease  ...                 NaN                  0.5   \n",
              "3  Coronary Heart Disease  ...                 NaN                  3.2   \n",
              "4  Coronary Heart Disease  ...                 NaN                  3.3   \n",
              "\n",
              "  Confidence_limit_High CategoryId TopicId  IndicatorID  BreakOutCategoryId  \\\n",
              "0                   4.5         C1      T4        NS001               BOC04   \n",
              "1                   3.4         C1      T4        NS001               BOC02   \n",
              "2                   2.8         C1      T4        NS001               BOC04   \n",
              "3                   5.2         C1      T4        NS001               BOC03   \n",
              "4                   4.4         C1      T4        NS001               BOC01   \n",
              "\n",
              "   BreakOutId  LocationID  GeoLocation  \n",
              "0       RAC01         103          NaN  \n",
              "1       GEN02         103          NaN  \n",
              "2       RAC04         103          NaN  \n",
              "3       AGE05         103          NaN  \n",
              "4       OVR01         103          NaN  \n",
              "\n",
              "[5 rows x 27 columns]"
            ],
            "text/html": [
              "\n",
              "  <div id=\"df-c9be01cc-badc-4a1f-843b-3e71ad510a7a\" class=\"colab-df-container\">\n",
              "    <div>\n",
              "<style scoped>\n",
              "    .dataframe tbody tr th:only-of-type {\n",
              "        vertical-align: middle;\n",
              "    }\n",
              "\n",
              "    .dataframe tbody tr th {\n",
              "        vertical-align: top;\n",
              "    }\n",
              "\n",
              "    .dataframe thead th {\n",
              "        text-align: right;\n",
              "    }\n",
              "</style>\n",
              "<table border=\"1\" class=\"dataframe\">\n",
              "  <thead>\n",
              "    <tr style=\"text-align: right;\">\n",
              "      <th></th>\n",
              "      <th>Year</th>\n",
              "      <th>LocationAbbr</th>\n",
              "      <th>LocationDesc</th>\n",
              "      <th>DataSource</th>\n",
              "      <th>PriorityArea1</th>\n",
              "      <th>PriorityArea2</th>\n",
              "      <th>PriorityArea3</th>\n",
              "      <th>PriorityArea4</th>\n",
              "      <th>Category</th>\n",
              "      <th>Topic</th>\n",
              "      <th>...</th>\n",
              "      <th>Data_Value_Footnote</th>\n",
              "      <th>Confidence_limit_Low</th>\n",
              "      <th>Confidence_limit_High</th>\n",
              "      <th>CategoryId</th>\n",
              "      <th>TopicId</th>\n",
              "      <th>IndicatorID</th>\n",
              "      <th>BreakOutCategoryId</th>\n",
              "      <th>BreakOutId</th>\n",
              "      <th>LocationID</th>\n",
              "      <th>GeoLocation</th>\n",
              "    </tr>\n",
              "  </thead>\n",
              "  <tbody>\n",
              "    <tr>\n",
              "      <th>0</th>\n",
              "      <td>2000</td>\n",
              "      <td>MDW</td>\n",
              "      <td>Midwest</td>\n",
              "      <td>NHIS</td>\n",
              "      <td>Million Hearts®</td>\n",
              "      <td>NaN</td>\n",
              "      <td>NaN</td>\n",
              "      <td>NaN</td>\n",
              "      <td>Cardiovascular Diseases</td>\n",
              "      <td>Coronary Heart Disease</td>\n",
              "      <td>...</td>\n",
              "      <td>NaN</td>\n",
              "      <td>3.3</td>\n",
              "      <td>4.5</td>\n",
              "      <td>C1</td>\n",
              "      <td>T4</td>\n",
              "      <td>NS001</td>\n",
              "      <td>BOC04</td>\n",
              "      <td>RAC01</td>\n",
              "      <td>103</td>\n",
              "      <td>NaN</td>\n",
              "    </tr>\n",
              "    <tr>\n",
              "      <th>1</th>\n",
              "      <td>2000</td>\n",
              "      <td>MDW</td>\n",
              "      <td>Midwest</td>\n",
              "      <td>NHIS</td>\n",
              "      <td>Million Hearts®</td>\n",
              "      <td>NaN</td>\n",
              "      <td>NaN</td>\n",
              "      <td>NaN</td>\n",
              "      <td>Cardiovascular Diseases</td>\n",
              "      <td>Coronary Heart Disease</td>\n",
              "      <td>...</td>\n",
              "      <td>NaN</td>\n",
              "      <td>2.2</td>\n",
              "      <td>3.4</td>\n",
              "      <td>C1</td>\n",
              "      <td>T4</td>\n",
              "      <td>NS001</td>\n",
              "      <td>BOC02</td>\n",
              "      <td>GEN02</td>\n",
              "      <td>103</td>\n",
              "      <td>NaN</td>\n",
              "    </tr>\n",
              "    <tr>\n",
              "      <th>2</th>\n",
              "      <td>2000</td>\n",
              "      <td>MDW</td>\n",
              "      <td>Midwest</td>\n",
              "      <td>NHIS</td>\n",
              "      <td>Million Hearts®</td>\n",
              "      <td>NaN</td>\n",
              "      <td>NaN</td>\n",
              "      <td>NaN</td>\n",
              "      <td>Cardiovascular Diseases</td>\n",
              "      <td>Coronary Heart Disease</td>\n",
              "      <td>...</td>\n",
              "      <td>NaN</td>\n",
              "      <td>0.5</td>\n",
              "      <td>2.8</td>\n",
              "      <td>C1</td>\n",
              "      <td>T4</td>\n",
              "      <td>NS001</td>\n",
              "      <td>BOC04</td>\n",
              "      <td>RAC04</td>\n",
              "      <td>103</td>\n",
              "      <td>NaN</td>\n",
              "    </tr>\n",
              "    <tr>\n",
              "      <th>3</th>\n",
              "      <td>2000</td>\n",
              "      <td>MDW</td>\n",
              "      <td>Midwest</td>\n",
              "      <td>NHIS</td>\n",
              "      <td>Million Hearts®</td>\n",
              "      <td>NaN</td>\n",
              "      <td>NaN</td>\n",
              "      <td>NaN</td>\n",
              "      <td>Cardiovascular Diseases</td>\n",
              "      <td>Coronary Heart Disease</td>\n",
              "      <td>...</td>\n",
              "      <td>NaN</td>\n",
              "      <td>3.2</td>\n",
              "      <td>5.2</td>\n",
              "      <td>C1</td>\n",
              "      <td>T4</td>\n",
              "      <td>NS001</td>\n",
              "      <td>BOC03</td>\n",
              "      <td>AGE05</td>\n",
              "      <td>103</td>\n",
              "      <td>NaN</td>\n",
              "    </tr>\n",
              "    <tr>\n",
              "      <th>4</th>\n",
              "      <td>2000</td>\n",
              "      <td>MDW</td>\n",
              "      <td>Midwest</td>\n",
              "      <td>NHIS</td>\n",
              "      <td>Million Hearts®</td>\n",
              "      <td>NaN</td>\n",
              "      <td>NaN</td>\n",
              "      <td>NaN</td>\n",
              "      <td>Cardiovascular Diseases</td>\n",
              "      <td>Coronary Heart Disease</td>\n",
              "      <td>...</td>\n",
              "      <td>NaN</td>\n",
              "      <td>3.3</td>\n",
              "      <td>4.4</td>\n",
              "      <td>C1</td>\n",
              "      <td>T4</td>\n",
              "      <td>NS001</td>\n",
              "      <td>BOC01</td>\n",
              "      <td>OVR01</td>\n",
              "      <td>103</td>\n",
              "      <td>NaN</td>\n",
              "    </tr>\n",
              "  </tbody>\n",
              "</table>\n",
              "<p>5 rows × 27 columns</p>\n",
              "</div>\n",
              "    <div class=\"colab-df-buttons\">\n",
              "\n",
              "  <div class=\"colab-df-container\">\n",
              "    <button class=\"colab-df-convert\" onclick=\"convertToInteractive('df-c9be01cc-badc-4a1f-843b-3e71ad510a7a')\"\n",
              "            title=\"Convert this dataframe to an interactive table.\"\n",
              "            style=\"display:none;\">\n",
              "\n",
              "  <svg xmlns=\"http://www.w3.org/2000/svg\" height=\"24px\" viewBox=\"0 -960 960 960\">\n",
              "    <path d=\"M120-120v-720h720v720H120Zm60-500h600v-160H180v160Zm220 220h160v-160H400v160Zm0 220h160v-160H400v160ZM180-400h160v-160H180v160Zm440 0h160v-160H620v160ZM180-180h160v-160H180v160Zm440 0h160v-160H620v160Z\"/>\n",
              "  </svg>\n",
              "    </button>\n",
              "\n",
              "  <style>\n",
              "    .colab-df-container {\n",
              "      display:flex;\n",
              "      gap: 12px;\n",
              "    }\n",
              "\n",
              "    .colab-df-convert {\n",
              "      background-color: #E8F0FE;\n",
              "      border: none;\n",
              "      border-radius: 50%;\n",
              "      cursor: pointer;\n",
              "      display: none;\n",
              "      fill: #1967D2;\n",
              "      height: 32px;\n",
              "      padding: 0 0 0 0;\n",
              "      width: 32px;\n",
              "    }\n",
              "\n",
              "    .colab-df-convert:hover {\n",
              "      background-color: #E2EBFA;\n",
              "      box-shadow: 0px 1px 2px rgba(60, 64, 67, 0.3), 0px 1px 3px 1px rgba(60, 64, 67, 0.15);\n",
              "      fill: #174EA6;\n",
              "    }\n",
              "\n",
              "    .colab-df-buttons div {\n",
              "      margin-bottom: 4px;\n",
              "    }\n",
              "\n",
              "    [theme=dark] .colab-df-convert {\n",
              "      background-color: #3B4455;\n",
              "      fill: #D2E3FC;\n",
              "    }\n",
              "\n",
              "    [theme=dark] .colab-df-convert:hover {\n",
              "      background-color: #434B5C;\n",
              "      box-shadow: 0px 1px 3px 1px rgba(0, 0, 0, 0.15);\n",
              "      filter: drop-shadow(0px 1px 2px rgba(0, 0, 0, 0.3));\n",
              "      fill: #FFFFFF;\n",
              "    }\n",
              "  </style>\n",
              "\n",
              "    <script>\n",
              "      const buttonEl =\n",
              "        document.querySelector('#df-c9be01cc-badc-4a1f-843b-3e71ad510a7a button.colab-df-convert');\n",
              "      buttonEl.style.display =\n",
              "        google.colab.kernel.accessAllowed ? 'block' : 'none';\n",
              "\n",
              "      async function convertToInteractive(key) {\n",
              "        const element = document.querySelector('#df-c9be01cc-badc-4a1f-843b-3e71ad510a7a');\n",
              "        const dataTable =\n",
              "          await google.colab.kernel.invokeFunction('convertToInteractive',\n",
              "                                                    [key], {});\n",
              "        if (!dataTable) return;\n",
              "\n",
              "        const docLinkHtml = 'Like what you see? Visit the ' +\n",
              "          '<a target=\"_blank\" href=https://colab.research.google.com/notebooks/data_table.ipynb>data table notebook</a>'\n",
              "          + ' to learn more about interactive tables.';\n",
              "        element.innerHTML = '';\n",
              "        dataTable['output_type'] = 'display_data';\n",
              "        await google.colab.output.renderOutput(dataTable, element);\n",
              "        const docLink = document.createElement('div');\n",
              "        docLink.innerHTML = docLinkHtml;\n",
              "        element.appendChild(docLink);\n",
              "      }\n",
              "    </script>\n",
              "  </div>\n",
              "\n",
              "\n",
              "<div id=\"df-e178cb14-da57-4e71-889d-efb78cd7f2d6\">\n",
              "  <button class=\"colab-df-quickchart\" onclick=\"quickchart('df-e178cb14-da57-4e71-889d-efb78cd7f2d6')\"\n",
              "            title=\"Suggest charts\"\n",
              "            style=\"display:none;\">\n",
              "\n",
              "<svg xmlns=\"http://www.w3.org/2000/svg\" height=\"24px\"viewBox=\"0 0 24 24\"\n",
              "     width=\"24px\">\n",
              "    <g>\n",
              "        <path d=\"M19 3H5c-1.1 0-2 .9-2 2v14c0 1.1.9 2 2 2h14c1.1 0 2-.9 2-2V5c0-1.1-.9-2-2-2zM9 17H7v-7h2v7zm4 0h-2V7h2v10zm4 0h-2v-4h2v4z\"/>\n",
              "    </g>\n",
              "</svg>\n",
              "  </button>\n",
              "\n",
              "<style>\n",
              "  .colab-df-quickchart {\n",
              "      --bg-color: #E8F0FE;\n",
              "      --fill-color: #1967D2;\n",
              "      --hover-bg-color: #E2EBFA;\n",
              "      --hover-fill-color: #174EA6;\n",
              "      --disabled-fill-color: #AAA;\n",
              "      --disabled-bg-color: #DDD;\n",
              "  }\n",
              "\n",
              "  [theme=dark] .colab-df-quickchart {\n",
              "      --bg-color: #3B4455;\n",
              "      --fill-color: #D2E3FC;\n",
              "      --hover-bg-color: #434B5C;\n",
              "      --hover-fill-color: #FFFFFF;\n",
              "      --disabled-bg-color: #3B4455;\n",
              "      --disabled-fill-color: #666;\n",
              "  }\n",
              "\n",
              "  .colab-df-quickchart {\n",
              "    background-color: var(--bg-color);\n",
              "    border: none;\n",
              "    border-radius: 50%;\n",
              "    cursor: pointer;\n",
              "    display: none;\n",
              "    fill: var(--fill-color);\n",
              "    height: 32px;\n",
              "    padding: 0;\n",
              "    width: 32px;\n",
              "  }\n",
              "\n",
              "  .colab-df-quickchart:hover {\n",
              "    background-color: var(--hover-bg-color);\n",
              "    box-shadow: 0 1px 2px rgba(60, 64, 67, 0.3), 0 1px 3px 1px rgba(60, 64, 67, 0.15);\n",
              "    fill: var(--button-hover-fill-color);\n",
              "  }\n",
              "\n",
              "  .colab-df-quickchart-complete:disabled,\n",
              "  .colab-df-quickchart-complete:disabled:hover {\n",
              "    background-color: var(--disabled-bg-color);\n",
              "    fill: var(--disabled-fill-color);\n",
              "    box-shadow: none;\n",
              "  }\n",
              "\n",
              "  .colab-df-spinner {\n",
              "    border: 2px solid var(--fill-color);\n",
              "    border-color: transparent;\n",
              "    border-bottom-color: var(--fill-color);\n",
              "    animation:\n",
              "      spin 1s steps(1) infinite;\n",
              "  }\n",
              "\n",
              "  @keyframes spin {\n",
              "    0% {\n",
              "      border-color: transparent;\n",
              "      border-bottom-color: var(--fill-color);\n",
              "      border-left-color: var(--fill-color);\n",
              "    }\n",
              "    20% {\n",
              "      border-color: transparent;\n",
              "      border-left-color: var(--fill-color);\n",
              "      border-top-color: var(--fill-color);\n",
              "    }\n",
              "    30% {\n",
              "      border-color: transparent;\n",
              "      border-left-color: var(--fill-color);\n",
              "      border-top-color: var(--fill-color);\n",
              "      border-right-color: var(--fill-color);\n",
              "    }\n",
              "    40% {\n",
              "      border-color: transparent;\n",
              "      border-right-color: var(--fill-color);\n",
              "      border-top-color: var(--fill-color);\n",
              "    }\n",
              "    60% {\n",
              "      border-color: transparent;\n",
              "      border-right-color: var(--fill-color);\n",
              "    }\n",
              "    80% {\n",
              "      border-color: transparent;\n",
              "      border-right-color: var(--fill-color);\n",
              "      border-bottom-color: var(--fill-color);\n",
              "    }\n",
              "    90% {\n",
              "      border-color: transparent;\n",
              "      border-bottom-color: var(--fill-color);\n",
              "    }\n",
              "  }\n",
              "</style>\n",
              "\n",
              "  <script>\n",
              "    async function quickchart(key) {\n",
              "      const quickchartButtonEl =\n",
              "        document.querySelector('#' + key + ' button');\n",
              "      quickchartButtonEl.disabled = true;  // To prevent multiple clicks.\n",
              "      quickchartButtonEl.classList.add('colab-df-spinner');\n",
              "      try {\n",
              "        const charts = await google.colab.kernel.invokeFunction(\n",
              "            'suggestCharts', [key], {});\n",
              "      } catch (error) {\n",
              "        console.error('Error during call to suggestCharts:', error);\n",
              "      }\n",
              "      quickchartButtonEl.classList.remove('colab-df-spinner');\n",
              "      quickchartButtonEl.classList.add('colab-df-quickchart-complete');\n",
              "    }\n",
              "    (() => {\n",
              "      let quickchartButtonEl =\n",
              "        document.querySelector('#df-e178cb14-da57-4e71-889d-efb78cd7f2d6 button');\n",
              "      quickchartButtonEl.style.display =\n",
              "        google.colab.kernel.accessAllowed ? 'block' : 'none';\n",
              "    })();\n",
              "  </script>\n",
              "</div>\n",
              "\n",
              "    </div>\n",
              "  </div>\n"
            ],
            "application/vnd.google.colaboratory.intrinsic+json": {
              "type": "dataframe",
              "variable_name": "data"
            }
          },
          "metadata": {},
          "execution_count": 2
        }
      ],
      "source": [
        "import pandas as pd\n",
        "data = pd.read_csv('/content/National_Health_Interview_Survey__NHIS__-_National_Cardiovascular_Disease_Surveillance_Data.csv')\n",
        "data.head()"
      ]
    },
    {
      "cell_type": "code",
      "source": [
        "data.shape"
      ],
      "metadata": {
        "id": "dWlpDP2gcGz6",
        "outputId": "3aa46e58-c19f-41af-cb01-f289994e6a35",
        "colab": {
          "base_uri": "https://localhost:8080/"
        }
      },
      "execution_count": 3,
      "outputs": [
        {
          "output_type": "execute_result",
          "data": {
            "text/plain": [
              "(4455, 27)"
            ]
          },
          "metadata": {},
          "execution_count": 3
        }
      ]
    },
    {
      "cell_type": "markdown",
      "metadata": {
        "id": "bCZqZFplbS6y"
      },
      "source": [
        "### 2. Data Diversity\n",
        "\n",
        "Use Python to identify how many unique values each column in your data has.  Use Python to identify which column has the greatest number of distinct values (aka the most diversity)?  If your data has a unique identifier (e.g. a person or visit or record ID) then find the column with the next most number of unique values."
      ]
    },
    {
      "cell_type": "code",
      "execution_count": 4,
      "metadata": {
        "id": "ydIyzzehbS6z",
        "outputId": "4a17528e-5a2d-4271-d656-4d2f44c586bc",
        "colab": {
          "base_uri": "https://localhost:8080/"
        }
      },
      "outputs": [
        {
          "output_type": "execute_result",
          "data": {
            "text/plain": [
              "(Year                           15\n",
              " LocationAbbr                    5\n",
              " LocationDesc                    5\n",
              " DataSource                      1\n",
              " PriorityArea1                   1\n",
              " PriorityArea2                   1\n",
              " PriorityArea3                   1\n",
              " PriorityArea4                   0\n",
              " Category                        2\n",
              " Topic                           6\n",
              " Indicator                       7\n",
              " Break_Out_Category              4\n",
              " Break_Out                      11\n",
              " Data_Value_Type                 1\n",
              " Data_Value_Unit                 1\n",
              " Data_Value                    593\n",
              " Data_Value_Footnote_Symbol      0\n",
              " Data_Value_Footnote             0\n",
              " Confidence_limit_Low          572\n",
              " Confidence_limit_High         627\n",
              " CategoryId                      2\n",
              " TopicId                         6\n",
              " IndicatorID                     7\n",
              " BreakOutCategoryId              4\n",
              " BreakOutId                     11\n",
              " LocationID                      5\n",
              " GeoLocation                     0\n",
              " dtype: int64,\n",
              " Confidence_limit_High    627\n",
              " Data_Value               593\n",
              " dtype: int64)"
            ]
          },
          "metadata": {},
          "execution_count": 4
        }
      ],
      "source": [
        "# Find unique values for each column\n",
        "unique_values_count = data.nunique()\n",
        "\n",
        "# Identify the column with the greatest number of distinct values\n",
        "most_diverse_column = unique_values_count.idxmax()\n",
        "most_diverse_count = unique_values_count.max()\n",
        "\n",
        "# Check if the dataset has a unique identifier and find the next most diverse column\n",
        "sorted_unique_counts = unique_values_count.sort_values(ascending=False)\n",
        "top_two_columns = sorted_unique_counts.head(2)\n",
        "\n",
        "unique_values_count, top_two_columns"
      ]
    },
    {
      "cell_type": "markdown",
      "metadata": {
        "id": "n1w24CSDbS6z"
      },
      "source": [
        "### 3. Data Redundancy\n",
        "\n",
        "Use Python to identify any columns in your data where the value for every row is the same.  For example, if you had a gender column and all the rows said 'M', then you would want to write the code that helped you determine that."
      ]
    },
    {
      "cell_type": "code",
      "execution_count": 5,
      "metadata": {
        "id": "J7KvodMGbS60",
        "outputId": "178cfbd9-b104-473e-9db3-1dd789c59706",
        "colab": {
          "base_uri": "https://localhost:8080/"
        }
      },
      "outputs": [
        {
          "output_type": "execute_result",
          "data": {
            "text/plain": [
              "['DataSource',\n",
              " 'PriorityArea1',\n",
              " 'PriorityArea2',\n",
              " 'PriorityArea3',\n",
              " 'Data_Value_Type',\n",
              " 'Data_Value_Unit']"
            ]
          },
          "metadata": {},
          "execution_count": 5
        }
      ],
      "source": [
        "# Identify columns where all values are the same across rows\n",
        "redundant_columns = data.columns[data.nunique() == 1]\n",
        "\n",
        "# Output the redundant columns\n",
        "redundant_columns_list = redundant_columns.tolist()\n",
        "redundant_columns_list"
      ]
    },
    {
      "cell_type": "markdown",
      "metadata": {
        "id": "ZKgz2KitbS60"
      },
      "source": [
        "### 4. Range of Values\n",
        "\n",
        "Your data almost certainly has some numeric columns that can be summed or averaged.  Create a histogram that shows the distribution of values for this column."
      ]
    },
    {
      "cell_type": "code",
      "execution_count": 6,
      "metadata": {
        "id": "LM6w77MZbS61",
        "outputId": "40e3c86a-256c-4541-9fa1-e550768a30f0",
        "colab": {
          "base_uri": "https://localhost:8080/",
          "height": 569
        }
      },
      "outputs": [
        {
          "output_type": "display_data",
          "data": {
            "text/plain": [
              "<Figure size 1000x600 with 1 Axes>"
            ],
            "image/png": "[encoded data removed]"
          },
          "metadata": {}
        }
      ],
      "source": [
        "import matplotlib.pyplot as plt\n",
        "\n",
        "# Identify numeric columns\n",
        "numeric_columns = data.select_dtypes(include=['number']).columns\n",
        "\n",
        "# Check for numeric columns\n",
        "if len(numeric_columns) > 0:\n",
        "    # Plot histogram for the first numeric column\n",
        "    numeric_column = numeric_columns[0]  # Selecting the first numeric column for visualization\n",
        "    plt.figure(figsize=(10, 6))\n",
        "    plt.hist(data[numeric_column].dropna(), bins=20, edgecolor='black', alpha=0.7)\n",
        "    plt.title(f'Histogram of {numeric_column}', fontsize=14)\n",
        "    plt.xlabel('Value', fontsize=12)\n",
        "    plt.ylabel('Frequency', fontsize=12)\n",
        "    plt.grid(axis='y', linestyle='--', alpha=0.7)\n",
        "    plt.show()\n",
        "else:\n",
        "    print(\"No numeric columns found in the dataset.\")"
      ]
    },
    {
      "cell_type": "markdown",
      "metadata": {
        "id": "2jsejqtUbS61"
      },
      "source": [
        "### 5. Discussion\n",
        "\n",
        "Do any additional exploration of this data that you think may be interesting and include your code here.  Then go onto Slack and make a post about what you've observed.  Share your observation.  Share your code, if you like.  Share a screenshot of the data or a chart based on the data.\n",
        "\n",
        "Then comment on at least two other people's observations that they share on Slack.  (Use the reply as thread option in Slack to keep the conversation organized.)"
      ]
    },
    {
      "cell_type": "code",
      "source": [
        "# Display the column names in the dataset to verify their exact names\n",
        "data.columns.tolist()\n"
      ],
      "metadata": {
        "id": "ZyAM7rn7dqdm",
        "outputId": "08769edd-a1ed-4e28-a0bc-cf6e49152146",
        "colab": {
          "base_uri": "https://localhost:8080/"
        }
      },
      "execution_count": 9,
      "outputs": [
        {
          "output_type": "execute_result",
          "data": {
            "text/plain": [
              "['Year',\n",
              " 'LocationAbbr',\n",
              " 'LocationDesc',\n",
              " 'DataSource',\n",
              " 'PriorityArea1',\n",
              " 'PriorityArea2',\n",
              " 'PriorityArea3',\n",
              " 'PriorityArea4',\n",
              " 'Category',\n",
              " 'Topic',\n",
              " 'Indicator',\n",
              " 'Break_Out_Category',\n",
              " 'Break_Out',\n",
              " 'Data_Value_Type',\n",
              " 'Data_Value_Unit',\n",
              " 'Data_Value',\n",
              " 'Data_Value_Footnote_Symbol',\n",
              " 'Data_Value_Footnote',\n",
              " 'Confidence_limit_Low',\n",
              " 'Confidence_limit_High',\n",
              " 'CategoryId',\n",
              " 'TopicId',\n",
              " 'IndicatorID',\n",
              " 'BreakOutCategoryId',\n",
              " 'BreakOutId',\n",
              " 'LocationID',\n",
              " 'GeoLocation']"
            ]
          },
          "metadata": {},
          "execution_count": 9
        }
      ]
    },
    {
      "cell_type": "code",
      "source": [
        "import matplotlib.pyplot as plt\n",
        "\n",
        "# Group by 'Year' and calculate the average of 'Data_Value'\n",
        "if 'Year' in data.columns and 'Data_Value' in data.columns:\n",
        "    yearly_trend = data.groupby('Year')['Data_Value'].mean()\n",
        "\n",
        "    # Plot the trend\n",
        "    plt.figure(figsize=(10, 6))\n",
        "    yearly_trend.plot(kind='line', marker='o', linewidth=2, color='blue')\n",
        "    plt.title('Average Data Value Trend Over Years', fontsize=14)\n",
        "    plt.xlabel('Year', fontsize=12)\n",
        "    plt.ylabel('Average Data Value', fontsize=12)\n",
        "    plt.grid(axis='y', linestyle='--', alpha=0.7)\n",
        "    plt.show()\n",
        "else:\n",
        "    print(\"Required columns ('Year', 'Data_Value') are missing for trend analysis.\")\n"
      ],
      "metadata": {
        "id": "lx9LNZEJd4Lj",
        "outputId": "5da0a4eb-4a7f-40ae-a601-1bad1589a527",
        "colab": {
          "base_uri": "https://localhost:8080/",
          "height": 569
        }
      },
      "execution_count": 10,
      "outputs": [
        {
          "output_type": "display_data",
          "data": {
            "text/plain": [
              "<Figure size 1000x600 with 1 Axes>"
            ],
            "image/png": "[encoded data removed]"
          },
          "metadata": {}
        }
      ]
    },
    {
      "cell_type": "markdown",
      "source": [
        "The chart shows fluctuations in the average data value across years, with noticeable peaks in 2004 and 2008, indicating significant events or changes during those years.\n",
        "Most other years exhibit relatively stable average values, suggesting consistent trends outside the peak periods.\n",
        "The sharp rise and fall in specific years could highlight anomalies or impactful interventions affecting the data."
      ],
      "metadata": {
        "id": "TdOb8br-ePo0"
      }
    },
    {
      "cell_type": "code",
      "source": [],
      "metadata": {
        "id": "9r0RhrxneN6u"
      },
      "execution_count": null,
      "outputs": []
    },
    {
      "cell_type": "markdown",
      "metadata": {
        "id": "jAQSg30ubS62"
      },
      "source": [
        "\n",
        "\n",
        "---\n",
        "\n",
        "\n",
        "\n",
        "## Submitting Your Work\n",
        "\n",
        "Submit your work as usual."
      ]
    },
    {
      "cell_type": "code",
      "execution_count": null,
      "metadata": {
        "id": "NCXX1ONcbS63"
      },
      "outputs": [],
      "source": []
    }
  ],
  "metadata": {
    "celltoolbar": "Create Assignment",
    "kernelspec": {
      "display_name": "Python 3",
      "language": "python",
      "name": "python3"
    },
    "language_info": {
      "codemirror_mode": {
        "name": "ipython",
        "version": 3
      },
      "file_extension": ".py",
      "mimetype": "text/x-python",
      "name": "python",
      "nbconvert_exporter": "python",
      "pygments_lexer": "ipython3",
      "version": "3.6.7"
    },
    "colab": {
      "provenance": []
    }
  },
  "nbformat": 4,
  "nbformat_minor": 0
}