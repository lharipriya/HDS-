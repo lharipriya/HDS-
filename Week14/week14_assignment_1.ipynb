{
  "cells": [
    {
      "cell_type": "markdown",
      "metadata": {
        "nbgrader": {
          "grade": false,
          "grade_id": "cell-fc1c39d0d6f8b82a",
          "locked": true,
          "schema_version": 1,
          "solution": false
        },
        "id": "eg5zw_AHZNeB"
      },
      "source": [
        "# Week 14 Review Assignmnet\n",
        "\n",
        "For the questions below, we're going to refer exclusively to an HHCAPS survey data set that is available in `/data/hhcaps.csv`.  Use whatever commands you want to calculate the information required to get to the answer.  Then, enter your answer in the answers cell as usual.\n",
        "\n",
        "**NOTE: Enter your answers as string values (inside quotation marks \"\") even if the answer is actually numeric.**\n",
        "\n",
        "---\n",
        "---\n"
      ]
    },
    {
      "cell_type": "code",
      "execution_count": 17,
      "metadata": {
        "nbgrader": {
          "grade": false,
          "grade_id": "intro",
          "locked": true,
          "schema_version": 1,
          "solution": false
        },
        "id": "JfWRDIUTZNeC"
      },
      "outputs": [],
      "source": [
        "%matplotlib inline\n",
        "import pandas as pd\n",
        "\n",
        "hhcaps = pd.read_csv('https://hds5210-data.s3.amazonaws.com/hhcaps.csv')"
      ]
    },
    {
      "cell_type": "markdown",
      "metadata": {
        "nbgrader": {
          "grade": false,
          "grade_id": "q01-intro",
          "locked": true,
          "schema_version": 1,
          "solution": false
        },
        "id": "u8R-xn95ZNeD"
      },
      "source": [
        "## #01 -\n",
        "\n",
        "How many columns does this file contain?"
      ]
    },
    {
      "cell_type": "code",
      "execution_count": 18,
      "metadata": {
        "id": "sWqeBtRyZNeD",
        "outputId": "0d8ccc82-ac9b-4498-8982-2300273e29f3",
        "colab": {
          "base_uri": "https://localhost:8080/"
        }
      },
      "outputs": [
        {
          "output_type": "execute_result",
          "data": {
            "text/plain": [
              "(12000, 39)"
            ]
          },
          "metadata": {},
          "execution_count": 18
        }
      ],
      "source": [
        "# Write some code to figure it out\n",
        "hhcaps.shape"
      ]
    },
    {
      "cell_type": "code",
      "execution_count": 19,
      "metadata": {
        "nbgrader": {
          "grade": false,
          "grade_id": "q01-solution",
          "locked": false,
          "schema_version": 1,
          "solution": true
        },
        "id": "mnZ4pph1ZNeD"
      },
      "outputs": [],
      "source": [
        "answers={}\n",
        "answers['40.1'] = 39 # NOTE: Use a number, not string to answer this question"
      ]
    },
    {
      "cell_type": "markdown",
      "metadata": {
        "nbgrader": {
          "grade": false,
          "grade_id": "q02-intro",
          "locked": true,
          "schema_version": 1,
          "solution": false
        },
        "id": "93rAz3FzZNeD"
      },
      "source": [
        "## #02 -\n",
        "\n",
        "How many different values for State are there in this file?"
      ]
    },
    {
      "cell_type": "code",
      "execution_count": 20,
      "metadata": {
        "id": "uYV5dI5cZNeD",
        "outputId": "c99f2618-c1ba-4ecf-fc76-e64dcb8e1683",
        "colab": {
          "base_uri": "https://localhost:8080/"
        }
      },
      "outputs": [
        {
          "output_type": "execute_result",
          "data": {
            "text/plain": [
              "55"
            ]
          },
          "metadata": {},
          "execution_count": 20
        }
      ],
      "source": [
        "# Write some code to figure it out\n",
        "# Check for unique values in the \"State\" column\n",
        "unique_states = hhcaps['State'].nunique()\n",
        "unique_states"
      ]
    },
    {
      "cell_type": "code",
      "execution_count": 21,
      "metadata": {
        "nbgrader": {
          "grade": false,
          "grade_id": "q02-solution",
          "locked": false,
          "schema_version": 1,
          "solution": true
        },
        "id": "dP7QNOkZZNeE"
      },
      "outputs": [],
      "source": [
        "answers['40.2'] = 55 # NOTE: Use a number, not a string to answer this question"
      ]
    },
    {
      "cell_type": "markdown",
      "metadata": {
        "nbgrader": {
          "grade": false,
          "grade_id": "q03-intro",
          "locked": true,
          "schema_version": 1,
          "solution": false
        },
        "id": "MQqtLUYuZNeE"
      },
      "source": [
        "## #03 -\n",
        "\n",
        "Which of those State values has the highest frequency of occurence?"
      ]
    },
    {
      "cell_type": "code",
      "execution_count": 22,
      "metadata": {
        "nbgrader": {
          "grade": false,
          "grade_id": "q03-solution",
          "locked": false,
          "schema_version": 1,
          "solution": true
        },
        "id": "8odbnDSDZNeE",
        "outputId": "370aaa12-f3e9-439d-e4c6-3a5f0c51bd38",
        "colab": {
          "base_uri": "https://localhost:8080/"
        }
      },
      "outputs": [
        {
          "output_type": "stream",
          "name": "stdout",
          "text": [
            "The state with the highest frequency is 'TX' with 2518 occurrences.\n"
          ]
        }
      ],
      "source": [
        "# Write some code to figure it out\n",
        "# Find the state with the highest frequency\n",
        "state_counts = hhcaps['State'].value_counts()\n",
        "most_frequent_state = state_counts.idxmax()  # State with the highest frequency\n",
        "highest_frequency = state_counts.max()  # Highest frequency value\n",
        "\n",
        "print(f\"The state with the highest frequency is '{most_frequent_state}' with {highest_frequency} occurrences.\")"
      ]
    },
    {
      "cell_type": "code",
      "execution_count": 23,
      "metadata": {
        "nbgrader": {
          "grade": true,
          "grade_id": "q03-test",
          "locked": true,
          "points": 2,
          "schema_version": 1,
          "solution": false
        },
        "id": "uKD6bixxZNeE"
      },
      "outputs": [],
      "source": [
        "answers['40.3'] = \"TX\""
      ]
    },
    {
      "cell_type": "markdown",
      "metadata": {
        "nbgrader": {
          "grade": false,
          "grade_id": "q04-intro",
          "locked": true,
          "schema_version": 1,
          "solution": false
        },
        "id": "vx9KyVXVZNeE"
      },
      "source": [
        "## #04 -\n",
        "\n",
        "Which of those State values has the best average performance on the `Star Rating for health team communicated well with them` score?"
      ]
    },
    {
      "cell_type": "code",
      "execution_count": 24,
      "metadata": {
        "nbgrader": {
          "grade": false,
          "grade_id": "q04-solution",
          "locked": false,
          "schema_version": 1,
          "solution": true
        },
        "id": "ePkdis6yZNeF",
        "outputId": "868ebee9-353c-4c93-f55a-8a4480aa8e75",
        "colab": {
          "base_uri": "https://localhost:8080/"
        }
      },
      "outputs": [
        {
          "output_type": "stream",
          "name": "stdout",
          "text": [
            "The state with the best average performance is 'ME' with an average score of 4.65.\n"
          ]
        }
      ],
      "source": [
        "# Write some code to figure it out\n",
        "# Calculate the average performance for each state\n",
        "state_avg_scores = hhcaps.groupby('State')['Star Rating for health team communicated well with them'].mean()\n",
        "\n",
        "# Find the state with the best average score\n",
        "best_state = state_avg_scores.idxmax()  # State with the highest average score\n",
        "best_avg_score = state_avg_scores.max()  # The highest average score\n",
        "\n",
        "print(f\"The state with the best average performance is '{best_state}' with an average score of {best_avg_score:.2f}.\")\n"
      ]
    },
    {
      "cell_type": "code",
      "execution_count": 25,
      "metadata": {
        "nbgrader": {
          "grade": true,
          "grade_id": "q04-test",
          "locked": true,
          "points": 2,
          "schema_version": 1,
          "solution": false
        },
        "id": "01moAU3_ZNeF"
      },
      "outputs": [],
      "source": [
        "answers['40.4'] = \"ME\""
      ]
    },
    {
      "cell_type": "markdown",
      "metadata": {
        "nbgrader": {
          "grade": false,
          "grade_id": "q05-intro",
          "locked": true,
          "schema_version": 1,
          "solution": false
        },
        "id": "N1t53rlHZNeF"
      },
      "source": [
        "## #05 -\n",
        "\n",
        "What was the average score on `Star Rating for how patients rated overall care from agency` for providers listed as having a `Type of Ownership` of `Hospital Based Program`\n",
        "\n",
        "**NOTE: Enter your answer with two decimal precision: 0.00**"
      ]
    },
    {
      "cell_type": "code",
      "execution_count": 26,
      "metadata": {
        "nbgrader": {
          "grade": false,
          "grade_id": "q05-solution",
          "locked": false,
          "schema_version": 1,
          "solution": true
        },
        "id": "1Bz9XuJqZNeF",
        "outputId": "ad3c2385-c1ec-43c2-c13c-6a33c5865e80",
        "colab": {
          "base_uri": "https://localhost:8080/"
        }
      },
      "outputs": [
        {
          "output_type": "stream",
          "name": "stdout",
          "text": [
            "The average score is 3.69.\n"
          ]
        }
      ],
      "source": [
        "# Write some code to figure it out\n",
        "# Filter data for 'Type of Ownership' == 'Hospital Based Program'\n",
        "hospital_based_data = hhcaps[hhcaps['Type of Ownership'] == 'Hospital Based Program']\n",
        "\n",
        "# Calculate the average score for \"Star Rating for how patients rated overall care from agency\"\n",
        "average_score = hospital_based_data['Star Rating for how patients rated overall care from agency'].mean()\n",
        "\n",
        "# Display the result with two decimal places\n",
        "print(f\"The average score is {average_score:.2f}.\")"
      ]
    },
    {
      "cell_type": "code",
      "execution_count": 27,
      "metadata": {
        "nbgrader": {
          "grade": true,
          "grade_id": "q05-test",
          "locked": true,
          "points": 2,
          "schema_version": 1,
          "solution": false
        },
        "id": "eMdOQin2ZNeF"
      },
      "outputs": [],
      "source": [
        "answers['40.5'] = 3.69 # NOTE: Write answer as number in form N.NN (No additional digits)"
      ]
    },
    {
      "cell_type": "markdown",
      "metadata": {
        "id": "czrKAoC2ZNeF"
      },
      "source": [
        "---\n",
        "\n",
        "Checking Your Work\n",
        "---\n",
        "\n",
        "After completing your work above and running each cell, you can check your answers by running the code below.\n",
        "\n",
        "The easiest way to do this is to use the `Kernel` -> `Restart Kernel and Run All Cells` menu option. This option restarts Python and runs every cell from top to bottom until it encounters an exception of some kind.  It will stop after running the cell below and outputing a summary of how many answers you have correct or incorrect.\n"
      ]
    },
    {
      "cell_type": "code",
      "execution_count": 28,
      "metadata": {
        "id": "E2UZ_OS7ZNeG",
        "outputId": "06c7cd5a-b905-4f4d-d084-828493c905e5",
        "colab": {
          "base_uri": "https://localhost:8080/"
        }
      },
      "outputs": [
        {
          "output_type": "stream",
          "name": "stdout",
          "text": [
            "Question 40.1 is CORRECT\n",
            "Question 40.2 is CORRECT\n",
            "Question 40.3 is CORRECT\n",
            "Question 40.4 is CORRECT\n",
            "Question 40.5 is CORRECT\n"
          ]
        }
      ],
      "source": [
        "import pickle\n",
        "\n",
        "data = b\"\\x80\\x04\\x95?\\x00\\x00\\x00\\x00\\x00\\x00\\x00}\\x94(\\x8c\\x0440.1\\x94K'\\x8c\\x0440.2\\x94K7\\x8c\\x0440.3\\x94\\x8c\\x02TX\\x94\\x8c\\x0440.4\\x94\\x8c\\x02ME\\x94\\x8c\\x0440.5\\x94G@\\r\\x85\\x1e\\xb8Q\\xeb\\x85u.\"\n",
        "result = pickle.loads(data)\n",
        "\n",
        "for key in result:\n",
        "  if answers[key] == result[key]:\n",
        "    print(f\"Question {key} is CORRECT\")\n",
        "  else:\n",
        "    print(f\"Question {key} is INCORRECT\")"
      ]
    },
    {
      "cell_type": "markdown",
      "metadata": {
        "id": "cmC6oG8IZNeG"
      },
      "source": [
        "---\n",
        "\n",
        "## Check your work above\n",
        "\n",
        "If you didn't get them all correct, take a few minutes to think through those that aren't correct.\n",
        "\n",
        "\n",
        "## Submitting Your Work\n",
        "\n",
        "In order to submit your work, you'll need to save this notebook file back to GitHub.  To do that in Google Colab:\n",
        "1. File -> Save a Copy in GitHub\n",
        "2. Make sure your HDS5210 repository is selected\n",
        "3. Make sure the file name includes the week number like this: `week14/week14_assignment_1.ipynb`\n",
        "4. Add a commit message that means something\n",
        "\n",
        "**Be sure week names are lowercase and use a two digit week number!!**\n",
        "\n",
        "**Be sure you use the same file name provided by the instructor!!**\n",
        "\n"
      ]
    }
  ],
  "metadata": {
    "celltoolbar": "Create Assignment",
    "kernelspec": {
      "display_name": "Python 3 (ipykernel)",
      "language": "python",
      "name": "python3"
    },
    "language_info": {
      "codemirror_mode": {
        "name": "ipython",
        "version": 3
      },
      "file_extension": ".py",
      "mimetype": "text/x-python",
      "name": "python",
      "nbconvert_exporter": "python",
      "pygments_lexer": "ipython3",
      "version": "3.13.0"
    },
    "colab": {
      "provenance": []
    }
  },
  "nbformat": 4,
  "nbformat_minor": 0
}