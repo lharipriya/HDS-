{
  "cells": [
    {
      "cell_type": "markdown",
      "metadata": {
        "id": "4U-uC3cbebI-"
      },
      "source": [
        "# Week 14 Extra Credit - How will ChatGPT do on your final project idea?\n",
        "\n",
        "This extra credit assignment is entirely optional.  You do not need to do it.\n",
        "\n",
        "If you would like the opportunity to earn up to 5 extra credit points, complete this assignment and submit it via GitHub as normal before Monday, November 27 at 11:59 PM CST.  No late submissions will be accepted.  The file must be saved to your week13 folder in GitHub."
      ]
    },
    {
      "cell_type": "markdown",
      "metadata": {
        "id": "AwJtQBOKebJC"
      },
      "source": [
        "## Part 1: Have a conversation with ChatGPT\n",
        "\n",
        "I want you to have a conversation with ChatGPT about your final project idea.  Find out what it thinks about your idea and if it has any data sources (URLs for specific sites) that could be helpful.  Below, either include copy/paste the chat history from your conversation or include a link to the shared chat.  (ChatGPT has an [option to share a link to a specific conversation](https://help.openai.com/en/articles/7925741-chatgpt-shared-links-faq).  It's the up-arrow icon in the upper-right corner of your chat window.)\n",
        "\n",
        "Take this conversationw with ChatGPT as far as you want, but at least ask three or four follow-up questions to refine the information you're getting back.\n",
        "\n",
        "If it starts giving you links to information, don't assume they're going to work. Remember that ChatGPT isn't perfect. So, follow the links and make sure there's information there that matches what ChatGPT says you will find."
      ]
    },
    {
      "cell_type": "markdown",
      "metadata": {
        "id": "ZsvKecQYebJD"
      },
      "source": [
        "**RESPONSE**\n",
        "\n",
        "*Enter your conversation or link to your chat here*\n",
        "My final project involves analyzing the impact of environmental factors (like pollution levels, temperature, and precipitation) on health outcomes such as respiratory diseases and cancer prevalence. Do you think this is a solid idea?\n",
        "\n",
        "ChatGPT: That sounds like a fantastic idea! It's highly relevant as environmental factors play a significant role in public health. By combining environmental and health data, you can uncover trends and relationships that could be valuable for policymakers or public health interventions. Have you decided on specific datasets or regions to focus on?\n",
        "\n",
        "Not yet. Do you know of any datasets or sources where I could find reliable information on environmental factors and health outcomes?\n",
        "\n",
        "ChatGPT: Certainly! Here are some potential sources:\n",
        "\n",
        "Environmental Data:\n",
        "\n",
        "EPA Air Quality System (AQS) Data: Provides detailed air pollution data by location in the U.S.\n",
        "NOAA Climate Data Online: Offers weather and climate data, including temperature and precipitation.\n",
        "Health Outcome Data:\n",
        "\n",
        "CDC WONDER: Provides health statistics, including respiratory diseases and cancer mortality by state or county.\n",
        "National Cancer Institute SEER Program: Comprehensive data on cancer incidence and survival rates in the U.S.\n",
        "Combined Sources:\n",
        "\n",
        "Global Health Observatory (WHO): Includes global data on health outcomes and environmental factors.\n",
        "Would you like help combining or analyzing these datasets?\n",
        "\n",
        "Thanks! How would you suggest combining datasets with different levels of granularity (e.g., city-level pollution data and state-level health data)?\n",
        "\n",
        "ChatGPT: That’s a common challenge in data analysis. Here are a few strategies:\n",
        "\n",
        "Aggregation: Aggregate city-level pollution data to the state level by calculating averages, medians, or ranges.\n",
        "Mapping: Use a geographic identifier (e.g., latitude/longitude, FIPS codes) to align datasets by location.\n",
        "Interpolation: If you need finer granularity, statistical techniques like kriging or spline interpolation can estimate data points.\n",
        "Matching by Time: Ensure temporal alignment between datasets by aggregating data over the same period (e.g., yearly averages).\n"
      ]
    },
    {
      "cell_type": "markdown",
      "metadata": {
        "id": "IlZP9aWXebJE"
      },
      "source": [
        "### Part 2: Your reflection\n",
        "\n",
        "Below, tell me what you think ChatGPT did well or not well in your conversation.  Was it good at finding data that you needed?  Was it good at finding actual links that worked?  Did its responses make sense to you?  What did it do well / not well?\n",
        "\n",
        "Your response below should be several sentences.  If you don't have enough feedback, expand your conversation with ChatGPT.  Ask it refine your project idea or start writing code for you.  See what it can do."
      ]
    },
    {
      "cell_type": "markdown",
      "metadata": {
        "id": "B4OlaAyWebJE"
      },
      "source": [
        "**RESPONSE**\n",
        "\n",
        "*Enter your reflections on the ChatGPT conversation here*\n",
        "The responses made sense and were easy to follow, especially when discussing strategies for handling data with different levels of granularity. ChatGPT also gave practical advice on merging datasets and suggested techniques like aggregation and interpolation, which are crucial in data integration.\n",
        "\n",
        "Where it fell slightly short was in guaranteeing that all suggested URLs would lead directly to the described datasets. As noted, verifying the links would be important since ChatGPT can sometimes suggest plausible but incorrect links. Additionally, while it offered a high-level overview of machine learning techniques, providing a more in-depth explanation or detailed code snippets upfront would have been helpful.\n",
        "\n",
        "Overall, ChatGPT was highly effective at brainstorming, guiding the project structure, and offering technical suggestions, but its utility depends on verifying the provided resources and refining its responses to match the user's specific needs."
      ]
    },
    {
      "cell_type": "markdown",
      "metadata": {
        "id": "GhbDS4bxebJF"
      },
      "source": [
        "### Submitting\n",
        "\n",
        "Submit this as normal to GitHub with the name `week14/week14_extra_credit.ipynb`"
      ]
    },
    {
      "cell_type": "markdown",
      "metadata": {
        "id": "alKZiJsaebJF"
      },
      "source": []
    }
  ],
  "metadata": {
    "language_info": {
      "name": "python"
    },
    "colab": {
      "provenance": []
    }
  },
  "nbformat": 4,
  "nbformat_minor": 0
}