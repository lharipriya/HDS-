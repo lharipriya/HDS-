{
  "cells": [
    {
      "cell_type": "markdown",
      "metadata": {
        "id": "view-in-github",
        "colab_type": "text"
      },
      "source": [
        "<a href=\"https://colab.research.google.com/github/lharipriya/HDS-/blob/main/final/Haripriya_Final_Project.ipynb\" target=\"_parent\"><img src=\"https://colab.research.google.com/assets/colab-badge.svg\" alt=\"Open In Colab\"/></a>"
      ]
    },
    {
      "cell_type": "markdown",
      "metadata": {
        "id": "AS5p96TAkJkR"
      },
      "source": [
        "**Introduction**\n",
        "\n",
        "This project involves a detailed analysis of kidney mortality rates across the United States, utilizing data from the years 2015 and 2016. The primary goal is to identify trends and patterns in kidney-related deaths and how they vary by state. By merging historical mortality rate data with geographic information, the project aims to visualize these variations on a U.S. map, providing clear visual insights into regional disparities in kidney health outcomes. This analysis is crucial for public health officials and policymakers to understand the impact of healthcare accessibility, underlying demographics, and potential environmental factors affecting kidney health across different regions. The findings from this project could help in crafting targeted interventions aimed at reducing kidney mortality rates and improving overall public health strategies."
      ]
    },
    {
      "cell_type": "markdown",
      "metadata": {
        "id": "j4EaFeAFcEda"
      },
      "source": [
        "**Datasets Used**\n",
        "\n",
        "\n",
        "Dataset 1: https://www.cdc.gov/nchs/pressroom/sosmap/kidney_disease_mortality/kidney_disease.htm\n",
        "\n",
        "* The Centers for Disease Control and Prevention (CDC) provides a comprehensive overview of kidney disease mortality across the United States, updated for the year 2022. The data highlights age-adjusted death rates, categorized by state, ranging from the highest to lowest rates, offering a clear depiction of geographic disparities in kidney disease outcomes. This detailed data table, accessible through the CDC's website, not only shows numerical values such as death counts and rates per 100,000 population but also includes an interactive map to visualize these statistics. Such data is crucial for public health professionals and policymakers to identify high-risk areas, understand regional health challenges, and tailor interventions to reduce kidney disease mortality effectively\n",
        "\n",
        "Dataset 2: : https://archive.ics.uci.edu/dataset/336/chronic+kidney+disease\n",
        "\n",
        "* The Chronic Kidney Disease dataset provides detailed medical data collected over two months from a hospital setting, aimed at predicting chronic kidney disease in patients. This dataset is characterized by 24 attributes including age, blood pressure, serum creatinine, and more, encompassing both numeric and nominal data types. With 400 instances, it supports tasks such as classification, where models can differentiate between patients with and without the disease. This dataset serves as an essential tool for medical researchers and data scientists focusing on improving diagnostic accuracy and patient outcomes in nephrology.\n",
        "\n",
        "Dataset 3: https://www.faa.gov/air_traffic/publications/atpubs/cnt_html/appendix_a.html\n",
        "\n",
        "* It lists two-letter abbreviations for each U.S. state and territory, facilitating standardized aviation and aeronautical communications. This reference is essential for ensuring clarity and consistency in the identification and documentation of geographic locations within various aeronautical and aviation-related reports and communications across the United States.\n"
      ]
    },
    {
      "cell_type": "markdown",
      "metadata": {
        "id": "v8lWEjhm8tDG"
      },
      "source": [
        "# **Import the datasets**"
      ]
    },
    {
      "cell_type": "code",
      "execution_count": null,
      "metadata": {
        "id": "fueQb8_dbvFr"
      },
      "outputs": [],
      "source": [
        "import pandas as pd\n",
        "import numpy as np"
      ]
    },
    {
      "cell_type": "code",
      "execution_count": null,
      "metadata": {
        "id": "zGyoAiuakiFy"
      },
      "outputs": [],
      "source": [
        "chronic_kidney = pd.read_json(\"ChronicKidneyDisease.json\")"
      ]
    },
    {
      "cell_type": "code",
      "execution_count": null,
      "metadata": {
        "id": "Zn6PW03xfY5i"
      },
      "outputs": [],
      "source": [
        "Kidney_Mortality = pd.read_excel(\"Kidney_Mortality_rate.xlsx\")\n",
        "\n",
        "Kidney_Mortality_2015 = Kidney_Mortality[Kidney_Mortality['YEAR']==2015]\n",
        "\n",
        "Kidney_Mortality_2016 = Kidney_Mortality[Kidney_Mortality['YEAR']==2016]"
      ]
    },
    {
      "cell_type": "code",
      "execution_count": null,
      "metadata": {
        "id": "5zdYPykoE7li",
        "outputId": "1081f52b-794b-4823-ebcd-3076bbc40ac7"
      },
      "outputs": [
        {
          "name": "stdout",
          "output_type": "stream",
          "text": [
            "Requirement already satisfied: lxml in c:\\users\\santo\\appdata\\local\\packages\\pythonsoftwarefoundation.python.3.11_qbz5n2kfra8p0\\localcache\\local-packages\\python311\\site-packages (5.3.0)\n",
            "Note: you may need to restart the kernel to use updated packages.\n"
          ]
        },
        {
          "name": "stderr",
          "output_type": "stream",
          "text": [
            "\n",
            "[notice] A new release of pip is available: 24.0 -> 24.3.1\n",
            "[notice] To update, run: C:\\Users\\santo\\AppData\\Local\\Microsoft\\WindowsApps\\PythonSoftwareFoundation.Python.3.11_qbz5n2kfra8p0\\python.exe -m pip install --upgrade pip\n"
          ]
        }
      ],
      "source": [
        "pip install lxml"
      ]
    },
    {
      "cell_type": "code",
      "execution_count": null,
      "metadata": {
        "id": "a1MJhOY2jyBF"
      },
      "outputs": [],
      "source": [
        "url = 'https://www.faa.gov/air_traffic/publications/atpubs/cnt_html/appendix_a.html'\n",
        "tables = pd.read_html(url)\n",
        "state_table = tables[0]"
      ]
    },
    {
      "cell_type": "markdown",
      "metadata": {
        "id": "f1NP723xkDzU"
      },
      "source": [
        "# **Data Transformations**"
      ]
    },
    {
      "cell_type": "markdown",
      "metadata": {
        "id": "12IQQsMtzdGo"
      },
      "source": [
        "Here are some field level transformations to enhance data quality and ensure consistency. This process includes cleaning data to remove inaccuracies, standardizing formats for uniformity, converting text to numerical values where necessary, and normalizing values to align different scales. These adjustments are crucial for ensuring that the data is reliable and comparable, which is especially important when analyzing the data or integrating it with other datasets."
      ]
    },
    {
      "cell_type": "markdown",
      "metadata": {
        "id": "aSppmTipkW-e"
      },
      "source": [
        "**Dataset 1**: Chronic kidney disease"
      ]
    },
    {
      "cell_type": "code",
      "execution_count": null,
      "metadata": {
        "colab": {
          "base_uri": "https://localhost:8080/",
          "height": 255
        },
        "id": "bWNFnKr2kJ8Y",
        "outputId": "a45e5071-2710-4560-a10d-1c6b93446a60"
      },
      "outputs": [
        {
          "data": {
            "text/html": [
              "<div>\n",
              "<style scoped>\n",
              "    .dataframe tbody tr th:only-of-type {\n",
              "        vertical-align: middle;\n",
              "    }\n",
              "\n",
              "    .dataframe tbody tr th {\n",
              "        vertical-align: top;\n",
              "    }\n",
              "\n",
              "    .dataframe thead th {\n",
              "        text-align: right;\n",
              "    }\n",
              "</style>\n",
              "<table border=\"1\" class=\"dataframe\">\n",
              "  <thead>\n",
              "    <tr style=\"text-align: right;\">\n",
              "      <th></th>\n",
              "      <th>id</th>\n",
              "      <th>age</th>\n",
              "      <th>bp</th>\n",
              "      <th>sg</th>\n",
              "      <th>al</th>\n",
              "      <th>su</th>\n",
              "      <th>rbc</th>\n",
              "      <th>pc</th>\n",
              "      <th>pcc</th>\n",
              "      <th>ba</th>\n",
              "      <th>...</th>\n",
              "      <th>pcv</th>\n",
              "      <th>wc</th>\n",
              "      <th>rc</th>\n",
              "      <th>htn</th>\n",
              "      <th>dm</th>\n",
              "      <th>cad</th>\n",
              "      <th>appet</th>\n",
              "      <th>pe</th>\n",
              "      <th>ane</th>\n",
              "      <th>classification</th>\n",
              "    </tr>\n",
              "  </thead>\n",
              "  <tbody>\n",
              "    <tr>\n",
              "      <th>0</th>\n",
              "      <td>0</td>\n",
              "      <td>48</td>\n",
              "      <td>80</td>\n",
              "      <td>1.02</td>\n",
              "      <td>1</td>\n",
              "      <td>0</td>\n",
              "      <td></td>\n",
              "      <td>normal</td>\n",
              "      <td>notpresent</td>\n",
              "      <td>notpresent</td>\n",
              "      <td>...</td>\n",
              "      <td>44</td>\n",
              "      <td>7800</td>\n",
              "      <td>5.2</td>\n",
              "      <td>yes</td>\n",
              "      <td>yes</td>\n",
              "      <td>no</td>\n",
              "      <td>good</td>\n",
              "      <td>no</td>\n",
              "      <td>no</td>\n",
              "      <td>ckd</td>\n",
              "    </tr>\n",
              "    <tr>\n",
              "      <th>1</th>\n",
              "      <td>1</td>\n",
              "      <td>7</td>\n",
              "      <td>50</td>\n",
              "      <td>1.02</td>\n",
              "      <td>4</td>\n",
              "      <td>0</td>\n",
              "      <td></td>\n",
              "      <td>normal</td>\n",
              "      <td>notpresent</td>\n",
              "      <td>notpresent</td>\n",
              "      <td>...</td>\n",
              "      <td>38</td>\n",
              "      <td>6000</td>\n",
              "      <td></td>\n",
              "      <td>no</td>\n",
              "      <td>no</td>\n",
              "      <td>no</td>\n",
              "      <td>good</td>\n",
              "      <td>no</td>\n",
              "      <td>no</td>\n",
              "      <td>ckd</td>\n",
              "    </tr>\n",
              "    <tr>\n",
              "      <th>2</th>\n",
              "      <td>2</td>\n",
              "      <td>62</td>\n",
              "      <td>80</td>\n",
              "      <td>1.01</td>\n",
              "      <td>2</td>\n",
              "      <td>3</td>\n",
              "      <td>normal</td>\n",
              "      <td>normal</td>\n",
              "      <td>notpresent</td>\n",
              "      <td>notpresent</td>\n",
              "      <td>...</td>\n",
              "      <td>31</td>\n",
              "      <td>7500</td>\n",
              "      <td></td>\n",
              "      <td>no</td>\n",
              "      <td>yes</td>\n",
              "      <td>no</td>\n",
              "      <td>poor</td>\n",
              "      <td>no</td>\n",
              "      <td>yes</td>\n",
              "      <td>ckd</td>\n",
              "    </tr>\n",
              "    <tr>\n",
              "      <th>3</th>\n",
              "      <td>3</td>\n",
              "      <td>48</td>\n",
              "      <td>70</td>\n",
              "      <td>1.005</td>\n",
              "      <td>4</td>\n",
              "      <td>0</td>\n",
              "      <td>normal</td>\n",
              "      <td>abnormal</td>\n",
              "      <td>present</td>\n",
              "      <td>notpresent</td>\n",
              "      <td>...</td>\n",
              "      <td>32</td>\n",
              "      <td>6700</td>\n",
              "      <td>3.9</td>\n",
              "      <td>yes</td>\n",
              "      <td>no</td>\n",
              "      <td>no</td>\n",
              "      <td>poor</td>\n",
              "      <td>yes</td>\n",
              "      <td>yes</td>\n",
              "      <td>ckd</td>\n",
              "    </tr>\n",
              "    <tr>\n",
              "      <th>4</th>\n",
              "      <td>4</td>\n",
              "      <td>51</td>\n",
              "      <td>80</td>\n",
              "      <td>1.01</td>\n",
              "      <td>2</td>\n",
              "      <td>0</td>\n",
              "      <td>normal</td>\n",
              "      <td>normal</td>\n",
              "      <td>notpresent</td>\n",
              "      <td>notpresent</td>\n",
              "      <td>...</td>\n",
              "      <td>35</td>\n",
              "      <td>7300</td>\n",
              "      <td>4.6</td>\n",
              "      <td>no</td>\n",
              "      <td>no</td>\n",
              "      <td>no</td>\n",
              "      <td>good</td>\n",
              "      <td>no</td>\n",
              "      <td>no</td>\n",
              "      <td>ckd</td>\n",
              "    </tr>\n",
              "  </tbody>\n",
              "</table>\n",
              "<p>5 rows × 26 columns</p>\n",
              "</div>"
            ],
            "text/plain": [
              "   id age  bp     sg al su     rbc        pc         pcc          ba  ... pcv  \\\n",
              "0   0  48  80   1.02  1  0            normal  notpresent  notpresent  ...  44   \n",
              "1   1   7  50   1.02  4  0            normal  notpresent  notpresent  ...  38   \n",
              "2   2  62  80   1.01  2  3  normal    normal  notpresent  notpresent  ...  31   \n",
              "3   3  48  70  1.005  4  0  normal  abnormal     present  notpresent  ...  32   \n",
              "4   4  51  80   1.01  2  0  normal    normal  notpresent  notpresent  ...  35   \n",
              "\n",
              "     wc   rc  htn   dm cad appet   pe  ane classification  \n",
              "0  7800  5.2  yes  yes  no  good   no   no            ckd  \n",
              "1  6000        no   no  no  good   no   no            ckd  \n",
              "2  7500        no  yes  no  poor   no  yes            ckd  \n",
              "3  6700  3.9  yes   no  no  poor  yes  yes            ckd  \n",
              "4  7300  4.6   no   no  no  good   no   no            ckd  \n",
              "\n",
              "[5 rows x 26 columns]"
            ]
          },
          "execution_count": 22,
          "metadata": {},
          "output_type": "execute_result"
        }
      ],
      "source": [
        "chronic_kidney.head()"
      ]
    },
    {
      "cell_type": "code",
      "execution_count": null,
      "metadata": {
        "colab": {
          "base_uri": "https://localhost:8080/"
        },
        "id": "eCjDeb8-n86c",
        "outputId": "3401b01c-b901-4f76-bfa8-8ff87e929c30"
      },
      "outputs": [
        {
          "name": "stderr",
          "output_type": "stream",
          "text": [
            "C:\\Users\\santo\\AppData\\Local\\Temp\\ipykernel_27432\\2877845836.py:2: FutureWarning: Downcasting behavior in `replace` is deprecated and will be removed in a future version. To retain the old behavior, explicitly call `result.infer_objects(copy=False)`. To opt-in to the future behavior, set `pd.set_option('future.no_silent_downcasting', True)`\n",
            "  chronic_kidney.replace('', np.nan, inplace=True)\n"
          ]
        }
      ],
      "source": [
        "# Replace empty strings with NaN\n",
        "chronic_kidney.replace('', np.nan, inplace=True)\n",
        "\n",
        "# Remove rows with any NaN values across all columns\n",
        "chronic_kidney.dropna(inplace=True)\n",
        "chronic_kidney = chronic_kidney.dropna()"
      ]
    },
    {
      "cell_type": "code",
      "execution_count": null,
      "metadata": {
        "colab": {
          "base_uri": "https://localhost:8080/"
        },
        "id": "QK63g3ocmOiz",
        "outputId": "4a2b20bd-efd3-4691-c670-dfb1c5dfe231"
      },
      "outputs": [
        {
          "name": "stdout",
          "output_type": "stream",
          "text": [
            "<class 'pandas.core.frame.DataFrame'>\n",
            "Index: 158 entries, 3 to 399\n",
            "Data columns (total 26 columns):\n",
            " #   Column          Non-Null Count  Dtype  \n",
            "---  ------          --------------  -----  \n",
            " 0   id              158 non-null    int64  \n",
            " 1   age             158 non-null    float64\n",
            " 2   bp              158 non-null    float64\n",
            " 3   sg              158 non-null    float64\n",
            " 4   al              158 non-null    float64\n",
            " 5   su              158 non-null    float64\n",
            " 6   rbc             158 non-null    object \n",
            " 7   pc              158 non-null    object \n",
            " 8   pcc             158 non-null    object \n",
            " 9   ba              158 non-null    object \n",
            " 10  bgr             158 non-null    float64\n",
            " 11  bu              158 non-null    float64\n",
            " 12  sc              158 non-null    float64\n",
            " 13  sod             158 non-null    float64\n",
            " 14  pot             158 non-null    float64\n",
            " 15  hemo            158 non-null    float64\n",
            " 16  pcv             158 non-null    object \n",
            " 17  wc              158 non-null    object \n",
            " 18  rc              158 non-null    object \n",
            " 19  htn             158 non-null    object \n",
            " 20  dm              158 non-null    object \n",
            " 21  cad             158 non-null    object \n",
            " 22  appet           158 non-null    object \n",
            " 23  pe              158 non-null    object \n",
            " 24  ane             158 non-null    object \n",
            " 25  classification  158 non-null    object \n",
            "dtypes: float64(11), int64(1), object(14)\n",
            "memory usage: 33.3+ KB\n"
          ]
        }
      ],
      "source": [
        "chronic_kidney.info()"
      ]
    },
    {
      "cell_type": "code",
      "execution_count": null,
      "metadata": {
        "id": "GXfS1b1ykl--"
      },
      "outputs": [],
      "source": [
        "chronic_kidney['age'] = chronic_kidney['age'].astype(int)\n",
        "chronic_kidney['bp'] = chronic_kidney['bp'].astype(int)\n",
        "chronic_kidney['sg'] = chronic_kidney['sg'].astype(int)\n",
        "chronic_kidney['al'] = chronic_kidney['al'].astype(int)\n",
        "chronic_kidney['su'] = chronic_kidney['su'].astype(int)\n",
        "chronic_kidney['pcv'] = chronic_kidney['pcv'].astype(int)\n",
        "chronic_kidney['wc'] = chronic_kidney['wc'].astype(int)"
      ]
    },
    {
      "cell_type": "code",
      "execution_count": null,
      "metadata": {
        "id": "ujfagwbFkrym"
      },
      "outputs": [],
      "source": [
        "categorical_cols = ['rbc', 'pc', 'pcc', 'ba', 'htn', 'dm', 'cad', 'appet', 'pe', 'ane', 'classification']\n",
        "\n",
        "# Convert the specified columns to categorical type\n",
        "for col in categorical_cols:\n",
        "    chronic_kidney[col] = chronic_kidney[col].astype('category')"
      ]
    },
    {
      "cell_type": "code",
      "execution_count": null,
      "metadata": {
        "id": "LAxX9jWYo-XR"
      },
      "outputs": [],
      "source": [
        "float_cols = ['bu', 'sc', 'sod', 'pot', 'hemo', 'rc']\n",
        "\n",
        "# Convert the specified columns to categorical type\n",
        "for col in float_cols:\n",
        "    chronic_kidney[col] = chronic_kidney[col].astype(float)"
      ]
    },
    {
      "cell_type": "markdown",
      "metadata": {
        "id": "8Ux5VFpQqS_u"
      },
      "source": [
        "**Dataset 2:** Kidney Mortality rate"
      ]
    },
    {
      "cell_type": "code",
      "execution_count": null,
      "metadata": {
        "colab": {
          "base_uri": "https://localhost:8080/",
          "height": 206
        },
        "id": "fbKvQ88RqSb3",
        "outputId": "099e6938-7a61-401e-fadb-ca68a5ea4571"
      },
      "outputs": [
        {
          "data": {
            "text/html": [
              "<div>\n",
              "<style scoped>\n",
              "    .dataframe tbody tr th:only-of-type {\n",
              "        vertical-align: middle;\n",
              "    }\n",
              "\n",
              "    .dataframe tbody tr th {\n",
              "        vertical-align: top;\n",
              "    }\n",
              "\n",
              "    .dataframe thead th {\n",
              "        text-align: right;\n",
              "    }\n",
              "</style>\n",
              "<table border=\"1\" class=\"dataframe\">\n",
              "  <thead>\n",
              "    <tr style=\"text-align: right;\">\n",
              "      <th></th>\n",
              "      <th>YEAR</th>\n",
              "      <th>STATE</th>\n",
              "      <th>RATE</th>\n",
              "      <th>DEATHS</th>\n",
              "      <th>URL</th>\n",
              "    </tr>\n",
              "  </thead>\n",
              "  <tbody>\n",
              "    <tr>\n",
              "      <th>0</th>\n",
              "      <td>2015</td>\n",
              "      <td>AL</td>\n",
              "      <td>18.4</td>\n",
              "      <td>1040</td>\n",
              "      <td>/nchs/pressroom/states/alabama/alabama.htm</td>\n",
              "    </tr>\n",
              "    <tr>\n",
              "      <th>1</th>\n",
              "      <td>2015</td>\n",
              "      <td>AK</td>\n",
              "      <td>10.0</td>\n",
              "      <td>50</td>\n",
              "      <td>/nchs/pressroom/states/alaska/alaska.htm</td>\n",
              "    </tr>\n",
              "    <tr>\n",
              "      <th>2</th>\n",
              "      <td>2015</td>\n",
              "      <td>AZ</td>\n",
              "      <td>5.5</td>\n",
              "      <td>458</td>\n",
              "      <td>/nchs/pressroom/states/arizona/arizona.htm</td>\n",
              "    </tr>\n",
              "    <tr>\n",
              "      <th>3</th>\n",
              "      <td>2015</td>\n",
              "      <td>AR</td>\n",
              "      <td>19.8</td>\n",
              "      <td>707</td>\n",
              "      <td>/nchs/pressroom/states/arkansas/arkansas.htm</td>\n",
              "    </tr>\n",
              "    <tr>\n",
              "      <th>4</th>\n",
              "      <td>2015</td>\n",
              "      <td>CA</td>\n",
              "      <td>8.6</td>\n",
              "      <td>3557</td>\n",
              "      <td>/nchs/pressroom/states/california/california.htm</td>\n",
              "    </tr>\n",
              "  </tbody>\n",
              "</table>\n",
              "</div>"
            ],
            "text/plain": [
              "   YEAR STATE  RATE  DEATHS                                               URL\n",
              "0  2015    AL  18.4    1040        /nchs/pressroom/states/alabama/alabama.htm\n",
              "1  2015    AK  10.0      50          /nchs/pressroom/states/alaska/alaska.htm\n",
              "2  2015    AZ   5.5     458        /nchs/pressroom/states/arizona/arizona.htm\n",
              "3  2015    AR  19.8     707      /nchs/pressroom/states/arkansas/arkansas.htm\n",
              "4  2015    CA   8.6    3557  /nchs/pressroom/states/california/california.htm"
            ]
          },
          "execution_count": 28,
          "metadata": {},
          "output_type": "execute_result"
        }
      ],
      "source": [
        "Kidney_Mortality_2015.head().reset_index(drop=True)"
      ]
    },
    {
      "cell_type": "code",
      "execution_count": null,
      "metadata": {
        "colab": {
          "base_uri": "https://localhost:8080/"
        },
        "id": "Y8QQgKTOq7_U",
        "outputId": "767b0698-3584-4651-854c-b880dda17ad9"
      },
      "outputs": [
        {
          "name": "stdout",
          "output_type": "stream",
          "text": [
            "<class 'pandas.core.frame.DataFrame'>\n",
            "Index: 50 entries, 351 to 400\n",
            "Data columns (total 5 columns):\n",
            " #   Column  Non-Null Count  Dtype  \n",
            "---  ------  --------------  -----  \n",
            " 0   YEAR    50 non-null     int64  \n",
            " 1   STATE   50 non-null     object \n",
            " 2   RATE    50 non-null     float64\n",
            " 3   DEATHS  50 non-null     int64  \n",
            " 4   URL     50 non-null     object \n",
            "dtypes: float64(1), int64(2), object(2)\n",
            "memory usage: 2.3+ KB\n"
          ]
        }
      ],
      "source": [
        "Kidney_Mortality_2015.info()"
      ]
    },
    {
      "cell_type": "code",
      "execution_count": null,
      "metadata": {
        "id": "jdyW3_lXq_0y"
      },
      "outputs": [],
      "source": [
        "Kidney_Mortality_2015 = Kidney_Mortality_2015.drop('URL', axis=1)"
      ]
    },
    {
      "cell_type": "code",
      "execution_count": null,
      "metadata": {
        "id": "i1U8pH5vrU2F"
      },
      "outputs": [],
      "source": [
        "Kidney_Mortality_2015['STATE'] = Kidney_Mortality_2015['STATE'].astype('string')"
      ]
    },
    {
      "cell_type": "code",
      "execution_count": null,
      "metadata": {
        "colab": {
          "base_uri": "https://localhost:8080/"
        },
        "id": "Iui5pFATrxnn",
        "outputId": "c1b88ab5-3f84-4146-d534-924f91cc9380"
      },
      "outputs": [
        {
          "name": "stdout",
          "output_type": "stream",
          "text": [
            "<class 'pandas.core.frame.DataFrame'>\n",
            "Index: 50 entries, 301 to 350\n",
            "Data columns (total 5 columns):\n",
            " #   Column  Non-Null Count  Dtype  \n",
            "---  ------  --------------  -----  \n",
            " 0   YEAR    50 non-null     int64  \n",
            " 1   STATE   50 non-null     object \n",
            " 2   RATE    50 non-null     float64\n",
            " 3   DEATHS  50 non-null     int64  \n",
            " 4   URL     50 non-null     object \n",
            "dtypes: float64(1), int64(2), object(2)\n",
            "memory usage: 2.3+ KB\n"
          ]
        }
      ],
      "source": [
        "Kidney_Mortality_2016.info()"
      ]
    },
    {
      "cell_type": "code",
      "execution_count": null,
      "metadata": {
        "id": "2FSFi7lBt9Hv"
      },
      "outputs": [],
      "source": [
        "Kidney_Mortality_2016 = Kidney_Mortality_2016.drop('URL', axis=1)"
      ]
    },
    {
      "cell_type": "code",
      "execution_count": null,
      "metadata": {
        "id": "UAvL6R-fuTwG"
      },
      "outputs": [],
      "source": [
        "Kidney_Mortality_2016['STATE'] = Kidney_Mortality_2016['STATE'].astype('string')"
      ]
    },
    {
      "cell_type": "markdown",
      "metadata": {
        "id": "SFUKeMPFyRaS"
      },
      "source": [
        "**Dataset 3:** US States"
      ]
    },
    {
      "cell_type": "code",
      "execution_count": null,
      "metadata": {
        "colab": {
          "base_uri": "https://localhost:8080/",
          "height": 645
        },
        "id": "i0eSDA9_y6Xw",
        "outputId": "f279f863-978f-4803-9b4a-edfe53ec0e9f"
      },
      "outputs": [
        {
          "data": {
            "text/html": [
              "<div>\n",
              "<style scoped>\n",
              "    .dataframe tbody tr th:only-of-type {\n",
              "        vertical-align: middle;\n",
              "    }\n",
              "\n",
              "    .dataframe tbody tr th {\n",
              "        vertical-align: top;\n",
              "    }\n",
              "\n",
              "    .dataframe thead th {\n",
              "        text-align: right;\n",
              "    }\n",
              "</style>\n",
              "<table border=\"1\" class=\"dataframe\">\n",
              "  <thead>\n",
              "    <tr style=\"text-align: right;\">\n",
              "      <th></th>\n",
              "      <th>STATE(TERRITORY)</th>\n",
              "      <th>STATE(TERRITORY).1</th>\n",
              "      <th>STATE(TERRITORY).2</th>\n",
              "      <th>STATE(TERRITORY).3</th>\n",
              "      <th>STATE(TERRITORY).4</th>\n",
              "      <th>STATE(TERRITORY).5</th>\n",
              "    </tr>\n",
              "  </thead>\n",
              "  <tbody>\n",
              "    <tr>\n",
              "      <th>0</th>\n",
              "      <td>Alabama</td>\n",
              "      <td>AL</td>\n",
              "      <td>Kentucky</td>\n",
              "      <td>KY</td>\n",
              "      <td>Ohio</td>\n",
              "      <td>OH</td>\n",
              "    </tr>\n",
              "    <tr>\n",
              "      <th>1</th>\n",
              "      <td>Alaska</td>\n",
              "      <td>AK</td>\n",
              "      <td>Louisiana</td>\n",
              "      <td>LA</td>\n",
              "      <td>Oklahoma</td>\n",
              "      <td>OK</td>\n",
              "    </tr>\n",
              "    <tr>\n",
              "      <th>2</th>\n",
              "      <td>Arizona</td>\n",
              "      <td>AZ</td>\n",
              "      <td>Maine</td>\n",
              "      <td>ME</td>\n",
              "      <td>Oregon</td>\n",
              "      <td>OR</td>\n",
              "    </tr>\n",
              "    <tr>\n",
              "      <th>3</th>\n",
              "      <td>Arkansas</td>\n",
              "      <td>AR</td>\n",
              "      <td>Maryland</td>\n",
              "      <td>MD</td>\n",
              "      <td>Pennsylvania</td>\n",
              "      <td>PA</td>\n",
              "    </tr>\n",
              "    <tr>\n",
              "      <th>4</th>\n",
              "      <td>American Samoa</td>\n",
              "      <td>AS</td>\n",
              "      <td>Massachusetts</td>\n",
              "      <td>MA</td>\n",
              "      <td>Puerto Rico</td>\n",
              "      <td>PR</td>\n",
              "    </tr>\n",
              "    <tr>\n",
              "      <th>5</th>\n",
              "      <td>California</td>\n",
              "      <td>CA</td>\n",
              "      <td>Michigan</td>\n",
              "      <td>MI</td>\n",
              "      <td>Rhode Island</td>\n",
              "      <td>RI</td>\n",
              "    </tr>\n",
              "    <tr>\n",
              "      <th>6</th>\n",
              "      <td>Colorado</td>\n",
              "      <td>CO</td>\n",
              "      <td>Minnesota</td>\n",
              "      <td>MN</td>\n",
              "      <td>South Carolina</td>\n",
              "      <td>SC</td>\n",
              "    </tr>\n",
              "    <tr>\n",
              "      <th>7</th>\n",
              "      <td>Connecticut</td>\n",
              "      <td>CT</td>\n",
              "      <td>Mississippi</td>\n",
              "      <td>MS</td>\n",
              "      <td>South Dakota</td>\n",
              "      <td>SD</td>\n",
              "    </tr>\n",
              "    <tr>\n",
              "      <th>8</th>\n",
              "      <td>Delaware</td>\n",
              "      <td>DE</td>\n",
              "      <td>Missouri</td>\n",
              "      <td>MO</td>\n",
              "      <td>Tennessee</td>\n",
              "      <td>TN</td>\n",
              "    </tr>\n",
              "    <tr>\n",
              "      <th>9</th>\n",
              "      <td>District of Columbia</td>\n",
              "      <td>DC</td>\n",
              "      <td>Montana</td>\n",
              "      <td>MT</td>\n",
              "      <td>Texas</td>\n",
              "      <td>TX</td>\n",
              "    </tr>\n",
              "    <tr>\n",
              "      <th>10</th>\n",
              "      <td>Florida</td>\n",
              "      <td>FL</td>\n",
              "      <td>Nebraska</td>\n",
              "      <td>NE</td>\n",
              "      <td>Trust Territories</td>\n",
              "      <td>TT</td>\n",
              "    </tr>\n",
              "    <tr>\n",
              "      <th>11</th>\n",
              "      <td>Georgia</td>\n",
              "      <td>GA</td>\n",
              "      <td>Nevada</td>\n",
              "      <td>NV</td>\n",
              "      <td>Utah</td>\n",
              "      <td>UT</td>\n",
              "    </tr>\n",
              "    <tr>\n",
              "      <th>12</th>\n",
              "      <td>Guam</td>\n",
              "      <td>GU</td>\n",
              "      <td>New Hampshire</td>\n",
              "      <td>NH</td>\n",
              "      <td>Vermont</td>\n",
              "      <td>VT</td>\n",
              "    </tr>\n",
              "    <tr>\n",
              "      <th>13</th>\n",
              "      <td>Hawaii</td>\n",
              "      <td>HI</td>\n",
              "      <td>New Jersey</td>\n",
              "      <td>NJ</td>\n",
              "      <td>Virginia</td>\n",
              "      <td>VA</td>\n",
              "    </tr>\n",
              "    <tr>\n",
              "      <th>14</th>\n",
              "      <td>Idaho</td>\n",
              "      <td>ID</td>\n",
              "      <td>New Mexico</td>\n",
              "      <td>NM</td>\n",
              "      <td>Virgin Islands</td>\n",
              "      <td>VI</td>\n",
              "    </tr>\n",
              "    <tr>\n",
              "      <th>15</th>\n",
              "      <td>Illinois</td>\n",
              "      <td>IL</td>\n",
              "      <td>New York</td>\n",
              "      <td>NY</td>\n",
              "      <td>Washington</td>\n",
              "      <td>WA</td>\n",
              "    </tr>\n",
              "    <tr>\n",
              "      <th>16</th>\n",
              "      <td>Indiana</td>\n",
              "      <td>IN</td>\n",
              "      <td>North Carolina</td>\n",
              "      <td>NC</td>\n",
              "      <td>West Virginia</td>\n",
              "      <td>WV</td>\n",
              "    </tr>\n",
              "    <tr>\n",
              "      <th>17</th>\n",
              "      <td>Iowa</td>\n",
              "      <td>IA</td>\n",
              "      <td>North Dakota</td>\n",
              "      <td>ND</td>\n",
              "      <td>Wisconsin</td>\n",
              "      <td>WI</td>\n",
              "    </tr>\n",
              "    <tr>\n",
              "      <th>18</th>\n",
              "      <td>Kansas</td>\n",
              "      <td>KS</td>\n",
              "      <td>Northern Mariana Islands</td>\n",
              "      <td>MP</td>\n",
              "      <td>Wyoming</td>\n",
              "      <td>WY</td>\n",
              "    </tr>\n",
              "  </tbody>\n",
              "</table>\n",
              "</div>"
            ],
            "text/plain": [
              "        STATE(TERRITORY) STATE(TERRITORY).1        STATE(TERRITORY).2  \\\n",
              "0                Alabama                 AL                  Kentucky   \n",
              "1                 Alaska                 AK                 Louisiana   \n",
              "2                Arizona                 AZ                     Maine   \n",
              "3               Arkansas                 AR                  Maryland   \n",
              "4         American Samoa                 AS             Massachusetts   \n",
              "5             California                 CA                  Michigan   \n",
              "6               Colorado                 CO                 Minnesota   \n",
              "7            Connecticut                 CT               Mississippi   \n",
              "8               Delaware                 DE                  Missouri   \n",
              "9   District of Columbia                 DC                   Montana   \n",
              "10               Florida                 FL                  Nebraska   \n",
              "11               Georgia                 GA                    Nevada   \n",
              "12                  Guam                 GU             New Hampshire   \n",
              "13                Hawaii                 HI                New Jersey   \n",
              "14                 Idaho                 ID                New Mexico   \n",
              "15              Illinois                 IL                  New York   \n",
              "16               Indiana                 IN            North Carolina   \n",
              "17                  Iowa                 IA              North Dakota   \n",
              "18                Kansas                 KS  Northern Mariana Islands   \n",
              "\n",
              "   STATE(TERRITORY).3 STATE(TERRITORY).4 STATE(TERRITORY).5  \n",
              "0                  KY               Ohio                 OH  \n",
              "1                  LA           Oklahoma                 OK  \n",
              "2                  ME             Oregon                 OR  \n",
              "3                  MD       Pennsylvania                 PA  \n",
              "4                  MA        Puerto Rico                 PR  \n",
              "5                  MI       Rhode Island                 RI  \n",
              "6                  MN     South Carolina                 SC  \n",
              "7                  MS       South Dakota                 SD  \n",
              "8                  MO          Tennessee                 TN  \n",
              "9                  MT              Texas                 TX  \n",
              "10                 NE  Trust Territories                 TT  \n",
              "11                 NV               Utah                 UT  \n",
              "12                 NH            Vermont                 VT  \n",
              "13                 NJ           Virginia                 VA  \n",
              "14                 NM     Virgin Islands                 VI  \n",
              "15                 NY         Washington                 WA  \n",
              "16                 NC      West Virginia                 WV  \n",
              "17                 ND          Wisconsin                 WI  \n",
              "18                 MP            Wyoming                 WY  "
            ]
          },
          "execution_count": 35,
          "metadata": {},
          "output_type": "execute_result"
        }
      ],
      "source": [
        "state_table"
      ]
    },
    {
      "cell_type": "code",
      "execution_count": null,
      "metadata": {
        "id": "bUgBYzk-yPdx"
      },
      "outputs": [],
      "source": [
        "# Flattening the DataFrame into a single list of values\n",
        "flat_list = state_table.values.flatten()\n",
        "\n",
        "# Reshaping into a 2-column DataFrame: One for state names, one for abbreviations\n",
        "# Since the list alternates between state name and abbreviation, use slicing\n",
        "US_States = pd.DataFrame({\n",
        "    'State': flat_list[::2],\n",
        "    'Abbreviation': flat_list[1::2]\n",
        "})"
      ]
    },
    {
      "cell_type": "code",
      "execution_count": null,
      "metadata": {
        "colab": {
          "base_uri": "https://localhost:8080/",
          "height": 206
        },
        "id": "Jh5G3ObMy-Td",
        "outputId": "6b6c4b04-f34a-4d31-8772-5ded6a8e5c84"
      },
      "outputs": [
        {
          "data": {
            "text/html": [
              "<div>\n",
              "<style scoped>\n",
              "    .dataframe tbody tr th:only-of-type {\n",
              "        vertical-align: middle;\n",
              "    }\n",
              "\n",
              "    .dataframe tbody tr th {\n",
              "        vertical-align: top;\n",
              "    }\n",
              "\n",
              "    .dataframe thead th {\n",
              "        text-align: right;\n",
              "    }\n",
              "</style>\n",
              "<table border=\"1\" class=\"dataframe\">\n",
              "  <thead>\n",
              "    <tr style=\"text-align: right;\">\n",
              "      <th></th>\n",
              "      <th>State</th>\n",
              "      <th>Abbreviation</th>\n",
              "    </tr>\n",
              "  </thead>\n",
              "  <tbody>\n",
              "    <tr>\n",
              "      <th>0</th>\n",
              "      <td>Alabama</td>\n",
              "      <td>AL</td>\n",
              "    </tr>\n",
              "    <tr>\n",
              "      <th>1</th>\n",
              "      <td>Kentucky</td>\n",
              "      <td>KY</td>\n",
              "    </tr>\n",
              "    <tr>\n",
              "      <th>2</th>\n",
              "      <td>Ohio</td>\n",
              "      <td>OH</td>\n",
              "    </tr>\n",
              "    <tr>\n",
              "      <th>3</th>\n",
              "      <td>Alaska</td>\n",
              "      <td>AK</td>\n",
              "    </tr>\n",
              "    <tr>\n",
              "      <th>4</th>\n",
              "      <td>Louisiana</td>\n",
              "      <td>LA</td>\n",
              "    </tr>\n",
              "  </tbody>\n",
              "</table>\n",
              "</div>"
            ],
            "text/plain": [
              "       State Abbreviation\n",
              "0    Alabama           AL\n",
              "1   Kentucky           KY\n",
              "2       Ohio           OH\n",
              "3     Alaska           AK\n",
              "4  Louisiana           LA"
            ]
          },
          "execution_count": 37,
          "metadata": {},
          "output_type": "execute_result"
        }
      ],
      "source": [
        "US_States.head()"
      ]
    },
    {
      "cell_type": "markdown",
      "metadata": {
        "id": "QnMet2C7zYLG"
      },
      "source": [
        "# **Data Merging**"
      ]
    },
    {
      "cell_type": "markdown",
      "metadata": {
        "id": "yU9_di4D2PDP"
      },
      "source": [
        "**Merge datasets Kidney_Mortality_2015 and Kidney_Mortality_2016**"
      ]
    },
    {
      "cell_type": "code",
      "execution_count": null,
      "metadata": {
        "colab": {
          "base_uri": "https://localhost:8080/",
          "height": 206
        },
        "id": "SfXIc8b_zXIo",
        "outputId": "d462b100-3804-4070-e331-7c0e4cbd9bf1"
      },
      "outputs": [
        {
          "data": {
            "text/html": [
              "<div>\n",
              "<style scoped>\n",
              "    .dataframe tbody tr th:only-of-type {\n",
              "        vertical-align: middle;\n",
              "    }\n",
              "\n",
              "    .dataframe tbody tr th {\n",
              "        vertical-align: top;\n",
              "    }\n",
              "\n",
              "    .dataframe thead th {\n",
              "        text-align: right;\n",
              "    }\n",
              "</style>\n",
              "<table border=\"1\" class=\"dataframe\">\n",
              "  <thead>\n",
              "    <tr style=\"text-align: right;\">\n",
              "      <th></th>\n",
              "      <th>YEAR_2015</th>\n",
              "      <th>STATE</th>\n",
              "      <th>RATE_2015</th>\n",
              "      <th>DEATHS_2015</th>\n",
              "      <th>YEAR_2016</th>\n",
              "      <th>RATE_2016</th>\n",
              "      <th>DEATHS_2016</th>\n",
              "    </tr>\n",
              "  </thead>\n",
              "  <tbody>\n",
              "    <tr>\n",
              "      <th>0</th>\n",
              "      <td>2015</td>\n",
              "      <td>AL</td>\n",
              "      <td>18.4</td>\n",
              "      <td>1040</td>\n",
              "      <td>2016</td>\n",
              "      <td>17.4</td>\n",
              "      <td>1012</td>\n",
              "    </tr>\n",
              "    <tr>\n",
              "      <th>1</th>\n",
              "      <td>2015</td>\n",
              "      <td>AK</td>\n",
              "      <td>10.0</td>\n",
              "      <td>50</td>\n",
              "      <td>2016</td>\n",
              "      <td>10.0</td>\n",
              "      <td>53</td>\n",
              "    </tr>\n",
              "    <tr>\n",
              "      <th>2</th>\n",
              "      <td>2015</td>\n",
              "      <td>AZ</td>\n",
              "      <td>5.5</td>\n",
              "      <td>458</td>\n",
              "      <td>2016</td>\n",
              "      <td>5.7</td>\n",
              "      <td>487</td>\n",
              "    </tr>\n",
              "    <tr>\n",
              "      <th>3</th>\n",
              "      <td>2015</td>\n",
              "      <td>AR</td>\n",
              "      <td>19.8</td>\n",
              "      <td>707</td>\n",
              "      <td>2016</td>\n",
              "      <td>20.0</td>\n",
              "      <td>722</td>\n",
              "    </tr>\n",
              "    <tr>\n",
              "      <th>4</th>\n",
              "      <td>2015</td>\n",
              "      <td>CA</td>\n",
              "      <td>8.6</td>\n",
              "      <td>3557</td>\n",
              "      <td>2016</td>\n",
              "      <td>8.6</td>\n",
              "      <td>3640</td>\n",
              "    </tr>\n",
              "  </tbody>\n",
              "</table>\n",
              "</div>"
            ],
            "text/plain": [
              "   YEAR_2015 STATE  RATE_2015  DEATHS_2015  YEAR_2016  RATE_2016  DEATHS_2016\n",
              "0       2015    AL       18.4         1040       2016       17.4         1012\n",
              "1       2015    AK       10.0           50       2016       10.0           53\n",
              "2       2015    AZ        5.5          458       2016        5.7          487\n",
              "3       2015    AR       19.8          707       2016       20.0          722\n",
              "4       2015    CA        8.6         3557       2016        8.6         3640"
            ]
          },
          "execution_count": 38,
          "metadata": {},
          "output_type": "execute_result"
        }
      ],
      "source": [
        "Kidney_Mortality_data = pd.merge(Kidney_Mortality_2015, Kidney_Mortality_2016, on='STATE', suffixes=('_2015', '_2016'))\n",
        "\n",
        "# Check the merged DataFrame\n",
        "Kidney_Mortality_data.head()"
      ]
    },
    {
      "cell_type": "code",
      "execution_count": null,
      "metadata": {
        "id": "pYS8dRDB2OGK"
      },
      "outputs": [],
      "source": [
        "Kidney_Mortality_data = Kidney_Mortality_data.drop(['YEAR_2015', 'YEAR_2016'], axis=1)"
      ]
    },
    {
      "cell_type": "markdown",
      "metadata": {
        "id": "XJH37gPg20b5"
      },
      "source": [
        "**Merge Kidney_Mortality_data and US_States**"
      ]
    },
    {
      "cell_type": "code",
      "execution_count": null,
      "metadata": {
        "id": "btAxmzih0iK2"
      },
      "outputs": [],
      "source": [
        "# Renaming the 'Abbreviation' column in US_States to 'STATE' for a consistent merge key\n",
        "US_States.rename(columns={'Abbreviation': 'STATE'}, inplace=True)\n",
        "\n",
        "# Merging the DataFrames on the 'STATE' column\n",
        "Kidney_Mortality_merged = pd.merge(US_States, Kidney_Mortality_data, on='STATE', how='inner')"
      ]
    },
    {
      "cell_type": "code",
      "execution_count": null,
      "metadata": {
        "id": "UpNILmwbFgwi"
      },
      "outputs": [],
      "source": [
        "Kidney_Mortality_merged.rename(columns={'STATE': 'Abbrevation'}, inplace=True)"
      ]
    },
    {
      "cell_type": "code",
      "execution_count": null,
      "metadata": {
        "colab": {
          "base_uri": "https://localhost:8080/"
        },
        "id": "gXKTH_F86FSI",
        "outputId": "7a9b0326-8695-4680-aff0-4f8f01a2fda4"
      },
      "outputs": [
        {
          "name": "stdout",
          "output_type": "stream",
          "text": [
            "<class 'pandas.core.frame.DataFrame'>\n",
            "RangeIndex: 50 entries, 0 to 49\n",
            "Data columns (total 6 columns):\n",
            " #   Column       Non-Null Count  Dtype  \n",
            "---  ------       --------------  -----  \n",
            " 0   State        50 non-null     object \n",
            " 1   Abbrevation  50 non-null     object \n",
            " 2   RATE_2015    50 non-null     float64\n",
            " 3   DEATHS_2015  50 non-null     int64  \n",
            " 4   RATE_2016    50 non-null     float64\n",
            " 5   DEATHS_2016  50 non-null     int64  \n",
            "dtypes: float64(2), int64(2), object(2)\n",
            "memory usage: 2.5+ KB\n"
          ]
        }
      ],
      "source": [
        "Kidney_Mortality_merged.info()"
      ]
    },
    {
      "cell_type": "code",
      "execution_count": null,
      "metadata": {
        "colab": {
          "base_uri": "https://localhost:8080/",
          "height": 1000
        },
        "id": "Dj9z49rJ4VF0",
        "outputId": "7ecf0942-0440-41df-e5df-29bdcd5fcfca"
      },
      "outputs": [
        {
          "data": {
            "text/html": [
              "<div>\n",
              "<style scoped>\n",
              "    .dataframe tbody tr th:only-of-type {\n",
              "        vertical-align: middle;\n",
              "    }\n",
              "\n",
              "    .dataframe tbody tr th {\n",
              "        vertical-align: top;\n",
              "    }\n",
              "\n",
              "    .dataframe thead th {\n",
              "        text-align: right;\n",
              "    }\n",
              "</style>\n",
              "<table border=\"1\" class=\"dataframe\">\n",
              "  <thead>\n",
              "    <tr style=\"text-align: right;\">\n",
              "      <th></th>\n",
              "      <th>State</th>\n",
              "      <th>Abbrevation</th>\n",
              "      <th>RATE_2015</th>\n",
              "      <th>DEATHS_2015</th>\n",
              "      <th>RATE_2016</th>\n",
              "      <th>DEATHS_2016</th>\n",
              "    </tr>\n",
              "  </thead>\n",
              "  <tbody>\n",
              "    <tr>\n",
              "      <th>0</th>\n",
              "      <td>Alabama</td>\n",
              "      <td>AL</td>\n",
              "      <td>18.4</td>\n",
              "      <td>1040</td>\n",
              "      <td>17.4</td>\n",
              "      <td>1012</td>\n",
              "    </tr>\n",
              "    <tr>\n",
              "      <th>1</th>\n",
              "      <td>Kentucky</td>\n",
              "      <td>KY</td>\n",
              "      <td>19.7</td>\n",
              "      <td>998</td>\n",
              "      <td>20.3</td>\n",
              "      <td>1034</td>\n",
              "    </tr>\n",
              "    <tr>\n",
              "      <th>2</th>\n",
              "      <td>Ohio</td>\n",
              "      <td>OH</td>\n",
              "      <td>14.5</td>\n",
              "      <td>2100</td>\n",
              "      <td>15.4</td>\n",
              "      <td>2262</td>\n",
              "    </tr>\n",
              "    <tr>\n",
              "      <th>3</th>\n",
              "      <td>Alaska</td>\n",
              "      <td>AK</td>\n",
              "      <td>10.0</td>\n",
              "      <td>50</td>\n",
              "      <td>10.0</td>\n",
              "      <td>53</td>\n",
              "    </tr>\n",
              "    <tr>\n",
              "      <th>4</th>\n",
              "      <td>Louisiana</td>\n",
              "      <td>LA</td>\n",
              "      <td>23.2</td>\n",
              "      <td>1160</td>\n",
              "      <td>22.6</td>\n",
              "      <td>1153</td>\n",
              "    </tr>\n",
              "    <tr>\n",
              "      <th>5</th>\n",
              "      <td>Oklahoma</td>\n",
              "      <td>OK</td>\n",
              "      <td>14.2</td>\n",
              "      <td>616</td>\n",
              "      <td>12.9</td>\n",
              "      <td>577</td>\n",
              "    </tr>\n",
              "    <tr>\n",
              "      <th>6</th>\n",
              "      <td>Arizona</td>\n",
              "      <td>AZ</td>\n",
              "      <td>5.5</td>\n",
              "      <td>458</td>\n",
              "      <td>5.7</td>\n",
              "      <td>487</td>\n",
              "    </tr>\n",
              "    <tr>\n",
              "      <th>7</th>\n",
              "      <td>Maine</td>\n",
              "      <td>ME</td>\n",
              "      <td>11.4</td>\n",
              "      <td>211</td>\n",
              "      <td>12.4</td>\n",
              "      <td>239</td>\n",
              "    </tr>\n",
              "    <tr>\n",
              "      <th>8</th>\n",
              "      <td>Oregon</td>\n",
              "      <td>OR</td>\n",
              "      <td>8.2</td>\n",
              "      <td>409</td>\n",
              "      <td>7.7</td>\n",
              "      <td>398</td>\n",
              "    </tr>\n",
              "    <tr>\n",
              "      <th>9</th>\n",
              "      <td>Arkansas</td>\n",
              "      <td>AR</td>\n",
              "      <td>19.8</td>\n",
              "      <td>707</td>\n",
              "      <td>20.0</td>\n",
              "      <td>722</td>\n",
              "    </tr>\n",
              "    <tr>\n",
              "      <th>10</th>\n",
              "      <td>Maryland</td>\n",
              "      <td>MD</td>\n",
              "      <td>12.3</td>\n",
              "      <td>834</td>\n",
              "      <td>12.1</td>\n",
              "      <td>823</td>\n",
              "    </tr>\n",
              "    <tr>\n",
              "      <th>11</th>\n",
              "      <td>Pennsylvania</td>\n",
              "      <td>PA</td>\n",
              "      <td>16.9</td>\n",
              "      <td>3021</td>\n",
              "      <td>15.7</td>\n",
              "      <td>2813</td>\n",
              "    </tr>\n",
              "    <tr>\n",
              "      <th>12</th>\n",
              "      <td>Massachusetts</td>\n",
              "      <td>MA</td>\n",
              "      <td>14.3</td>\n",
              "      <td>1228</td>\n",
              "      <td>13.2</td>\n",
              "      <td>1139</td>\n",
              "    </tr>\n",
              "    <tr>\n",
              "      <th>13</th>\n",
              "      <td>California</td>\n",
              "      <td>CA</td>\n",
              "      <td>8.6</td>\n",
              "      <td>3557</td>\n",
              "      <td>8.6</td>\n",
              "      <td>3640</td>\n",
              "    </tr>\n",
              "    <tr>\n",
              "      <th>14</th>\n",
              "      <td>Michigan</td>\n",
              "      <td>MI</td>\n",
              "      <td>15.6</td>\n",
              "      <td>1921</td>\n",
              "      <td>14.3</td>\n",
              "      <td>1791</td>\n",
              "    </tr>\n",
              "    <tr>\n",
              "      <th>15</th>\n",
              "      <td>Rhode Island</td>\n",
              "      <td>RI</td>\n",
              "      <td>9.8</td>\n",
              "      <td>142</td>\n",
              "      <td>9.9</td>\n",
              "      <td>141</td>\n",
              "    </tr>\n",
              "    <tr>\n",
              "      <th>16</th>\n",
              "      <td>Colorado</td>\n",
              "      <td>CO</td>\n",
              "      <td>8.5</td>\n",
              "      <td>458</td>\n",
              "      <td>8.9</td>\n",
              "      <td>491</td>\n",
              "    </tr>\n",
              "    <tr>\n",
              "      <th>17</th>\n",
              "      <td>Minnesota</td>\n",
              "      <td>MN</td>\n",
              "      <td>9.7</td>\n",
              "      <td>639</td>\n",
              "      <td>8.8</td>\n",
              "      <td>588</td>\n",
              "    </tr>\n",
              "    <tr>\n",
              "      <th>18</th>\n",
              "      <td>South Carolina</td>\n",
              "      <td>SC</td>\n",
              "      <td>15.5</td>\n",
              "      <td>886</td>\n",
              "      <td>15.3</td>\n",
              "      <td>897</td>\n",
              "    </tr>\n",
              "    <tr>\n",
              "      <th>19</th>\n",
              "      <td>Connecticut</td>\n",
              "      <td>CT</td>\n",
              "      <td>12.1</td>\n",
              "      <td>584</td>\n",
              "      <td>12.1</td>\n",
              "      <td>570</td>\n",
              "    </tr>\n",
              "    <tr>\n",
              "      <th>20</th>\n",
              "      <td>Mississippi</td>\n",
              "      <td>MS</td>\n",
              "      <td>22.0</td>\n",
              "      <td>731</td>\n",
              "      <td>22.8</td>\n",
              "      <td>763</td>\n",
              "    </tr>\n",
              "    <tr>\n",
              "      <th>21</th>\n",
              "      <td>South Dakota</td>\n",
              "      <td>SD</td>\n",
              "      <td>7.4</td>\n",
              "      <td>79</td>\n",
              "      <td>7.6</td>\n",
              "      <td>90</td>\n",
              "    </tr>\n",
              "    <tr>\n",
              "      <th>22</th>\n",
              "      <td>Delaware</td>\n",
              "      <td>DE</td>\n",
              "      <td>14.5</td>\n",
              "      <td>174</td>\n",
              "      <td>17.1</td>\n",
              "      <td>208</td>\n",
              "    </tr>\n",
              "    <tr>\n",
              "      <th>23</th>\n",
              "      <td>Missouri</td>\n",
              "      <td>MO</td>\n",
              "      <td>19.9</td>\n",
              "      <td>1483</td>\n",
              "      <td>19.6</td>\n",
              "      <td>1483</td>\n",
              "    </tr>\n",
              "    <tr>\n",
              "      <th>24</th>\n",
              "      <td>Tennessee</td>\n",
              "      <td>TN</td>\n",
              "      <td>14.4</td>\n",
              "      <td>1090</td>\n",
              "      <td>14.9</td>\n",
              "      <td>1150</td>\n",
              "    </tr>\n",
              "    <tr>\n",
              "      <th>25</th>\n",
              "      <td>Montana</td>\n",
              "      <td>MT</td>\n",
              "      <td>9.3</td>\n",
              "      <td>121</td>\n",
              "      <td>11.3</td>\n",
              "      <td>155</td>\n",
              "    </tr>\n",
              "    <tr>\n",
              "      <th>26</th>\n",
              "      <td>Texas</td>\n",
              "      <td>TX</td>\n",
              "      <td>16.1</td>\n",
              "      <td>4052</td>\n",
              "      <td>15.8</td>\n",
              "      <td>4125</td>\n",
              "    </tr>\n",
              "    <tr>\n",
              "      <th>27</th>\n",
              "      <td>Florida</td>\n",
              "      <td>FL</td>\n",
              "      <td>10.8</td>\n",
              "      <td>3203</td>\n",
              "      <td>10.2</td>\n",
              "      <td>3144</td>\n",
              "    </tr>\n",
              "    <tr>\n",
              "      <th>28</th>\n",
              "      <td>Nebraska</td>\n",
              "      <td>NE</td>\n",
              "      <td>11.2</td>\n",
              "      <td>264</td>\n",
              "      <td>9.5</td>\n",
              "      <td>220</td>\n",
              "    </tr>\n",
              "    <tr>\n",
              "      <th>29</th>\n",
              "      <td>Georgia</td>\n",
              "      <td>GA</td>\n",
              "      <td>19.2</td>\n",
              "      <td>1881</td>\n",
              "      <td>18.4</td>\n",
              "      <td>1864</td>\n",
              "    </tr>\n",
              "    <tr>\n",
              "      <th>30</th>\n",
              "      <td>Nevada</td>\n",
              "      <td>NV</td>\n",
              "      <td>10.5</td>\n",
              "      <td>316</td>\n",
              "      <td>8.8</td>\n",
              "      <td>274</td>\n",
              "    </tr>\n",
              "    <tr>\n",
              "      <th>31</th>\n",
              "      <td>Utah</td>\n",
              "      <td>UT</td>\n",
              "      <td>15.6</td>\n",
              "      <td>363</td>\n",
              "      <td>15.2</td>\n",
              "      <td>370</td>\n",
              "    </tr>\n",
              "    <tr>\n",
              "      <th>32</th>\n",
              "      <td>New Hampshire</td>\n",
              "      <td>NH</td>\n",
              "      <td>11.4</td>\n",
              "      <td>194</td>\n",
              "      <td>9.4</td>\n",
              "      <td>161</td>\n",
              "    </tr>\n",
              "    <tr>\n",
              "      <th>33</th>\n",
              "      <td>Vermont</td>\n",
              "      <td>VT</td>\n",
              "      <td>4.5</td>\n",
              "      <td>39</td>\n",
              "      <td>3.7</td>\n",
              "      <td>30</td>\n",
              "    </tr>\n",
              "    <tr>\n",
              "      <th>34</th>\n",
              "      <td>Hawaii</td>\n",
              "      <td>HI</td>\n",
              "      <td>10.8</td>\n",
              "      <td>202</td>\n",
              "      <td>11.2</td>\n",
              "      <td>215</td>\n",
              "    </tr>\n",
              "    <tr>\n",
              "      <th>35</th>\n",
              "      <td>New Jersey</td>\n",
              "      <td>NJ</td>\n",
              "      <td>14.4</td>\n",
              "      <td>1582</td>\n",
              "      <td>13.8</td>\n",
              "      <td>1535</td>\n",
              "    </tr>\n",
              "    <tr>\n",
              "      <th>36</th>\n",
              "      <td>Virginia</td>\n",
              "      <td>VA</td>\n",
              "      <td>16.1</td>\n",
              "      <td>1470</td>\n",
              "      <td>16.6</td>\n",
              "      <td>1543</td>\n",
              "    </tr>\n",
              "    <tr>\n",
              "      <th>37</th>\n",
              "      <td>Idaho</td>\n",
              "      <td>ID</td>\n",
              "      <td>8.7</td>\n",
              "      <td>154</td>\n",
              "      <td>10.3</td>\n",
              "      <td>190</td>\n",
              "    </tr>\n",
              "    <tr>\n",
              "      <th>38</th>\n",
              "      <td>New Mexico</td>\n",
              "      <td>NM</td>\n",
              "      <td>12.9</td>\n",
              "      <td>316</td>\n",
              "      <td>11.7</td>\n",
              "      <td>293</td>\n",
              "    </tr>\n",
              "    <tr>\n",
              "      <th>39</th>\n",
              "      <td>Illinois</td>\n",
              "      <td>IL</td>\n",
              "      <td>17.3</td>\n",
              "      <td>2543</td>\n",
              "      <td>17.0</td>\n",
              "      <td>2518</td>\n",
              "    </tr>\n",
              "    <tr>\n",
              "      <th>40</th>\n",
              "      <td>New York</td>\n",
              "      <td>NY</td>\n",
              "      <td>9.3</td>\n",
              "      <td>2245</td>\n",
              "      <td>9.8</td>\n",
              "      <td>2385</td>\n",
              "    </tr>\n",
              "    <tr>\n",
              "      <th>41</th>\n",
              "      <td>Washington</td>\n",
              "      <td>WA</td>\n",
              "      <td>5.9</td>\n",
              "      <td>474</td>\n",
              "      <td>6.6</td>\n",
              "      <td>532</td>\n",
              "    </tr>\n",
              "    <tr>\n",
              "      <th>42</th>\n",
              "      <td>Indiana</td>\n",
              "      <td>IN</td>\n",
              "      <td>18.9</td>\n",
              "      <td>1450</td>\n",
              "      <td>18.4</td>\n",
              "      <td>1411</td>\n",
              "    </tr>\n",
              "    <tr>\n",
              "      <th>43</th>\n",
              "      <td>North Carolina</td>\n",
              "      <td>NC</td>\n",
              "      <td>16.0</td>\n",
              "      <td>1821</td>\n",
              "      <td>17.1</td>\n",
              "      <td>2002</td>\n",
              "    </tr>\n",
              "    <tr>\n",
              "      <th>44</th>\n",
              "      <td>West Virginia</td>\n",
              "      <td>WV</td>\n",
              "      <td>20.4</td>\n",
              "      <td>510</td>\n",
              "      <td>19.3</td>\n",
              "      <td>481</td>\n",
              "    </tr>\n",
              "    <tr>\n",
              "      <th>45</th>\n",
              "      <td>Iowa</td>\n",
              "      <td>IA</td>\n",
              "      <td>8.0</td>\n",
              "      <td>336</td>\n",
              "      <td>8.3</td>\n",
              "      <td>352</td>\n",
              "    </tr>\n",
              "    <tr>\n",
              "      <th>46</th>\n",
              "      <td>North Dakota</td>\n",
              "      <td>ND</td>\n",
              "      <td>12.5</td>\n",
              "      <td>118</td>\n",
              "      <td>11.3</td>\n",
              "      <td>106</td>\n",
              "    </tr>\n",
              "    <tr>\n",
              "      <th>47</th>\n",
              "      <td>Wisconsin</td>\n",
              "      <td>WI</td>\n",
              "      <td>13.7</td>\n",
              "      <td>996</td>\n",
              "      <td>13.0</td>\n",
              "      <td>960</td>\n",
              "    </tr>\n",
              "    <tr>\n",
              "      <th>48</th>\n",
              "      <td>Kansas</td>\n",
              "      <td>KS</td>\n",
              "      <td>16.8</td>\n",
              "      <td>582</td>\n",
              "      <td>15.0</td>\n",
              "      <td>533</td>\n",
              "    </tr>\n",
              "    <tr>\n",
              "      <th>49</th>\n",
              "      <td>Wyoming</td>\n",
              "      <td>WY</td>\n",
              "      <td>13.3</td>\n",
              "      <td>86</td>\n",
              "      <td>10.0</td>\n",
              "      <td>66</td>\n",
              "    </tr>\n",
              "  </tbody>\n",
              "</table>\n",
              "</div>"
            ],
            "text/plain": [
              "             State Abbrevation  RATE_2015  DEATHS_2015  RATE_2016  DEATHS_2016\n",
              "0          Alabama          AL       18.4         1040       17.4         1012\n",
              "1         Kentucky          KY       19.7          998       20.3         1034\n",
              "2             Ohio          OH       14.5         2100       15.4         2262\n",
              "3           Alaska          AK       10.0           50       10.0           53\n",
              "4        Louisiana          LA       23.2         1160       22.6         1153\n",
              "5         Oklahoma          OK       14.2          616       12.9          577\n",
              "6          Arizona          AZ        5.5          458        5.7          487\n",
              "7            Maine          ME       11.4          211       12.4          239\n",
              "8           Oregon          OR        8.2          409        7.7          398\n",
              "9         Arkansas          AR       19.8          707       20.0          722\n",
              "10        Maryland          MD       12.3          834       12.1          823\n",
              "11    Pennsylvania          PA       16.9         3021       15.7         2813\n",
              "12   Massachusetts          MA       14.3         1228       13.2         1139\n",
              "13      California          CA        8.6         3557        8.6         3640\n",
              "14        Michigan          MI       15.6         1921       14.3         1791\n",
              "15    Rhode Island          RI        9.8          142        9.9          141\n",
              "16        Colorado          CO        8.5          458        8.9          491\n",
              "17       Minnesota          MN        9.7          639        8.8          588\n",
              "18  South Carolina          SC       15.5          886       15.3          897\n",
              "19     Connecticut          CT       12.1          584       12.1          570\n",
              "20     Mississippi          MS       22.0          731       22.8          763\n",
              "21    South Dakota          SD        7.4           79        7.6           90\n",
              "22        Delaware          DE       14.5          174       17.1          208\n",
              "23        Missouri          MO       19.9         1483       19.6         1483\n",
              "24       Tennessee          TN       14.4         1090       14.9         1150\n",
              "25         Montana          MT        9.3          121       11.3          155\n",
              "26           Texas          TX       16.1         4052       15.8         4125\n",
              "27         Florida          FL       10.8         3203       10.2         3144\n",
              "28        Nebraska          NE       11.2          264        9.5          220\n",
              "29         Georgia          GA       19.2         1881       18.4         1864\n",
              "30          Nevada          NV       10.5          316        8.8          274\n",
              "31            Utah          UT       15.6          363       15.2          370\n",
              "32   New Hampshire          NH       11.4          194        9.4          161\n",
              "33         Vermont          VT        4.5           39        3.7           30\n",
              "34          Hawaii          HI       10.8          202       11.2          215\n",
              "35      New Jersey          NJ       14.4         1582       13.8         1535\n",
              "36        Virginia          VA       16.1         1470       16.6         1543\n",
              "37           Idaho          ID        8.7          154       10.3          190\n",
              "38      New Mexico          NM       12.9          316       11.7          293\n",
              "39        Illinois          IL       17.3         2543       17.0         2518\n",
              "40        New York          NY        9.3         2245        9.8         2385\n",
              "41      Washington          WA        5.9          474        6.6          532\n",
              "42         Indiana          IN       18.9         1450       18.4         1411\n",
              "43  North Carolina          NC       16.0         1821       17.1         2002\n",
              "44   West Virginia          WV       20.4          510       19.3          481\n",
              "45            Iowa          IA        8.0          336        8.3          352\n",
              "46    North Dakota          ND       12.5          118       11.3          106\n",
              "47       Wisconsin          WI       13.7          996       13.0          960\n",
              "48          Kansas          KS       16.8          582       15.0          533\n",
              "49         Wyoming          WY       13.3           86       10.0           66"
            ]
          },
          "execution_count": 43,
          "metadata": {},
          "output_type": "execute_result"
        }
      ],
      "source": [
        "Kidney_Mortality_merged"
      ]
    },
    {
      "cell_type": "markdown",
      "metadata": {
        "id": "Ganjx7Ia5FIP"
      },
      "source": [
        "# **Data Aggregation and Pivoting**"
      ]
    },
    {
      "cell_type": "markdown",
      "metadata": {
        "id": "gYSOQzMs5r4X"
      },
      "source": [
        "**Year-on-Year change in rates and deaths**\n",
        "\n",
        "This below pivot table helps to track changes in kidney mortality rates and deaths across various states from 2015 to 2016. It calculates the differences in rates and deaths for each state, summarizing them to show whether these figures have increased or decreased over the year. This analysis is particularly useful for assessing the effectiveness of health interventions and for prioritizing healthcare resources in areas with significant changes."
      ]
    },
    {
      "cell_type": "code",
      "execution_count": null,
      "metadata": {
        "colab": {
          "base_uri": "https://localhost:8080/"
        },
        "id": "ODxY2JVq5SPi",
        "outputId": "94ebdf09-f768-4488-a2d6-8a03912df817"
      },
      "outputs": [
        {
          "data": {
            "text/html": [
              "<div>\n",
              "<style scoped>\n",
              "    .dataframe tbody tr th:only-of-type {\n",
              "        vertical-align: middle;\n",
              "    }\n",
              "\n",
              "    .dataframe tbody tr th {\n",
              "        vertical-align: top;\n",
              "    }\n",
              "\n",
              "    .dataframe thead th {\n",
              "        text-align: right;\n",
              "    }\n",
              "</style>\n",
              "<table border=\"1\" class=\"dataframe\">\n",
              "  <thead>\n",
              "    <tr style=\"text-align: right;\">\n",
              "      <th></th>\n",
              "      <th>Deaths Change</th>\n",
              "      <th>Rate Change</th>\n",
              "    </tr>\n",
              "    <tr>\n",
              "      <th>STATE</th>\n",
              "      <th></th>\n",
              "      <th></th>\n",
              "    </tr>\n",
              "  </thead>\n",
              "  <tbody>\n",
              "    <tr>\n",
              "      <th>AK</th>\n",
              "      <td>3</td>\n",
              "      <td>0.0</td>\n",
              "    </tr>\n",
              "    <tr>\n",
              "      <th>AL</th>\n",
              "      <td>-28</td>\n",
              "      <td>-1.0</td>\n",
              "    </tr>\n",
              "    <tr>\n",
              "      <th>AR</th>\n",
              "      <td>15</td>\n",
              "      <td>0.2</td>\n",
              "    </tr>\n",
              "    <tr>\n",
              "      <th>AZ</th>\n",
              "      <td>29</td>\n",
              "      <td>0.2</td>\n",
              "    </tr>\n",
              "    <tr>\n",
              "      <th>CA</th>\n",
              "      <td>83</td>\n",
              "      <td>0.0</td>\n",
              "    </tr>\n",
              "    <tr>\n",
              "      <th>CO</th>\n",
              "      <td>33</td>\n",
              "      <td>0.4</td>\n",
              "    </tr>\n",
              "    <tr>\n",
              "      <th>CT</th>\n",
              "      <td>-14</td>\n",
              "      <td>0.0</td>\n",
              "    </tr>\n",
              "    <tr>\n",
              "      <th>DE</th>\n",
              "      <td>34</td>\n",
              "      <td>2.6</td>\n",
              "    </tr>\n",
              "    <tr>\n",
              "      <th>FL</th>\n",
              "      <td>-59</td>\n",
              "      <td>-0.6</td>\n",
              "    </tr>\n",
              "    <tr>\n",
              "      <th>GA</th>\n",
              "      <td>-17</td>\n",
              "      <td>-0.8</td>\n",
              "    </tr>\n",
              "    <tr>\n",
              "      <th>HI</th>\n",
              "      <td>13</td>\n",
              "      <td>0.4</td>\n",
              "    </tr>\n",
              "    <tr>\n",
              "      <th>IA</th>\n",
              "      <td>16</td>\n",
              "      <td>0.3</td>\n",
              "    </tr>\n",
              "    <tr>\n",
              "      <th>ID</th>\n",
              "      <td>36</td>\n",
              "      <td>1.6</td>\n",
              "    </tr>\n",
              "    <tr>\n",
              "      <th>IL</th>\n",
              "      <td>-25</td>\n",
              "      <td>-0.3</td>\n",
              "    </tr>\n",
              "    <tr>\n",
              "      <th>IN</th>\n",
              "      <td>-39</td>\n",
              "      <td>-0.5</td>\n",
              "    </tr>\n",
              "    <tr>\n",
              "      <th>KS</th>\n",
              "      <td>-49</td>\n",
              "      <td>-1.8</td>\n",
              "    </tr>\n",
              "    <tr>\n",
              "      <th>KY</th>\n",
              "      <td>36</td>\n",
              "      <td>0.6</td>\n",
              "    </tr>\n",
              "    <tr>\n",
              "      <th>LA</th>\n",
              "      <td>-7</td>\n",
              "      <td>-0.6</td>\n",
              "    </tr>\n",
              "    <tr>\n",
              "      <th>MA</th>\n",
              "      <td>-89</td>\n",
              "      <td>-1.1</td>\n",
              "    </tr>\n",
              "    <tr>\n",
              "      <th>MD</th>\n",
              "      <td>-11</td>\n",
              "      <td>-0.2</td>\n",
              "    </tr>\n",
              "    <tr>\n",
              "      <th>ME</th>\n",
              "      <td>28</td>\n",
              "      <td>1.0</td>\n",
              "    </tr>\n",
              "    <tr>\n",
              "      <th>MI</th>\n",
              "      <td>-130</td>\n",
              "      <td>-1.3</td>\n",
              "    </tr>\n",
              "    <tr>\n",
              "      <th>MN</th>\n",
              "      <td>-51</td>\n",
              "      <td>-0.9</td>\n",
              "    </tr>\n",
              "    <tr>\n",
              "      <th>MO</th>\n",
              "      <td>0</td>\n",
              "      <td>-0.3</td>\n",
              "    </tr>\n",
              "    <tr>\n",
              "      <th>MS</th>\n",
              "      <td>32</td>\n",
              "      <td>0.8</td>\n",
              "    </tr>\n",
              "    <tr>\n",
              "      <th>MT</th>\n",
              "      <td>34</td>\n",
              "      <td>2.0</td>\n",
              "    </tr>\n",
              "    <tr>\n",
              "      <th>NC</th>\n",
              "      <td>181</td>\n",
              "      <td>1.1</td>\n",
              "    </tr>\n",
              "    <tr>\n",
              "      <th>ND</th>\n",
              "      <td>-12</td>\n",
              "      <td>-1.2</td>\n",
              "    </tr>\n",
              "    <tr>\n",
              "      <th>NE</th>\n",
              "      <td>-44</td>\n",
              "      <td>-1.7</td>\n",
              "    </tr>\n",
              "    <tr>\n",
              "      <th>NH</th>\n",
              "      <td>-33</td>\n",
              "      <td>-2.0</td>\n",
              "    </tr>\n",
              "    <tr>\n",
              "      <th>NJ</th>\n",
              "      <td>-47</td>\n",
              "      <td>-0.6</td>\n",
              "    </tr>\n",
              "    <tr>\n",
              "      <th>NM</th>\n",
              "      <td>-23</td>\n",
              "      <td>-1.2</td>\n",
              "    </tr>\n",
              "    <tr>\n",
              "      <th>NV</th>\n",
              "      <td>-42</td>\n",
              "      <td>-1.7</td>\n",
              "    </tr>\n",
              "    <tr>\n",
              "      <th>NY</th>\n",
              "      <td>140</td>\n",
              "      <td>0.5</td>\n",
              "    </tr>\n",
              "    <tr>\n",
              "      <th>OH</th>\n",
              "      <td>162</td>\n",
              "      <td>0.9</td>\n",
              "    </tr>\n",
              "    <tr>\n",
              "      <th>OK</th>\n",
              "      <td>-39</td>\n",
              "      <td>-1.3</td>\n",
              "    </tr>\n",
              "    <tr>\n",
              "      <th>OR</th>\n",
              "      <td>-11</td>\n",
              "      <td>-0.5</td>\n",
              "    </tr>\n",
              "    <tr>\n",
              "      <th>PA</th>\n",
              "      <td>-208</td>\n",
              "      <td>-1.2</td>\n",
              "    </tr>\n",
              "    <tr>\n",
              "      <th>RI</th>\n",
              "      <td>-1</td>\n",
              "      <td>0.1</td>\n",
              "    </tr>\n",
              "    <tr>\n",
              "      <th>SC</th>\n",
              "      <td>11</td>\n",
              "      <td>-0.2</td>\n",
              "    </tr>\n",
              "    <tr>\n",
              "      <th>SD</th>\n",
              "      <td>11</td>\n",
              "      <td>0.2</td>\n",
              "    </tr>\n",
              "    <tr>\n",
              "      <th>TN</th>\n",
              "      <td>60</td>\n",
              "      <td>0.5</td>\n",
              "    </tr>\n",
              "    <tr>\n",
              "      <th>TX</th>\n",
              "      <td>73</td>\n",
              "      <td>-0.3</td>\n",
              "    </tr>\n",
              "    <tr>\n",
              "      <th>UT</th>\n",
              "      <td>7</td>\n",
              "      <td>-0.4</td>\n",
              "    </tr>\n",
              "    <tr>\n",
              "      <th>VA</th>\n",
              "      <td>73</td>\n",
              "      <td>0.5</td>\n",
              "    </tr>\n",
              "    <tr>\n",
              "      <th>VT</th>\n",
              "      <td>-9</td>\n",
              "      <td>-0.8</td>\n",
              "    </tr>\n",
              "    <tr>\n",
              "      <th>WA</th>\n",
              "      <td>58</td>\n",
              "      <td>0.7</td>\n",
              "    </tr>\n",
              "    <tr>\n",
              "      <th>WI</th>\n",
              "      <td>-36</td>\n",
              "      <td>-0.7</td>\n",
              "    </tr>\n",
              "    <tr>\n",
              "      <th>WV</th>\n",
              "      <td>-29</td>\n",
              "      <td>-1.1</td>\n",
              "    </tr>\n",
              "    <tr>\n",
              "      <th>WY</th>\n",
              "      <td>-20</td>\n",
              "      <td>-3.3</td>\n",
              "    </tr>\n",
              "  </tbody>\n",
              "</table>\n",
              "</div>"
            ],
            "text/plain": [
              "       Deaths Change  Rate Change\n",
              "STATE                            \n",
              "AK                 3          0.0\n",
              "AL               -28         -1.0\n",
              "AR                15          0.2\n",
              "AZ                29          0.2\n",
              "CA                83          0.0\n",
              "CO                33          0.4\n",
              "CT               -14          0.0\n",
              "DE                34          2.6\n",
              "FL               -59         -0.6\n",
              "GA               -17         -0.8\n",
              "HI                13          0.4\n",
              "IA                16          0.3\n",
              "ID                36          1.6\n",
              "IL               -25         -0.3\n",
              "IN               -39         -0.5\n",
              "KS               -49         -1.8\n",
              "KY                36          0.6\n",
              "LA                -7         -0.6\n",
              "MA               -89         -1.1\n",
              "MD               -11         -0.2\n",
              "ME                28          1.0\n",
              "MI              -130         -1.3\n",
              "MN               -51         -0.9\n",
              "MO                 0         -0.3\n",
              "MS                32          0.8\n",
              "MT                34          2.0\n",
              "NC               181          1.1\n",
              "ND               -12         -1.2\n",
              "NE               -44         -1.7\n",
              "NH               -33         -2.0\n",
              "NJ               -47         -0.6\n",
              "NM               -23         -1.2\n",
              "NV               -42         -1.7\n",
              "NY               140          0.5\n",
              "OH               162          0.9\n",
              "OK               -39         -1.3\n",
              "OR               -11         -0.5\n",
              "PA              -208         -1.2\n",
              "RI                -1          0.1\n",
              "SC                11         -0.2\n",
              "SD                11          0.2\n",
              "TN                60          0.5\n",
              "TX                73         -0.3\n",
              "UT                 7         -0.4\n",
              "VA                73          0.5\n",
              "VT                -9         -0.8\n",
              "WA                58          0.7\n",
              "WI               -36         -0.7\n",
              "WV               -29         -1.1\n",
              "WY               -20         -3.3"
            ]
          },
          "execution_count": 44,
          "metadata": {},
          "output_type": "execute_result"
        }
      ],
      "source": [
        "# Calculating year-on-year change in rates and deaths\n",
        "Kidney_Mortality_data['Rate Change'] = Kidney_Mortality_data['RATE_2016'] - Kidney_Mortality_data['RATE_2015']\n",
        "Kidney_Mortality_data['Deaths Change'] = Kidney_Mortality_data['DEATHS_2016'] - Kidney_Mortality_data['DEATHS_2015']\n",
        "\n",
        "pivot_table = Kidney_Mortality_data.pivot_table(\n",
        "    values=['Rate Change', 'Deaths Change'],\n",
        "    index='STATE',\n",
        "    aggfunc='sum'\n",
        ")\n",
        "\n",
        "# Displaying the pivot table\n",
        "pivot_table"
      ]
    },
    {
      "cell_type": "markdown",
      "metadata": {
        "id": "nYDS2hyi8RZo"
      },
      "source": [
        "**Nationwide summary:**\n",
        "\n",
        "This below pivot table is nationwide summary which calculates and displays key statistics for kidney mortality rates across the United States for the years 2015 and 2016. By using the .agg() method to determine the mean and standard deviation for each year, the summary provides a clear snapshot of the average mortality rate and its variability among the states. This information is crucial for health officials and policymakers as it aids in assessing the overall effectiveness of healthcare interventions over time and identifying trends or potential areas of concern in public health management."
      ]
    },
    {
      "cell_type": "code",
      "execution_count": null,
      "metadata": {
        "colab": {
          "base_uri": "https://localhost:8080/"
        },
        "id": "O60qWg1351kQ",
        "outputId": "a61115cc-39b1-4308-8cc3-dd7b63f125f0"
      },
      "outputs": [
        {
          "data": {
            "text/html": [
              "<div>\n",
              "<style scoped>\n",
              "    .dataframe tbody tr th:only-of-type {\n",
              "        vertical-align: middle;\n",
              "    }\n",
              "\n",
              "    .dataframe tbody tr th {\n",
              "        vertical-align: top;\n",
              "    }\n",
              "\n",
              "    .dataframe thead th {\n",
              "        text-align: right;\n",
              "    }\n",
              "</style>\n",
              "<table border=\"1\" class=\"dataframe\">\n",
              "  <thead>\n",
              "    <tr style=\"text-align: right;\">\n",
              "      <th></th>\n",
              "      <th>RATE_2015</th>\n",
              "      <th>RATE_2016</th>\n",
              "    </tr>\n",
              "  </thead>\n",
              "  <tbody>\n",
              "    <tr>\n",
              "      <th>mean</th>\n",
              "      <td>13.400000</td>\n",
              "      <td>13.140000</td>\n",
              "    </tr>\n",
              "    <tr>\n",
              "      <th>std</th>\n",
              "      <td>4.474371</td>\n",
              "      <td>4.464006</td>\n",
              "    </tr>\n",
              "  </tbody>\n",
              "</table>\n",
              "</div>"
            ],
            "text/plain": [
              "      RATE_2015  RATE_2016\n",
              "mean  13.400000  13.140000\n",
              "std    4.474371   4.464006"
            ]
          },
          "execution_count": 45,
          "metadata": {},
          "output_type": "execute_result"
        }
      ],
      "source": [
        "# Nationwide summary using the .agg() method to compute overall statistics\n",
        "nationwide_summary = Kidney_Mortality_data.agg({\n",
        "    'RATE_2015': ['mean', 'std'],\n",
        "    'RATE_2016': ['mean', 'std']\n",
        "})\n",
        "\n",
        "# Displaying the nationwide summary\n",
        "nationwide_summary"
      ]
    },
    {
      "cell_type": "markdown",
      "metadata": {
        "id": "1fIiFmQA9UNh"
      },
      "source": [
        "**Average values by Anemia status:**\n",
        "\n",
        "The pivot table created for analyzing average blood and biochemical parameters by anemia status provides a focused overview of key health indicators related to blood composition in patients classified based on their anemia condition. By segmenting data into groups determined by the presence or absence of anemia (ane), this table summarizes the average values of hemoglobin (hemo), packed cell volume (pcv), and red cell count (rc)."
      ]
    },
    {
      "cell_type": "code",
      "execution_count": null,
      "metadata": {
        "colab": {
          "base_uri": "https://localhost:8080/"
        },
        "id": "-lhP_N668Vai",
        "outputId": "5c4654e5-6567-44ff-e2b7-f677d1de3afe"
      },
      "outputs": [
        {
          "name": "stdout",
          "output_type": "stream",
          "text": [
            "Average values by Anemia status:\n"
          ]
        },
        {
          "data": {
            "text/html": [
              "<div>\n",
              "<style scoped>\n",
              "    .dataframe tbody tr th:only-of-type {\n",
              "        vertical-align: middle;\n",
              "    }\n",
              "\n",
              "    .dataframe tbody tr th {\n",
              "        vertical-align: top;\n",
              "    }\n",
              "\n",
              "    .dataframe thead th {\n",
              "        text-align: right;\n",
              "    }\n",
              "</style>\n",
              "<table border=\"1\" class=\"dataframe\">\n",
              "  <thead>\n",
              "    <tr style=\"text-align: right;\">\n",
              "      <th></th>\n",
              "      <th>hemo</th>\n",
              "      <th>pcv</th>\n",
              "      <th>rc</th>\n",
              "    </tr>\n",
              "    <tr>\n",
              "      <th>ane</th>\n",
              "      <th></th>\n",
              "      <th></th>\n",
              "      <th></th>\n",
              "    </tr>\n",
              "  </thead>\n",
              "  <tbody>\n",
              "    <tr>\n",
              "      <th>no</th>\n",
              "      <td>14.30493</td>\n",
              "      <td>43.915493</td>\n",
              "      <td>5.090141</td>\n",
              "    </tr>\n",
              "    <tr>\n",
              "      <th>yes</th>\n",
              "      <td>8.20625</td>\n",
              "      <td>24.187500</td>\n",
              "      <td>3.131250</td>\n",
              "    </tr>\n",
              "  </tbody>\n",
              "</table>\n",
              "</div>"
            ],
            "text/plain": [
              "         hemo        pcv        rc\n",
              "ane                               \n",
              "no   14.30493  43.915493  5.090141\n",
              "yes   8.20625  24.187500  3.131250"
            ]
          },
          "execution_count": 46,
          "metadata": {},
          "output_type": "execute_result"
        }
      ],
      "source": [
        "# Creating a pivot table for average blood and biochemical parameters by anemia status\n",
        "pivot_anemia = chronic_kidney.pivot_table(\n",
        "    values=['hemo', 'pcv', 'rc'],  # Hemoglobin, Packed Cell Volume, and Red Cell Count\n",
        "    index='ane',  # Anemia status\n",
        "    aggfunc='mean',\n",
        "    observed=False\n",
        ")\n",
        "\n",
        "# Displaying the pivot table for Anemia\n",
        "print(\"Average values by Anemia status:\")\n",
        "pivot_anemia"
      ]
    },
    {
      "cell_type": "markdown",
      "metadata": {
        "id": "HLX_XdkV-AG3"
      },
      "source": [
        "**Distribution by Kidney Disease Classification**\n",
        "\n",
        "This pivot table categorizes kidney disease patients and summarizes their specific gravity, albumin, and sugar levels. By comparing mean, maximum, and minimum values across disease classifications, it helps clinicians diagnose and manage kidney disease more effectively."
      ]
    },
    {
      "cell_type": "code",
      "execution_count": null,
      "metadata": {
        "colab": {
          "base_uri": "https://localhost:8080/"
        },
        "id": "ZY80BVs49ClR",
        "outputId": "45839626-d1fd-49c3-eb72-944b57a5eec4"
      },
      "outputs": [
        {
          "name": "stdout",
          "output_type": "stream",
          "text": [
            "Parameter distribution by Kidney Disease Classification:\n"
          ]
        },
        {
          "data": {
            "text/html": [
              "<div>\n",
              "<style scoped>\n",
              "    .dataframe tbody tr th:only-of-type {\n",
              "        vertical-align: middle;\n",
              "    }\n",
              "\n",
              "    .dataframe tbody tr th {\n",
              "        vertical-align: top;\n",
              "    }\n",
              "\n",
              "    .dataframe thead tr th {\n",
              "        text-align: left;\n",
              "    }\n",
              "\n",
              "    .dataframe thead tr:last-of-type th {\n",
              "        text-align: right;\n",
              "    }\n",
              "</style>\n",
              "<table border=\"1\" class=\"dataframe\">\n",
              "  <thead>\n",
              "    <tr>\n",
              "      <th></th>\n",
              "      <th colspan=\"3\" halign=\"left\">mean</th>\n",
              "      <th colspan=\"3\" halign=\"left\">max</th>\n",
              "      <th colspan=\"3\" halign=\"left\">min</th>\n",
              "    </tr>\n",
              "    <tr>\n",
              "      <th></th>\n",
              "      <th>al</th>\n",
              "      <th>sg</th>\n",
              "      <th>su</th>\n",
              "      <th>al</th>\n",
              "      <th>sg</th>\n",
              "      <th>su</th>\n",
              "      <th>al</th>\n",
              "      <th>sg</th>\n",
              "      <th>su</th>\n",
              "    </tr>\n",
              "    <tr>\n",
              "      <th>classification</th>\n",
              "      <th></th>\n",
              "      <th></th>\n",
              "      <th></th>\n",
              "      <th></th>\n",
              "      <th></th>\n",
              "      <th></th>\n",
              "      <th></th>\n",
              "      <th></th>\n",
              "      <th></th>\n",
              "    </tr>\n",
              "  </thead>\n",
              "  <tbody>\n",
              "    <tr>\n",
              "      <th>ckd</th>\n",
              "      <td>2.930233</td>\n",
              "      <td>1.0</td>\n",
              "      <td>0.930233</td>\n",
              "      <td>4</td>\n",
              "      <td>1</td>\n",
              "      <td>5</td>\n",
              "      <td>0</td>\n",
              "      <td>1</td>\n",
              "      <td>0</td>\n",
              "    </tr>\n",
              "    <tr>\n",
              "      <th>notckd</th>\n",
              "      <td>0.000000</td>\n",
              "      <td>1.0</td>\n",
              "      <td>0.000000</td>\n",
              "      <td>0</td>\n",
              "      <td>1</td>\n",
              "      <td>0</td>\n",
              "      <td>0</td>\n",
              "      <td>1</td>\n",
              "      <td>0</td>\n",
              "    </tr>\n",
              "  </tbody>\n",
              "</table>\n",
              "</div>"
            ],
            "text/plain": [
              "                    mean                max       min      \n",
              "                      al   sg        su  al sg su  al sg su\n",
              "classification                                             \n",
              "ckd             2.930233  1.0  0.930233   4  1  5   0  1  0\n",
              "notckd          0.000000  1.0  0.000000   0  1  0   0  1  0"
            ]
          },
          "execution_count": 47,
          "metadata": {},
          "output_type": "execute_result"
        }
      ],
      "source": [
        "pivot_classification = chronic_kidney.pivot_table(\n",
        "    values=['sg', 'al', 'su'],  # Specific Gravity, Albumin, and Sugar levels\n",
        "    index='classification',  # Classification of kidney disease\n",
        "    aggfunc=['mean', 'max', 'min'],\n",
        "    observed=False  # Explicitly setting observed to False to maintain current behavior\n",
        ")\n",
        "\n",
        "# Displaying the pivot table for Kidney Disease Classification\n",
        "print(\"Parameter distribution by Kidney Disease Classification:\")\n",
        "pivot_classification"
      ]
    },
    {
      "cell_type": "markdown",
      "metadata": {
        "id": "bAO2HFUi-WVY"
      },
      "source": [
        "# **Data Visualizations**"
      ]
    },
    {
      "cell_type": "markdown",
      "metadata": {
        "id": "dTutMRNlGODc"
      },
      "source": [
        "**Age distribution of CKD patients**\n",
        "\n",
        "This histogram visualizes the age distribution of patients with Chronic Kidney Disease (CKD), highlighting the concentration of cases within specific age ranges and providing a clear view of the demographic most affected by this condition."
      ]
    },
    {
      "cell_type": "code",
      "execution_count": null,
      "metadata": {
        "colab": {
          "base_uri": "https://localhost:8080/",
          "height": 718
        },
        "id": "DwesoCUL9urw",
        "outputId": "652658ef-8442-438b-a42c-d926119d94ed"
      },
      "outputs": [
        {
          "data": {
            "image/png": "[encoded data removed]",
            "text/plain": [
              "<Figure size 1000x800 with 1 Axes>"
            ]
          },
          "metadata": {},
          "output_type": "display_data"
        }
      ],
      "source": [
        "import matplotlib.pyplot as plt\n",
        "import seaborn as sns\n",
        "\n",
        "# Filter the dataset for patients with CKD classification\n",
        "ckd_patients = chronic_kidney[chronic_kidney['classification'] == 'ckd']\n",
        "\n",
        "# Visualizing the age distribution of CKD patients\n",
        "plt.figure(figsize=(10, 8))\n",
        "sns.histplot(ckd_patients['age'],color='blue', kde=True)\n",
        "plt.title('Age Distribution of Patients with Chronic Kidney Disease (CKD)')\n",
        "plt.xlabel('Age')\n",
        "plt.ylabel('Number of Patients')\n",
        "plt.grid(True)\n",
        "plt.show()\n"
      ]
    },
    {
      "cell_type": "markdown",
      "metadata": {
        "id": "Bms9xAogNii0"
      },
      "source": [
        "This visualization uses a violin plot to compare the distribution of blood pressure across different kidney disease classifications. It highlights the range, density, and quartiles of blood pressure values for each classification, providing insights into how blood pressure varies with disease severity."
      ]
    },
    {
      "cell_type": "code",
      "execution_count": null,
      "metadata": {
        "colab": {
          "base_uri": "https://localhost:8080/",
          "height": 716
        },
        "id": "qonzPeLiGPuB",
        "outputId": "7a2ba9ad-5991-482d-b3f2-5f15bd4a4f55"
      },
      "outputs": [
        {
          "data": {
            "image/png": "[encoded data removed]",
            "text/plain": [
              "<Figure size 1200x800 with 1 Axes>"
            ]
          },
          "metadata": {},
          "output_type": "display_data"
        }
      ],
      "source": [
        "import matplotlib.pyplot as plt\n",
        "import seaborn as sns\n",
        "\n",
        "# Creating a violin plot\n",
        "plt.figure(figsize=(12, 8))\n",
        "sns.violinplot(x='classification', y='bp', data=chronic_kidney,\n",
        "               inner='quartile',\n",
        "               linewidth=2.5,\n",
        "               hue='classification',\n",
        "               palette=\"cool\",\n",
        "               density_norm='width',\n",
        "               legend=False)\n",
        "\n",
        "# Adding title and labels with enhanced fonts\n",
        "plt.title('Blood Pressure Distribution Across Kidney Disease Classifications', fontsize=16, fontweight='bold')\n",
        "plt.xlabel('Disease Classification', fontsize=14, fontweight='bold')\n",
        "plt.ylabel('Blood Pressure (mm Hg)', fontsize=14, fontweight='bold')\n",
        "\n",
        "# Improve tick visibility\n",
        "plt.xticks(fontsize=12, fontweight='bold')\n",
        "plt.yticks(fontsize=12)\n",
        "\n",
        "# Add a slight horizontal grid for easier reading\n",
        "plt.grid(True, linestyle='--', linewidth=0.5, axis='y')\n",
        "\n",
        "# Show the plot\n",
        "plt.show()"
      ]
    },
    {
      "cell_type": "markdown",
      "metadata": {
        "id": "BCPWa-W2TF9u"
      },
      "source": [
        "**Relationship between hemoglobin levels and packed cell volume**\n",
        "\n",
        "This scatter plot describes the relationship between hemoglobin levels and packed cell volume among kidney disease patients, differentiated by disease classification. By plotting these two crucial blood parameters, the graph visually explores how variations in hemoglobin correlate with changes in packed cell volume across different types of kidney disease."
      ]
    },
    {
      "cell_type": "code",
      "execution_count": null,
      "metadata": {
        "colab": {
          "base_uri": "https://localhost:8080/",
          "height": 718
        },
        "id": "p1W6uz07Ifxo",
        "outputId": "38942e06-67f1-45e3-ef18-e312967d0277"
      },
      "outputs": [
        {
          "data": {
            "image/png": "[encoded data removed]",
            "text/plain": [
              "<Figure size 1000x800 with 1 Axes>"
            ]
          },
          "metadata": {},
          "output_type": "display_data"
        }
      ],
      "source": [
        "# Scatter plot to explore the relationship between hemoglobin levels and packed cell volume\n",
        "plt.figure(figsize=(10, 8))\n",
        "sns.scatterplot(x='hemo', y='pcv', data=chronic_kidney, hue='classification', style='classification', s=100)\n",
        "plt.title('Hemoglobin vs. Packed Cell Volume in Kidney Disease Patients')\n",
        "plt.xlabel('Hemoglobin (g/dL)')\n",
        "plt.ylabel('Packed Cell Volume (%)')\n",
        "plt.legend(title='Disease Classification')\n",
        "plt.grid(True)\n",
        "plt.show()\n"
      ]
    },
    {
      "cell_type": "code",
      "execution_count": null,
      "metadata": {
        "colab": {
          "base_uri": "https://localhost:8080/"
        },
        "id": "17o2ArzoYa-k",
        "outputId": "d2862e5d-e632-43f4-94af-ebfd88f12bfe"
      },
      "outputs": [
        {
          "name": "stdout",
          "output_type": "stream",
          "text": [
            "Collecting geopandas\n",
            "  Downloading geopandas-1.0.1-py3-none-any.whl.metadata (2.2 kB)\n",
            "Requirement already satisfied: plotly in c:\\users\\santo\\appdata\\local\\packages\\pythonsoftwarefoundation.python.3.11_qbz5n2kfra8p0\\localcache\\local-packages\\python311\\site-packages (5.24.1)\n",
            "Requirement already satisfied: numpy>=1.22 in c:\\users\\santo\\appdata\\local\\packages\\pythonsoftwarefoundation.python.3.11_qbz5n2kfra8p0\\localcache\\local-packages\\python311\\site-packages (from geopandas) (1.26.4)\n",
            "Collecting pyogrio>=0.7.2 (from geopandas)\n",
            "  Downloading pyogrio-0.10.0-cp311-cp311-win_amd64.whl.metadata (5.6 kB)\n",
            "Requirement already satisfied: packaging in c:\\users\\santo\\appdata\\local\\packages\\pythonsoftwarefoundation.python.3.11_qbz5n2kfra8p0\\localcache\\local-packages\\python311\\site-packages (from geopandas) (23.2)\n",
            "Requirement already satisfied: pandas>=1.4.0 in c:\\users\\santo\\appdata\\local\\packages\\pythonsoftwarefoundation.python.3.11_qbz5n2kfra8p0\\localcache\\local-packages\\python311\\site-packages (from geopandas) (2.2.0)\n",
            "Collecting pyproj>=3.3.0 (from geopandas)\n",
            "  Downloading pyproj-3.7.0-cp311-cp311-win_amd64.whl.metadata (31 kB)\n",
            "Collecting shapely>=2.0.0 (from geopandas)\n",
            "  Downloading shapely-2.0.6-cp311-cp311-win_amd64.whl.metadata (7.2 kB)\n",
            "Requirement already satisfied: tenacity>=6.2.0 in c:\\users\\santo\\appdata\\local\\packages\\pythonsoftwarefoundation.python.3.11_qbz5n2kfra8p0\\localcache\\local-packages\\python311\\site-packages (from plotly) (9.0.0)\n",
            "Requirement already satisfied: python-dateutil>=2.8.2 in c:\\users\\santo\\appdata\\local\\packages\\pythonsoftwarefoundation.python.3.11_qbz5n2kfra8p0\\localcache\\local-packages\\python311\\site-packages (from pandas>=1.4.0->geopandas) (2.8.2)\n",
            "Requirement already satisfied: pytz>=2020.1 in c:\\users\\santo\\appdata\\local\\packages\\pythonsoftwarefoundation.python.3.11_qbz5n2kfra8p0\\localcache\\local-packages\\python311\\site-packages (from pandas>=1.4.0->geopandas) (2024.1)\n",
            "Requirement already satisfied: tzdata>=2022.7 in c:\\users\\santo\\appdata\\local\\packages\\pythonsoftwarefoundation.python.3.11_qbz5n2kfra8p0\\localcache\\local-packages\\python311\\site-packages (from pandas>=1.4.0->geopandas) (2024.1)\n",
            "Requirement already satisfied: certifi in c:\\users\\santo\\appdata\\local\\packages\\pythonsoftwarefoundation.python.3.11_qbz5n2kfra8p0\\localcache\\local-packages\\python311\\site-packages (from pyogrio>=0.7.2->geopandas) (2024.8.30)\n",
            "Requirement already satisfied: six>=1.5 in c:\\users\\santo\\appdata\\local\\packages\\pythonsoftwarefoundation.python.3.11_qbz5n2kfra8p0\\localcache\\local-packages\\python311\\site-packages (from python-dateutil>=2.8.2->pandas>=1.4.0->geopandas) (1.16.0)\n",
            "Downloading geopandas-1.0.1-py3-none-any.whl (323 kB)\n",
            "   ---------------------------------------- 0.0/323.6 kB ? eta -:--:--\n",
            "   ----------- ---------------------------- 92.2/323.6 kB 2.6 MB/s eta 0:00:01\n",
            "   ---------------------------------------- 323.6/323.6 kB 3.3 MB/s eta 0:00:00\n",
            "Downloading pyogrio-0.10.0-cp311-cp311-win_amd64.whl (16.2 MB)\n",
            "   ---------------------------------------- 0.0/16.2 MB ? eta -:--:--\n",
            "   -- ------------------------------------- 0.8/16.2 MB 26.4 MB/s eta 0:00:01\n",
            "   ---- ----------------------------------- 2.0/16.2 MB 25.6 MB/s eta 0:00:01\n",
            "   ---------- ----------------------------- 4.0/16.2 MB 32.3 MB/s eta 0:00:01\n",
            "   -------------- ------------------------- 5.8/16.2 MB 33.8 MB/s eta 0:00:01\n",
            "   ------------------ --------------------- 7.3/16.2 MB 33.4 MB/s eta 0:00:01\n",
            "   --------------------- ------------------ 8.8/16.2 MB 35.1 MB/s eta 0:00:01\n",
            "   -------------------------- ------------- 10.9/16.2 MB 38.5 MB/s eta 0:00:01\n",
            "   -------------------------------- ------- 13.1/16.2 MB 43.7 MB/s eta 0:00:01\n",
            "   -------------------------------------- - 15.5/16.2 MB 46.7 MB/s eta 0:00:01\n",
            "   ---------------------------------------- 16.2/16.2 MB 40.9 MB/s eta 0:00:00\n",
            "Downloading pyproj-3.7.0-cp311-cp311-win_amd64.whl (6.2 MB)\n",
            "   ---------------------------------------- 0.0/6.2 MB ? eta -:--:--\n",
            "   ------------ --------------------------- 1.9/6.2 MB 61.4 MB/s eta 0:00:01\n",
            "   ------------------------------ --------- 4.7/6.2 MB 60.3 MB/s eta 0:00:01\n",
            "   ---------------------------------------  6.2/6.2 MB 49.7 MB/s eta 0:00:01\n",
            "   ---------------------------------------- 6.2/6.2 MB 44.1 MB/s eta 0:00:00\n",
            "Downloading shapely-2.0.6-cp311-cp311-win_amd64.whl (1.4 MB)\n",
            "   ---------------------------------------- 0.0/1.4 MB ? eta -:--:--\n",
            "   ---------------------------------------- 1.4/1.4 MB 46.2 MB/s eta 0:00:00\n",
            "Installing collected packages: shapely, pyproj, pyogrio, geopandas\n",
            "Successfully installed geopandas-1.0.1 pyogrio-0.10.0 pyproj-3.7.0 shapely-2.0.6\n",
            "Note: you may need to restart the kernel to use updated packages.\n"
          ]
        },
        {
          "name": "stderr",
          "output_type": "stream",
          "text": [
            "\n",
            "[notice] A new release of pip is available: 24.0 -> 24.3.1\n",
            "[notice] To update, run: C:\\Users\\santo\\AppData\\Local\\Microsoft\\WindowsApps\\PythonSoftwareFoundation.Python.3.11_qbz5n2kfra8p0\\python.exe -m pip install --upgrade pip\n"
          ]
        }
      ],
      "source": [
        "pip install geopandas plotly"
      ]
    },
    {
      "cell_type": "markdown",
      "metadata": {
        "id": "xD3KPZHtjSSe"
      },
      "source": [
        "The map visualizes kidney mortality rates in the U.S. for 2015, with states color-coded based on the number of deaths. The choropleth map provides a geographic representation of mortality across states to highlight regions with higher or lower mortality rates."
      ]
    },
    {
      "cell_type": "code",
      "execution_count": null,
      "metadata": {
        "colab": {
          "base_uri": "https://localhost:8080/",
          "height": 542
        },
        "id": "5cJU0BQAfwrn",
        "outputId": "60c3b124-95dd-4f1f-9130-16e2cb5ccbc0"
      },
      "outputs": [
        {
          "data": {
            "application/vnd.plotly.v1+json": {
              "config": {
                "plotlyServerURL": "https://plot.ly"
              },
              "data": [
                {
                  "coloraxis": "coloraxis",
                  "geo": "geo",
                  "hovertemplate": "<b>%{hovertext}</b><br><br>Abbrevation=%{location}<br>DEATHS_2015=%{z}<extra></extra>",
                  "hovertext": [
                    "Alabama",
                    "Kentucky",
                    "Ohio",
                    "Alaska",
                    "Louisiana",
                    "Oklahoma",
                    "Arizona",
                    "Maine",
                    "Oregon",
                    "Arkansas",
                    "Maryland",
                    "Pennsylvania",
                    "Massachusetts",
                    "California",
                    "Michigan",
                    "Rhode Island",
                    "Colorado",
                    "Minnesota",
                    "South Carolina",
                    "Connecticut",
                    "Mississippi",
                    "South Dakota",
                    "Delaware",
                    "Missouri",
                    "Tennessee",
                    "Montana",
                    "Texas",
                    "Florida",
                    "Nebraska",
                    "Georgia",
                    "Nevada",
                    "Utah",
                    "New Hampshire",
                    "Vermont",
                    "Hawaii",
                    "New Jersey",
                    "Virginia",
                    "Idaho",
                    "New Mexico",
                    "Illinois",
                    "New York",
                    "Washington",
                    "Indiana",
                    "North Carolina",
                    "West Virginia",
                    "Iowa",
                    "North Dakota",
                    "Wisconsin",
                    "Kansas",
                    "Wyoming"
                  ],
                  "locationmode": "USA-states",
                  "locations": [
                    "AL",
                    "KY",
                    "OH",
                    "AK",
                    "LA",
                    "OK",
                    "AZ",
                    "ME",
                    "OR",
                    "AR",
                    "MD",
                    "PA",
                    "MA",
                    "CA",
                    "MI",
                    "RI",
                    "CO",
                    "MN",
                    "SC",
                    "CT",
                    "MS",
                    "SD",
                    "DE",
                    "MO",
                    "TN",
                    "MT",
                    "TX",
                    "FL",
                    "NE",
                    "GA",
                    "NV",
                    "UT",
                    "NH",
                    "VT",
                    "HI",
                    "NJ",
                    "VA",
                    "ID",
                    "NM",
                    "IL",
                    "NY",
                    "WA",
                    "IN",
                    "NC",
                    "WV",
                    "IA",
                    "ND",
                    "WI",
                    "KS",
                    "WY"
                  ],
                  "name": "",
                  "type": "choropleth",
                  "z": [
                    1040,
                    998,
                    2100,
                    50,
                    1160,
                    616,
                    458,
                    211,
                    409,
                    707,
                    834,
                    3021,
                    1228,
                    3557,
                    1921,
                    142,
                    458,
                    639,
                    886,
                    584,
                    731,
                    79,
                    174,
                    1483,
                    1090,
                    121,
                    4052,
                    3203,
                    264,
                    1881,
                    316,
                    363,
                    194,
                    39,
                    202,
                    1582,
                    1470,
                    154,
                    316,
                    2543,
                    2245,
                    474,
                    1450,
                    1821,
                    510,
                    336,
                    118,
                    996,
                    582,
                    86
                  ]
                }
              ],
              "layout": {
                "coloraxis": {
                  "colorbar": {
                    "title": {
                      "text": "DEATHS_2015"
                    }
                  },
                  "colorscale": [
                    [
                      0,
                      "#440154"
                    ],
                    [
                      0.1111111111111111,
                      "#482878"
                    ],
                    [
                      0.2222222222222222,
                      "#3e4989"
                    ],
                    [
                      0.3333333333333333,
                      "#31688e"
                    ],
                    [
                      0.4444444444444444,
                      "#26828e"
                    ],
                    [
                      0.5555555555555556,
                      "#1f9e89"
                    ],
                    [
                      0.6666666666666666,
                      "#35b779"
                    ],
                    [
                      0.7777777777777778,
                      "#6ece58"
                    ],
                    [
                      0.8888888888888888,
                      "#b5de2b"
                    ],
                    [
                      1,
                      "#fde725"
                    ]
                  ]
                },
                "geo": {
                  "center": {},
                  "coastlinecolor": "Black",
                  "domain": {
                    "x": [
                      0,
                      1
                    ],
                    "y": [
                      0,
                      1
                    ]
                  },
                  "lakecolor": "white",
                  "projection": {
                    "type": "albers usa"
                  },
                  "scope": "usa",
                  "showcoastlines": true,
                  "visible": true
                },
                "legend": {
                  "tracegroupgap": 0
                },
                "template": {
                  "data": {
                    "bar": [
                      {
                        "error_x": {
                          "color": "#2a3f5f"
                        },
                        "error_y": {
                          "color": "#2a3f5f"
                        },
                        "marker": {
                          "line": {
                            "color": "#E5ECF6",
                            "width": 0.5
                          },
                          "pattern": {
                            "fillmode": "overlay",
                            "size": 10,
                            "solidity": 0.2
                          }
                        },
                        "type": "bar"
                      }
                    ],
                    "barpolar": [
                      {
                        "marker": {
                          "line": {
                            "color": "#E5ECF6",
                            "width": 0.5
                          },
                          "pattern": {
                            "fillmode": "overlay",
                            "size": 10,
                            "solidity": 0.2
                          }
                        },
                        "type": "barpolar"
                      }
                    ],
                    "carpet": [
                      {
                        "aaxis": {
                          "endlinecolor": "#2a3f5f",
                          "gridcolor": "white",
                          "linecolor": "white",
                          "minorgridcolor": "white",
                          "startlinecolor": "#2a3f5f"
                        },
                        "baxis": {
                          "endlinecolor": "#2a3f5f",
                          "gridcolor": "white",
                          "linecolor": "white",
                          "minorgridcolor": "white",
                          "startlinecolor": "#2a3f5f"
                        },
                        "type": "carpet"
                      }
                    ],
                    "choropleth": [
                      {
                        "colorbar": {
                          "outlinewidth": 0,
                          "ticks": ""
                        },
                        "type": "choropleth"
                      }
                    ],
                    "contour": [
                      {
                        "colorbar": {
                          "outlinewidth": 0,
                          "ticks": ""
                        },
                        "colorscale": [
                          [
                            0,
                            "#0d0887"
                          ],
                          [
                            0.1111111111111111,
                            "#46039f"
                          ],
                          [
                            0.2222222222222222,
                            "#7201a8"
                          ],
                          [
                            0.3333333333333333,
                            "#9c179e"
                          ],
                          [
                            0.4444444444444444,
                            "#bd3786"
                          ],
                          [
                            0.5555555555555556,
                            "#d8576b"
                          ],
                          [
                            0.6666666666666666,
                            "#ed7953"
                          ],
                          [
                            0.7777777777777778,
                            "#fb9f3a"
                          ],
                          [
                            0.8888888888888888,
                            "#fdca26"
                          ],
                          [
                            1,
                            "#f0f921"
                          ]
                        ],
                        "type": "contour"
                      }
                    ],
                    "contourcarpet": [
                      {
                        "colorbar": {
                          "outlinewidth": 0,
                          "ticks": ""
                        },
                        "type": "contourcarpet"
                      }
                    ],
                    "heatmap": [
                      {
                        "colorbar": {
                          "outlinewidth": 0,
                          "ticks": ""
                        },
                        "colorscale": [
                          [
                            0,
                            "#0d0887"
                          ],
                          [
                            0.1111111111111111,
                            "#46039f"
                          ],
                          [
                            0.2222222222222222,
                            "#7201a8"
                          ],
                          [
                            0.3333333333333333,
                            "#9c179e"
                          ],
                          [
                            0.4444444444444444,
                            "#bd3786"
                          ],
                          [
                            0.5555555555555556,
                            "#d8576b"
                          ],
                          [
                            0.6666666666666666,
                            "#ed7953"
                          ],
                          [
                            0.7777777777777778,
                            "#fb9f3a"
                          ],
                          [
                            0.8888888888888888,
                            "#fdca26"
                          ],
                          [
                            1,
                            "#f0f921"
                          ]
                        ],
                        "type": "heatmap"
                      }
                    ],
                    "heatmapgl": [
                      {
                        "colorbar": {
                          "outlinewidth": 0,
                          "ticks": ""
                        },
                        "colorscale": [
                          [
                            0,
                            "#0d0887"
                          ],
                          [
                            0.1111111111111111,
                            "#46039f"
                          ],
                          [
                            0.2222222222222222,
                            "#7201a8"
                          ],
                          [
                            0.3333333333333333,
                            "#9c179e"
                          ],
                          [
                            0.4444444444444444,
                            "#bd3786"
                          ],
                          [
                            0.5555555555555556,
                            "#d8576b"
                          ],
                          [
                            0.6666666666666666,
                            "#ed7953"
                          ],
                          [
                            0.7777777777777778,
                            "#fb9f3a"
                          ],
                          [
                            0.8888888888888888,
                            "#fdca26"
                          ],
                          [
                            1,
                            "#f0f921"
                          ]
                        ],
                        "type": "heatmapgl"
                      }
                    ],
                    "histogram": [
                      {
                        "marker": {
                          "pattern": {
                            "fillmode": "overlay",
                            "size": 10,
                            "solidity": 0.2
                          }
                        },
                        "type": "histogram"
                      }
                    ],
                    "histogram2d": [
                      {
                        "colorbar": {
                          "outlinewidth": 0,
                          "ticks": ""
                        },
                        "colorscale": [
                          [
                            0,
                            "#0d0887"
                          ],
                          [
                            0.1111111111111111,
                            "#46039f"
                          ],
                          [
                            0.2222222222222222,
                            "#7201a8"
                          ],
                          [
                            0.3333333333333333,
                            "#9c179e"
                          ],
                          [
                            0.4444444444444444,
                            "#bd3786"
                          ],
                          [
                            0.5555555555555556,
                            "#d8576b"
                          ],
                          [
                            0.6666666666666666,
                            "#ed7953"
                          ],
                          [
                            0.7777777777777778,
                            "#fb9f3a"
                          ],
                          [
                            0.8888888888888888,
                            "#fdca26"
                          ],
                          [
                            1,
                            "#f0f921"
                          ]
                        ],
                        "type": "histogram2d"
                      }
                    ],
                    "histogram2dcontour": [
                      {
                        "colorbar": {
                          "outlinewidth": 0,
                          "ticks": ""
                        },
                        "colorscale": [
                          [
                            0,
                            "#0d0887"
                          ],
                          [
                            0.1111111111111111,
                            "#46039f"
                          ],
                          [
                            0.2222222222222222,
                            "#7201a8"
                          ],
                          [
                            0.3333333333333333,
                            "#9c179e"
                          ],
                          [
                            0.4444444444444444,
                            "#bd3786"
                          ],
                          [
                            0.5555555555555556,
                            "#d8576b"
                          ],
                          [
                            0.6666666666666666,
                            "#ed7953"
                          ],
                          [
                            0.7777777777777778,
                            "#fb9f3a"
                          ],
                          [
                            0.8888888888888888,
                            "#fdca26"
                          ],
                          [
                            1,
                            "#f0f921"
                          ]
                        ],
                        "type": "histogram2dcontour"
                      }
                    ],
                    "mesh3d": [
                      {
                        "colorbar": {
                          "outlinewidth": 0,
                          "ticks": ""
                        },
                        "type": "mesh3d"
                      }
                    ],
                    "parcoords": [
                      {
                        "line": {
                          "colorbar": {
                            "outlinewidth": 0,
                            "ticks": ""
                          }
                        },
                        "type": "parcoords"
                      }
                    ],
                    "pie": [
                      {
                        "automargin": true,
                        "type": "pie"
                      }
                    ],
                    "scatter": [
                      {
                        "fillpattern": {
                          "fillmode": "overlay",
                          "size": 10,
                          "solidity": 0.2
                        },
                        "type": "scatter"
                      }
                    ],
                    "scatter3d": [
                      {
                        "line": {
                          "colorbar": {
                            "outlinewidth": 0,
                            "ticks": ""
                          }
                        },
                        "marker": {
                          "colorbar": {
                            "outlinewidth": 0,
                            "ticks": ""
                          }
                        },
                        "type": "scatter3d"
                      }
                    ],
                    "scattercarpet": [
                      {
                        "marker": {
                          "colorbar": {
                            "outlinewidth": 0,
                            "ticks": ""
                          }
                        },
                        "type": "scattercarpet"
                      }
                    ],
                    "scattergeo": [
                      {
                        "marker": {
                          "colorbar": {
                            "outlinewidth": 0,
                            "ticks": ""
                          }
                        },
                        "type": "scattergeo"
                      }
                    ],
                    "scattergl": [
                      {
                        "marker": {
                          "colorbar": {
                            "outlinewidth": 0,
                            "ticks": ""
                          }
                        },
                        "type": "scattergl"
                      }
                    ],
                    "scattermapbox": [
                      {
                        "marker": {
                          "colorbar": {
                            "outlinewidth": 0,
                            "ticks": ""
                          }
                        },
                        "type": "scattermapbox"
                      }
                    ],
                    "scatterpolar": [
                      {
                        "marker": {
                          "colorbar": {
                            "outlinewidth": 0,
                            "ticks": ""
                          }
                        },
                        "type": "scatterpolar"
                      }
                    ],
                    "scatterpolargl": [
                      {
                        "marker": {
                          "colorbar": {
                            "outlinewidth": 0,
                            "ticks": ""
                          }
                        },
                        "type": "scatterpolargl"
                      }
                    ],
                    "scatterternary": [
                      {
                        "marker": {
                          "colorbar": {
                            "outlinewidth": 0,
                            "ticks": ""
                          }
                        },
                        "type": "scatterternary"
                      }
                    ],
                    "surface": [
                      {
                        "colorbar": {
                          "outlinewidth": 0,
                          "ticks": ""
                        },
                        "colorscale": [
                          [
                            0,
                            "#0d0887"
                          ],
                          [
                            0.1111111111111111,
                            "#46039f"
                          ],
                          [
                            0.2222222222222222,
                            "#7201a8"
                          ],
                          [
                            0.3333333333333333,
                            "#9c179e"
                          ],
                          [
                            0.4444444444444444,
                            "#bd3786"
                          ],
                          [
                            0.5555555555555556,
                            "#d8576b"
                          ],
                          [
                            0.6666666666666666,
                            "#ed7953"
                          ],
                          [
                            0.7777777777777778,
                            "#fb9f3a"
                          ],
                          [
                            0.8888888888888888,
                            "#fdca26"
                          ],
                          [
                            1,
                            "#f0f921"
                          ]
                        ],
                        "type": "surface"
                      }
                    ],
                    "table": [
                      {
                        "cells": {
                          "fill": {
                            "color": "#EBF0F8"
                          },
                          "line": {
                            "color": "white"
                          }
                        },
                        "header": {
                          "fill": {
                            "color": "#C8D4E3"
                          },
                          "line": {
                            "color": "white"
                          }
                        },
                        "type": "table"
                      }
                    ]
                  },
                  "layout": {
                    "annotationdefaults": {
                      "arrowcolor": "#2a3f5f",
                      "arrowhead": 0,
                      "arrowwidth": 1
                    },
                    "autotypenumbers": "strict",
                    "coloraxis": {
                      "colorbar": {
                        "outlinewidth": 0,
                        "ticks": ""
                      }
                    },
                    "colorscale": {
                      "diverging": [
                        [
                          0,
                          "#8e0152"
                        ],
                        [
                          0.1,
                          "#c51b7d"
                        ],
                        [
                          0.2,
                          "#de77ae"
                        ],
                        [
                          0.3,
                          "#f1b6da"
                        ],
                        [
                          0.4,
                          "#fde0ef"
                        ],
                        [
                          0.5,
                          "#f7f7f7"
                        ],
                        [
                          0.6,
                          "#e6f5d0"
                        ],
                        [
                          0.7,
                          "#b8e186"
                        ],
                        [
                          0.8,
                          "#7fbc41"
                        ],
                        [
                          0.9,
                          "#4d9221"
                        ],
                        [
                          1,
                          "#276419"
                        ]
                      ],
                      "sequential": [
                        [
                          0,
                          "#0d0887"
                        ],
                        [
                          0.1111111111111111,
                          "#46039f"
                        ],
                        [
                          0.2222222222222222,
                          "#7201a8"
                        ],
                        [
                          0.3333333333333333,
                          "#9c179e"
                        ],
                        [
                          0.4444444444444444,
                          "#bd3786"
                        ],
                        [
                          0.5555555555555556,
                          "#d8576b"
                        ],
                        [
                          0.6666666666666666,
                          "#ed7953"
                        ],
                        [
                          0.7777777777777778,
                          "#fb9f3a"
                        ],
                        [
                          0.8888888888888888,
                          "#fdca26"
                        ],
                        [
                          1,
                          "#f0f921"
                        ]
                      ],
                      "sequentialminus": [
                        [
                          0,
                          "#0d0887"
                        ],
                        [
                          0.1111111111111111,
                          "#46039f"
                        ],
                        [
                          0.2222222222222222,
                          "#7201a8"
                        ],
                        [
                          0.3333333333333333,
                          "#9c179e"
                        ],
                        [
                          0.4444444444444444,
                          "#bd3786"
                        ],
                        [
                          0.5555555555555556,
                          "#d8576b"
                        ],
                        [
                          0.6666666666666666,
                          "#ed7953"
                        ],
                        [
                          0.7777777777777778,
                          "#fb9f3a"
                        ],
                        [
                          0.8888888888888888,
                          "#fdca26"
                        ],
                        [
                          1,
                          "#f0f921"
                        ]
                      ]
                    },
                    "colorway": [
                      "#636efa",
                      "#EF553B",
                      "#00cc96",
                      "#ab63fa",
                      "#FFA15A",
                      "#19d3f3",
                      "#FF6692",
                      "#B6E880",
                      "#FF97FF",
                      "#FECB52"
                    ],
                    "font": {
                      "color": "#2a3f5f"
                    },
                    "geo": {
                      "bgcolor": "white",
                      "lakecolor": "white",
                      "landcolor": "#E5ECF6",
                      "showlakes": true,
                      "showland": true,
                      "subunitcolor": "white"
                    },
                    "hoverlabel": {
                      "align": "left"
                    },
                    "hovermode": "closest",
                    "mapbox": {
                      "style": "light"
                    },
                    "paper_bgcolor": "white",
                    "plot_bgcolor": "#E5ECF6",
                    "polar": {
                      "angularaxis": {
                        "gridcolor": "white",
                        "linecolor": "white",
                        "ticks": ""
                      },
                      "bgcolor": "#E5ECF6",
                      "radialaxis": {
                        "gridcolor": "white",
                        "linecolor": "white",
                        "ticks": ""
                      }
                    },
                    "scene": {
                      "xaxis": {
                        "backgroundcolor": "#E5ECF6",
                        "gridcolor": "white",
                        "gridwidth": 2,
                        "linecolor": "white",
                        "showbackground": true,
                        "ticks": "",
                        "zerolinecolor": "white"
                      },
                      "yaxis": {
                        "backgroundcolor": "#E5ECF6",
                        "gridcolor": "white",
                        "gridwidth": 2,
                        "linecolor": "white",
                        "showbackground": true,
                        "ticks": "",
                        "zerolinecolor": "white"
                      },
                      "zaxis": {
                        "backgroundcolor": "#E5ECF6",
                        "gridcolor": "white",
                        "gridwidth": 2,
                        "linecolor": "white",
                        "showbackground": true,
                        "ticks": "",
                        "zerolinecolor": "white"
                      }
                    },
                    "shapedefaults": {
                      "line": {
                        "color": "#2a3f5f"
                      }
                    },
                    "ternary": {
                      "aaxis": {
                        "gridcolor": "white",
                        "linecolor": "white",
                        "ticks": ""
                      },
                      "baxis": {
                        "gridcolor": "white",
                        "linecolor": "white",
                        "ticks": ""
                      },
                      "bgcolor": "#E5ECF6",
                      "caxis": {
                        "gridcolor": "white",
                        "linecolor": "white",
                        "ticks": ""
                      }
                    },
                    "title": {
                      "x": 0.05
                    },
                    "xaxis": {
                      "automargin": true,
                      "gridcolor": "white",
                      "linecolor": "white",
                      "ticks": "",
                      "title": {
                        "standoff": 15
                      },
                      "zerolinecolor": "white",
                      "zerolinewidth": 2
                    },
                    "yaxis": {
                      "automargin": true,
                      "gridcolor": "white",
                      "linecolor": "white",
                      "ticks": "",
                      "title": {
                        "standoff": 15
                      },
                      "zerolinecolor": "white",
                      "zerolinewidth": 2
                    }
                  }
                },
                "title": {
                  "text": "Kidney Mortality in 2015 by State"
                }
              }
            }
          },
          "metadata": {},
          "output_type": "display_data"
        }
      ],
      "source": [
        "import plotly.express as px\n",
        "\n",
        "# Create a choropleth map for DEATHS_2015\n",
        "fig = px.choropleth(Kidney_Mortality_merged,\n",
        "                    locations='Abbrevation',\n",
        "                    color='DEATHS_2015',\n",
        "                    hover_name='State',\n",
        "                    color_continuous_scale='Viridis',\n",
        "                    locationmode='USA-states',\n",
        "                    title=\"Kidney Mortality in 2015 by State\")\n",
        "\n",
        "# Update layout to focus on the US\n",
        "fig.update_geos(\n",
        "    visible=True,\n",
        "    lakecolor='white',\n",
        "    projection_type=\"albers usa\",\n",
        "    scope='usa',\n",
        ")\n",
        "\n",
        "# Update title and layout\n",
        "fig.update_layout(\n",
        "    title_text=\"Kidney Mortality in 2015 by State\",\n",
        "    geo=dict(showcoastlines=True, coastlinecolor=\"Black\")\n",
        ")\n",
        "\n",
        "# Show the plot\n",
        "fig.show()\n"
      ]
    },
    {
      "cell_type": "markdown",
      "metadata": {
        "id": "DhCBseBijN4X"
      },
      "source": []
    },
    {
      "cell_type": "markdown",
      "metadata": {
        "id": "pZK9v3gWji94"
      },
      "source": [
        "# **Conclusion**"
      ]
    },
    {
      "cell_type": "markdown",
      "metadata": {
        "id": "sNsiu9bBjn-o"
      },
      "source": [
        "The project focuses on studying kidney disease deaths across the U.S. using maps and charts to show where and how often they occur. This helps us understand which areas need more healthcare support. While this study specifically looks at kidney disease, the methods used here could help with other health issues too. By showing how to use data to spot health trends and problems, this project could guide better decisions in healthcare and other industries, making it a valuable tool for improving how we manage and prevent diseases. It also showcases how analyzing health data can lead to more informed public health strategies, ensuring resources are used efficiently to tackle major health challenges effectively."
      ]
    }
  ],
  "metadata": {
    "colab": {
      "collapsed_sections": [
        "v8lWEjhm8tDG",
        "f1NP723xkDzU",
        "QnMet2C7zYLG",
        "Ganjx7Ia5FIP"
      ],
      "provenance": [],
      "include_colab_link": true
    },
    "kernelspec": {
      "display_name": "Python 3",
      "name": "python3"
    },
    "language_info": {
      "codemirror_mode": {
        "name": "ipython",
        "version": 3
      },
      "file_extension": ".py",
      "mimetype": "text/x-python",
      "name": "python",
      "nbconvert_exporter": "python",
      "pygments_lexer": "ipython3",
      "version": "3.11.9"
    }
  },
  "nbformat": 4,
  "nbformat_minor": 0
}