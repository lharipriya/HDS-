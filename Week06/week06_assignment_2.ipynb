{
  "cells": [
    {
      "cell_type": "markdown",
      "metadata": {
        "nbgrader": {
          "grade": false,
          "grade_id": "intro",
          "locked": true,
          "schema_version": 1,
          "solution": false
        },
        "id": "S3iivT3mBmAF"
      },
      "source": [
        "# Week 6 Exercises\n",
        "\n",
        "_McKinney 6.1_\n",
        "\n",
        "There are multiple ways to solve the problems below.  You can use any one of several approaches.  For example, you can read CSV files using Pandas or the csv module.  Your score won't depend on which modules you choose to use unless explicitly noted below, but your programming style will still matter."
      ]
    },
    {
      "cell_type": "markdown",
      "metadata": {
        "id": "01Jdc8EEBmAH"
      },
      "source": [
        "### 30.0 Create sample data in local directory"
      ]
    },
    {
      "cell_type": "code",
      "execution_count": 19,
      "metadata": {
        "id": "7flRXDQUBmAH"
      },
      "outputs": [],
      "source": [
        "import pickle\n",
        "\n",
        "raw = b'\\x80\\x04\\x95\\xac\\x10\\x00\\x00\\x00\\x00\\x00\\x00X\\xa5\\x10\\x00\\x00{\\n  \"entry\": [\\n    {\\n      \"resource\": {\\n        \"resourceType\": \"AllergyIntolerance\",\\n        \"recordedDate\": \"2015-08-24T23:11:36Z\",\\n        \"status\": \"confirmed\",\\n        \"criticality\": \"CRITL\",\\n        \"onset\": \"2012-11-07T00:00:00Z\",\\n        \"patient\": {\\n          \"display\": \"Jason Argonaut\"\\n        },\\n        \"substance\": {\\n          \"text\": \"PENICILLIN G\",\\n          \"coding\": [\\n            {\\n              \"system\": \"http://www.nlm.nih.gov/research/umls/rxnorm\",\\n              \"code\": \"7980\",\\n              \"display\": \"PENICILLIN G\"\\n            },\\n            {\\n              \"system\": \"http://fdasis.nlm.nih.gov\",\\n              \"code\": \"Q42T66VG0C\",\\n              \"display\": \"PENICILLIN G\"\\n            }\\n          ]\\n        },\\n        \"reaction\": [\\n          {\\n            \"certainty\": \"confirmed\",\\n            \"onset\": \"2012-11-07T00:00:00Z\",\\n            \"manifestation\": [\\n              {\\n                \"text\": \"Hives\"\\n              }\\n            ],\\n            \"note\": {\\n              \"text\": \"Severity low enough to be prescribed if needed.\"\\n            }\\n          }\\n        ],\\n        \"note\": {\\n          \"text\": \"Severity low enough to be prescribed if needed.\"\\n        }\\n      }\\n    },\\n    {\\n      \"resource\": {\\n        \"resourceType\": \"AllergyIntolerance\",\\n        \"recordedDate\": \"2015-11-07T20:55:10Z\",\\n        \"status\": \"confirmed\",\\n        \"criticality\": \"CRITL\",\\n        \"id\": \"TPcWiBG2h2E114Vh0sRT8fQB\",\\n        \"onset\": \"2010-05-02T00:00:00Z\",\\n        \"patient\": {\\n          \"display\": \"Jason Argonaut\"\\n        },\\n        \"substance\": {\\n          \"text\": \"SHELLFISH-DERIVED PRODUCTS\",\\n          \"coding\": [\\n            {\\n              \"system\": \"http://hl7.org/fhir/ndfrt\",\\n              \"code\": \"N0000007624\",\\n              \"display\": \"SHELLFISH-DERIVED PRODUCTS\"\\n            }\\n          ]\\n        },\\n        \"reaction\": [\\n          {\\n            \"certainty\": \"confirmed\",\\n            \"onset\": \"2010-05-02T00:00:00Z\",\\n            \"manifestation\": [\\n              {\\n                \"text\": \"Itching\"\\n              }\\n            ]\\n          }\\n        ]\\n      }\\n    },\\n    {\\n      \"resource\": {\\n        \"resourceType\": \"AllergyIntolerance\",\\n        \"recordedDate\": \"2015-11-07T20:56:34Z\",\\n        \"status\": \"confirmed\",\\n        \"criticality\": \"CRITH\",\\n        \"id\": \"TKebKfLXzu6Sp.LY-IpvpmQB\",\\n        \"onset\": \"2014-03-07T00:00:00Z\",\\n        \"patient\": {\\n          \"display\": \"Jason Argonaut\"\\n        },\\n        \"substance\": {\\n          \"text\": \"STRAWBERRY\",\\n          \"coding\": [\\n            {\\n              \"system\": \"http://www.nlm.nih.gov/research/umls/rxnorm\",\\n              \"code\": \"892484\",\\n              \"display\": \"STRAWBERRY\"\\n            },\\n            {\\n              \"system\": \"http://fdasis.nlm.nih.gov\",\\n              \"code\": \"4J2TY8Y81V\",\\n              \"display\": \"STRAWBERRY\"\\n            }\\n          ]\\n        },\\n        \"reaction\": [\\n          {\\n            \"certainty\": \"confirmed\",\\n            \"onset\": \"2014-03-07T00:00:00Z\",\\n            \"manifestation\": [\\n              {\\n                \"text\": \"Anaphylaxis\"\\n              }\\n            ]\\n          }\\n        ]\\n      }\\n    },\\n    {\\n      \"resource\": {\\n        \"resourceType\": \"AllergyIntolerance\",\\n        \"recordedDate\": \"2015-08-24T23:11:36Z\",\\n        \"status\": \"confirmed\",\\n        \"criticality\": \"CRITL\",\\n        \"onset\": \"1978-12-08T00:00:00Z\",\\n        \"patient\": {\\n          \"display\": \"Paul Boal\"\\n        },\\n        \"substance\": {\\n          \"text\": \"PENICILLIN G\",\\n          \"coding\": [\\n            {\\n              \"system\": \"http://www.nlm.nih.gov/research/umls/rxnorm\",\\n              \"code\": \"7980\",\\n              \"display\": \"PENICILLIN G\"\\n            },\\n            {\\n              \"system\": \"http://fdasis.nlm.nih.gov\",\\n              \"code\": \"Q42T66VG0C\",\\n              \"display\": \"PENICILLIN G\"\\n            }\\n          ]\\n        },\\n        \"reaction\": [\\n          {\\n            \"certainty\": \"confirmed\",\\n            \"onset\": \"1978-12-08T00:00:00Z\",\\n            \"manifestation\": [\\n              {\\n                \"text\": \"Bruising\"\\n              }\\n            ],\\n            \"note\": {\\n              \"text\": \"Do not prescribe!\"\\n            }\\n          }\\n        ],\\n        \"note\": {\\n          \"text\": \"Do not prescribe!\"\\n        }\\n      }\\n    }\\n  ]\\n}\\n\\x94.'\n",
        "json_data = pickle.loads(raw)\n",
        "\n",
        "with open(\"allergies.json\", \"w\") as f:\n",
        "    f.write(json_data)"
      ]
    },
    {
      "cell_type": "markdown",
      "metadata": {
        "nbgrader": {
          "grade": false,
          "grade_id": "q1-description",
          "locked": true,
          "schema_version": 1,
          "solution": false
        },
        "id": "kJ4SSQzLBmAI"
      },
      "source": [
        "### 30.1 List of Allergies\n",
        "\n",
        "After running 30.0 to create your input data file, there is a file called `allergies.json` that contains a list of patient allergies. It is taken from sample data provided by the EHR vendor, Epic, here: https://open.epic.com/Clinical/Allergy\n",
        "\n",
        "Take some time to look at the structure of the file.  You can open it directly in Jupyter by clicking the _Home_ icon, then the _from_instructor_ folder, and then the _data_ folder.\n",
        "\n",
        "Within the file, you'll see that it is a dictionary with many items in it.  One of those items is called `entry` and that item is a list of things.  You can tell that because the item name is immediately followed by an opening square bracket, signifying the start of a list.  It's line 11 of the file: `  \"entry\": [`\n",
        "\n",
        "Write a function named `allergy_count(json_file)` that takes as one parameter the name of the JSON file and returns an integer number of entries in that file.  Your function should open the file, read the json into a Python object, and return how many items there are in the list of `entry`s."
      ]
    },
    {
      "cell_type": "code",
      "execution_count": 20,
      "metadata": {
        "id": "5oAEFsn4BmAJ"
      },
      "outputs": [],
      "source": [
        "import json\n",
        "ALLERGIES_FILE=\"allergies.json\""
      ]
    },
    {
      "cell_type": "code",
      "execution_count": 21,
      "metadata": {
        "nbgrader": {
          "grade": false,
          "grade_id": "q1-answer",
          "locked": false,
          "schema_version": 1,
          "solution": true
        },
        "id": "0lppclAqBmAJ"
      },
      "outputs": [],
      "source": [
        "def allergy_count(json_file):\n",
        "    \"\"\"\n",
        "    (str) -> int\n",
        "    json_file is the path to a JSON file containing allergy data.\n",
        "    This function returns the count of allergies found in the JSON file.\n",
        "    If the file is not found or an error occurs while processing the file, it returns 0.\n",
        "    The function takes a single argument, json_file, which is a string representing the path to a JSON file containing allergy data.\n",
        "    It returns an integer representing the count of allergies in the JSON file. It may raise a FileNotFoundError if the specified JSON file is not found, or a general Exception if an error occurs while processing the file.\n",
        "\n",
        "    Example:\n",
        "    >>> allergy_count(\"allergies.json\")\n",
        "        4\n",
        "    \"\"\"\n",
        "    try:\n",
        "        # Open the JSON file in read mode\n",
        "        with open(json_file, 'r') as file:\n",
        "            # Load the data from the JSON file\n",
        "            data = json.load(file)\n",
        "            # Return the count of entries under the 'entry' key in the JSON file\n",
        "            return len(data.get('entry', []))\n",
        "    except FileNotFoundError:\n",
        "        # Handle the case where the file is not found\n",
        "        print(f\"File '{json_file}' is not found.\")\n",
        "        return 0\n",
        "    except Exception as e:\n",
        "        # Handle any other errors that may occur while processing the file\n",
        "        print(f\"An error occurred: {str(e)}\")\n",
        "        return 0"
      ]
    },
    {
      "cell_type": "code",
      "execution_count": 22,
      "metadata": {
        "id": "noJK0xJYBmAJ",
        "outputId": "fb610509-c1c2-4ffc-fcff-873d97fec556",
        "colab": {
          "base_uri": "https://localhost:8080/"
        }
      },
      "outputs": [
        {
          "output_type": "execute_result",
          "data": {
            "text/plain": [
              "4"
            ]
          },
          "metadata": {},
          "execution_count": 22
        }
      ],
      "source": [
        "allergy_count(ALLERGIES_FILE)"
      ]
    },
    {
      "cell_type": "code",
      "execution_count": 23,
      "metadata": {
        "nbgrader": {
          "grade": true,
          "grade_id": "q1-tests",
          "locked": true,
          "points": 5,
          "schema_version": 1,
          "solution": false
        },
        "id": "4joJOdCqBmAJ"
      },
      "outputs": [],
      "source": [
        "assert type(allergy_count(ALLERGIES_FILE)) == int\n",
        "assert allergy_count(ALLERGIES_FILE) == 4"
      ]
    },
    {
      "cell_type": "markdown",
      "metadata": {
        "id": "ownDXNeJBmAJ"
      },
      "source": [
        "### 30.2 Number of Patients\n",
        "\n",
        "If you dig a little bit deaper into this list of allergies, you'll see that each result has a patient associated with it.  Create a funcation called `patient_count(json_file)` that will count how many unique patients we have in this JSON structure.  "
      ]
    },
    {
      "cell_type": "code",
      "execution_count": 24,
      "metadata": {
        "id": "7FmacL2_BmAK"
      },
      "outputs": [],
      "source": [
        "def patient_count(json_file):\n",
        "    \"\"\"\n",
        "    (str) -> int\n",
        "    json_file is the path to a JSON file containing allergy data.\n",
        "    This function returns the count of unique patients found in the allergies data.\n",
        "    It takes one argument, json_file, which is a string representing the path to a JSON file containing allergy data.\n",
        "    The function returns an integer representing the count of distinct patients in the data.\n",
        "    If the specified JSON file is not found, it raises a FileNotFoundError. If an error occurs while processing the file, a general Exception is raised.\n",
        "\n",
        "    Example:\n",
        "        >>> patient_count(\"allergies.json\")\n",
        "        2\n",
        "    \"\"\"\n",
        "    unique_patients = set()  # Initialize an empty set to store unique patients\n",
        "\n",
        "    # Open the JSON file in read mode\n",
        "    with open(json_file, 'r') as file:\n",
        "        # Load the data from the JSON file\n",
        "        data = json.load(file)\n",
        "        # Iterate through each entry in the 'entry' list\n",
        "        for entry in data.get('entry', []):\n",
        "            resource = entry.get('resource', {})  # Get the 'resource' dictionary from each entry\n",
        "            patient = resource.get('patient', None)  # Extract the patient information, if available\n",
        "            if patient is not None:\n",
        "                # Convert the patient dictionary to a tuple and add it to the set of unique patients\n",
        "                unique_patients.add(tuple(patient.items()))\n",
        "\n",
        "    return len(unique_patients)  # Return the count of unique patients"
      ]
    },
    {
      "cell_type": "code",
      "execution_count": 25,
      "metadata": {
        "id": "8r6ores-BmAK",
        "outputId": "ad35df3e-05c7-458b-e145-f389e3b31dbb",
        "colab": {
          "base_uri": "https://localhost:8080/"
        }
      },
      "outputs": [
        {
          "output_type": "execute_result",
          "data": {
            "text/plain": [
              "2"
            ]
          },
          "metadata": {},
          "execution_count": 25
        }
      ],
      "source": [
        "patient_count(ALLERGIES_FILE)"
      ]
    },
    {
      "cell_type": "code",
      "execution_count": 26,
      "metadata": {
        "id": "UsVsxbM1BmAK"
      },
      "outputs": [],
      "source": [
        "assert type(patient_count(ALLERGIES_FILE)) == int\n",
        "assert patient_count(ALLERGIES_FILE) == 2"
      ]
    },
    {
      "cell_type": "markdown",
      "metadata": {
        "id": "6Q6zruD0BmAK"
      },
      "source": [
        "### 30.3 How Many Allergies per Patient\n",
        "\n",
        "Although each entry is a separate allergy, several of them are for the same patient.  Write a function called `allergy_per_patient(json_file)` that counts up how many allergies each patient has.\n"
      ]
    },
    {
      "cell_type": "code",
      "execution_count": 27,
      "metadata": {
        "id": "wsjmnRTSBmAK"
      },
      "outputs": [],
      "source": [
        "def allergy_per_patient(json_file):\n",
        "    \"\"\"\n",
        "    (str) -> dict\n",
        "    json_file is the path to a JSON file containing allergy data.\n",
        "    This function returns a dictionary that maps each patient's name to the count of allergies they have.\n",
        "    The function takes one argument, json_file, which is a string representing the path to a JSON file containing allergy information.\n",
        "    It returns a dictionary where the keys are patient names, and the values are the counts of allergies for each patient.\n",
        "    If the specified JSON file is not found, it raises a FileNotFoundError. If an error occurs while processing the file, a general Exception is raised.\n",
        "\n",
        "    Example:\n",
        "        >>> allergy_per_patient(\"allergies.json\")\n",
        "        {'Paul Boal': 1, 'Jason Argonaut': 3}\n",
        "    \"\"\"\n",
        "    allergies_by_patient = {}  # Initialize a dictionary to store allergies by patient\n",
        "\n",
        "    # Open the JSON file in read mode\n",
        "    with open(json_file, 'r') as file:\n",
        "        # Load the data from the JSON file\n",
        "        data = json.load(file)\n",
        "        # Iterate through each entry in the 'entry' list\n",
        "        for entry in data.get('entry', []):\n",
        "            resource = entry.get('resource', {})  # Get the 'resource' dictionary from each entry\n",
        "            patient = resource.get('patient', None)  # Extract the patient information, if available\n",
        "            if patient is not None:\n",
        "                # Extract the patient's name from the patient dictionary\n",
        "                patient_name = patient.get('display', None)\n",
        "                if patient_name:\n",
        "                    # Update the count of allergies for the patient in the dictionary\n",
        "                    if patient_name in allergies_by_patient:\n",
        "                        allergies_by_patient[patient_name] += 1\n",
        "                    else:\n",
        "                        allergies_by_patient[patient_name] = 1\n",
        "\n",
        "    return allergies_by_patient  # Return the dictionary with patient names and allergy counts"
      ]
    },
    {
      "cell_type": "code",
      "execution_count": 28,
      "metadata": {
        "id": "0TjmH0pXBmAL",
        "outputId": "21418da9-830a-42e0-ae01-84d19a3aa7be",
        "colab": {
          "base_uri": "https://localhost:8080/"
        }
      },
      "outputs": [
        {
          "output_type": "execute_result",
          "data": {
            "text/plain": [
              "{'Jason Argonaut': 3, 'Paul Boal': 1}"
            ]
          },
          "metadata": {},
          "execution_count": 28
        }
      ],
      "source": [
        "allergy_per_patient(ALLERGIES_FILE)"
      ]
    },
    {
      "cell_type": "code",
      "execution_count": 29,
      "metadata": {
        "id": "NSHcyClDBmAL"
      },
      "outputs": [],
      "source": [
        "assert type(allergy_per_patient(ALLERGIES_FILE)) == dict\n",
        "assert allergy_per_patient(ALLERGIES_FILE) == {'Paul Boal': 1, 'Jason Argonaut': 3}"
      ]
    },
    {
      "cell_type": "markdown",
      "metadata": {
        "nbgrader": {
          "grade": false,
          "grade_id": "q2-question",
          "locked": true,
          "schema_version": 1,
          "solution": false
        },
        "id": "zguYMxDQBmAL"
      },
      "source": [
        "### 30.4 Patient Allergies and Reaction\n",
        "\n",
        "You'll see in the file that each of the items in the `entry` list have several other attributes including a patient name, substance text representation, and a reaction manifestation.  Create a function named `allergy_list(json_file)` that will create an output list that has patient name, allergy, and reaction for each `entry`.  The actual result you should get will be:\n",
        "\n",
        "```python\n",
        "[['Jason Argonaut', 'PENICILLIN G', 'Hives'],\n",
        " ['Paul Boal', 'PENICILLIN G', 'Bruising'],\n",
        " ['Jason Argonaut', 'SHELLFISH-DERIVED PRODUCTS', 'Itching'],\n",
        " ['Jason Argonaut', 'STRAWBERRY', 'Anaphylaxis']]\n",
        "```\n",
        "\n",
        "You'll notice that the reaction and the manifestation of that action are lists.  You only need to capture the first reaction and the first manifestation of the action.  That is, if there is a list of things, just output the first one."
      ]
    },
    {
      "cell_type": "code",
      "execution_count": 30,
      "metadata": {
        "nbgrader": {
          "grade": false,
          "grade_id": "q2-answer",
          "locked": false,
          "schema_version": 1,
          "solution": true
        },
        "id": "KieiY03XBmAL"
      },
      "outputs": [],
      "source": [
        "def allergy_list(json_file):\n",
        "    \"\"\"\n",
        "    (str) -> list\n",
        "    json_file is the path to a JSON file containing allergy data.\n",
        "    This function returns a list of lists, where each inner list contains details about an allergy entry: the patient name, the allergy substance, and the first reaction description.\n",
        "    It takes one argument, json_file, which is a string representing the path to a JSON file with allergy data.\n",
        "    The function returns a list of formatted entries. If the JSON file is not found, a FileNotFoundError is raised, and if an error occurs while processing the file, a general Exception is raised.\n",
        "\n",
        "    Example:\n",
        "        >>> allergy_list(\"allergies.json\")\n",
        "        [['Jason Argonaut', 'PENICILLIN G', 'Hives'],\n",
        "         ['Jason Argonaut', 'SHELLFISH-DERIVED PRODUCTS', 'Itching'],\n",
        "         ['Jason Argonaut', 'STRAWBERRY', 'Anaphylaxis'],\n",
        "         ['Paul Boal', 'PENICILLIN G', 'Bruising']]\n",
        "    \"\"\"\n",
        "    result = []  # Initialize an empty list to store allergy details\n",
        "\n",
        "    # Open the JSON file in read mode\n",
        "    with open(json_file, 'r') as file:\n",
        "        # Load the data from the JSON file\n",
        "        data = json.load(file)\n",
        "        # Iterate through each entry in the 'entry' list\n",
        "        for entry in data.get('entry', []):\n",
        "            resource = entry.get('resource', {})\n",
        "\n",
        "            # Extract the patient name\n",
        "            patient_name = resource.get('patient', {}).get('display', None)\n",
        "\n",
        "            # Extract the allergy substance\n",
        "            substance = resource.get('substance', {}).get('text', None)\n",
        "\n",
        "            # Extract the text from the first reaction, if available\n",
        "            reactions = resource.get('reaction', [])\n",
        "            reaction_text = reactions[0].get('manifestation', [{}])[0].get('text', None) if reactions else None\n",
        "\n",
        "            # Append the details to the result list if all elements are present\n",
        "            if patient_name and substance and reaction_text:\n",
        "                result.append([patient_name, substance, reaction_text])\n",
        "\n",
        "    # Sort the result by patient name for better organization\n",
        "    result.sort(key=lambda x: x[0])\n",
        "\n",
        "    return result  # Return the list of allergy details"
      ]
    },
    {
      "cell_type": "code",
      "execution_count": 31,
      "metadata": {
        "id": "uWlLTKgUBmAL",
        "outputId": "9b1e7035-f845-446e-9fb5-0ba3b5399c8b",
        "colab": {
          "base_uri": "https://localhost:8080/"
        }
      },
      "outputs": [
        {
          "output_type": "execute_result",
          "data": {
            "text/plain": [
              "[['Jason Argonaut', 'PENICILLIN G', 'Hives'],\n",
              " ['Jason Argonaut', 'SHELLFISH-DERIVED PRODUCTS', 'Itching'],\n",
              " ['Jason Argonaut', 'STRAWBERRY', 'Anaphylaxis'],\n",
              " ['Paul Boal', 'PENICILLIN G', 'Bruising']]"
            ]
          },
          "metadata": {},
          "execution_count": 31
        }
      ],
      "source": [
        "allergy_list(ALLERGIES_FILE)"
      ]
    },
    {
      "cell_type": "code",
      "execution_count": 32,
      "metadata": {
        "nbgrader": {
          "grade": true,
          "grade_id": "q2-tests",
          "locked": true,
          "points": 10,
          "schema_version": 1,
          "solution": false
        },
        "id": "dzCmq_raBmAM"
      },
      "outputs": [],
      "source": [
        "assert allergy_list(ALLERGIES_FILE) == [['Jason Argonaut', 'PENICILLIN G', 'Hives'],\n",
        " ['Jason Argonaut', 'SHELLFISH-DERIVED PRODUCTS', 'Itching'],\n",
        " ['Jason Argonaut', 'STRAWBERRY', 'Anaphylaxis'],\n",
        " ['Paul Boal', 'PENICILLIN G', 'Bruising']]\n"
      ]
    },
    {
      "cell_type": "markdown",
      "metadata": {
        "nbgrader": {
          "grade": false,
          "grade_id": "q3-question",
          "locked": true,
          "schema_version": 1,
          "solution": false
        },
        "id": "yypnRCR7BmAM"
      },
      "source": [
        "### 30.5 Allergy Reaction\n",
        "\n",
        "Write a function called `allergy_reaction(json_file,patient,substance)` that takes three parameter and returns the reaction that will happen if the patient takes the specified substance.  You can solve this, in part, by calling your `allergy_list` function inside your new `allergy_reaction` function.\n",
        "\n",
        "If the substance is not found in the allergy list, the function should return None."
      ]
    },
    {
      "cell_type": "code",
      "execution_count": 33,
      "metadata": {
        "nbgrader": {
          "grade": false,
          "grade_id": "q3-answer",
          "locked": false,
          "schema_version": 1,
          "solution": true
        },
        "id": "TuYVJkQGBmAM"
      },
      "outputs": [],
      "source": [
        "def allergy_reaction(json_file, patient, substance):\n",
        "    \"\"\"\n",
        "    (str, str, str) -> str or None\n",
        "    json_file is the path to a JSON file containing allergy data.\n",
        "    This function retrieves the reaction associated with a specific allergen or substance for a given patient.\n",
        "    It takes three arguments: json_file, which is a string representing the path to the JSON file; patient, which is the name of the patient; and substance, which is the name of the allergen.\n",
        "    The function returns a string representing the reaction if the substance is found for the specified patient, or None if the substance is not listed in the patient's allergy information.\n",
        "    If the JSON file is not found, a FileNotFoundError is raised, and if an error occurs while processing the file, a general Exception is raised.\n",
        "\n",
        "    Example:\n",
        "        >>> allergy_reaction(\"allergies.json\", 'Jason Argonaut', 'PENICILLIN G')\n",
        "        'Hives'\n",
        "        >>> allergy_reaction(\"allergies.json\", 'Jason Argonaut', 'SHELLFISH-DERIVED PRODUCTS')\n",
        "        'Itching'\n",
        "        >>> allergy_reaction(\"allergies.json\", 'Jason Argonaut', 'STRAWBERRY')\n",
        "        'Anaphylaxis'\n",
        "        >>> allergy_reaction(\"allergies.json\", 'Jason Argonaut', 'PENICILLIN')\n",
        "        None\n",
        "        >>> allergy_reaction(\"allergies.json\", 'Paul Boal', 'PENICILLIN G')\n",
        "        'Bruising'\n",
        "    \"\"\"\n",
        "    try:\n",
        "        # Open and read the JSON file\n",
        "        with open(json_file, 'r') as file:\n",
        "            data = json.load(file)\n",
        "\n",
        "        # Iterate over each entry in the 'entry' list\n",
        "        for entry in data.get('entry', []):\n",
        "            resource = entry.get('resource', {})\n",
        "\n",
        "            # Check if the patient matches\n",
        "            patient_name = resource.get('patient', {}).get('display', None)\n",
        "            if patient_name == patient:\n",
        "\n",
        "                # Check if the substance matches\n",
        "                substance_name = resource.get('substance', {}).get('text', None)\n",
        "                if substance_name == substance:\n",
        "\n",
        "                    # Retrieve the reaction for the matched substance\n",
        "                    reactions = resource.get('reaction', [])\n",
        "                    if reactions:\n",
        "                        return reactions[0].get('manifestation', [{}])[0].get('text', None)\n",
        "\n",
        "        # Return None if no match is found\n",
        "        return None\n",
        "\n",
        "    except FileNotFoundError:\n",
        "        print(f\"File '{json_file}' is not found.\")\n",
        "        return None\n",
        "    except Exception as e:\n",
        "        print(f\"An error occurred: {str(e)}\")\n",
        "        return None"
      ]
    },
    {
      "cell_type": "code",
      "execution_count": 34,
      "metadata": {
        "id": "jpnmKTSrBmAM",
        "outputId": "4f194c87-2119-46b6-90c1-153cdfaaaace",
        "colab": {
          "base_uri": "https://localhost:8080/",
          "height": 36
        }
      },
      "outputs": [
        {
          "output_type": "execute_result",
          "data": {
            "text/plain": [
              "'Hives'"
            ],
            "application/vnd.google.colaboratory.intrinsic+json": {
              "type": "string"
            }
          },
          "metadata": {},
          "execution_count": 34
        }
      ],
      "source": [
        "allergy_reaction(ALLERGIES_FILE, 'Jason Argonaut', 'PENICILLIN G')"
      ]
    },
    {
      "cell_type": "code",
      "execution_count": 35,
      "metadata": {
        "nbgrader": {
          "grade": true,
          "grade_id": "q3-tests",
          "locked": true,
          "points": 5,
          "schema_version": 1,
          "solution": false
        },
        "id": "FTym65QrBmAM"
      },
      "outputs": [],
      "source": [
        "assert allergy_reaction(ALLERGIES_FILE, 'Jason Argonaut', 'PENICILLIN G') == 'Hives'\n",
        "assert allergy_reaction(ALLERGIES_FILE, 'Jason Argonaut', 'SHELLFISH-DERIVED PRODUCTS') == 'Itching'\n",
        "assert allergy_reaction(ALLERGIES_FILE, 'Jason Argonaut', 'STRAWBERRY') == 'Anaphylaxis'\n",
        "assert allergy_reaction(ALLERGIES_FILE, 'Jason Argonaut', 'PENICILLIN') == None\n",
        "assert allergy_reaction(ALLERGIES_FILE, 'Paul Boal', 'PENICILLIN G') == 'Bruising'"
      ]
    },
    {
      "cell_type": "markdown",
      "metadata": {
        "id": "gxpasaWPBmAM"
      },
      "source": [
        "---\n",
        "\n",
        "## Check your work above\n",
        "\n",
        "If you didn't get them all correct, take a few minutes to think through those that aren't correct.\n",
        "\n",
        "\n",
        "## Submitting Your Work\n",
        "\n",
        "In order to submit your work, you'll need to save this notebook file back to GitHub.  To do that in Google Colab:\n",
        "1. File -> Save a Copy in GitHub\n",
        "2. Make sure your HDS5210 repository is selected\n",
        "3. Make sure the file name includes the week number like this: `week06/week06_assignment_2.ipynb`\n",
        "4. Add a commit message that means something\n",
        "\n",
        "**Be sure week names are lowercase and use a two digit week number!!**\n",
        "\n",
        "**Be sure you use the same file name provided by the instructor!!**\n",
        "\n"
      ]
    }
  ],
  "metadata": {
    "celltoolbar": "Create Assignment",
    "kernelspec": {
      "display_name": "Python 3",
      "language": "python",
      "name": "python3"
    },
    "language_info": {
      "codemirror_mode": {
        "name": "ipython",
        "version": 3
      },
      "file_extension": ".py",
      "mimetype": "text/x-python",
      "name": "python",
      "nbconvert_exporter": "python",
      "pygments_lexer": "ipython3",
      "version": "3.9.6"
    },
    "colab": {
      "provenance": []
    }
  },
  "nbformat": 4,
  "nbformat_minor": 0
}